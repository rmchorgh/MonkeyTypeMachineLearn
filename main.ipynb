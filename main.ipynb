{
	"cells": [
		{
			"cell_type": "markdown",
			"metadata": {},
			"source": [
				"<style type=\"text/css\">\n",
				"\t.myimg {\n",
				"\t\tmax-width: 500px !important;\n",
				"\t}\n",
				"</style>\n"
			]
		},
		{
			"cell_type": "markdown",
			"metadata": {},
			"source": [
				"# Monkey Type Machine Learn\n",
				"\n",
				"**A Project by Richard McHorgh**\n"
			]
		},
		{
			"cell_type": "markdown",
			"metadata": {},
			"source": [
				"## Introduction\n"
			]
		},
		{
			"cell_type": "markdown",
			"metadata": {},
			"source": [
				"In the middle of October, inspired by YouTube creators, namely [Ben Vallack](https://www.youtube.com/benvallack), I began designing the printed circuit boards (PCBs), keycaps, and case plates that would eventually become the ortholinear, split, and thumb-maximizing keyboard I’m using to type this report. I thought it would be the perfect present for my birthday, but the main reason for starting this project was to protect my hands and wrists from the threat of carpal tunnel syndrome and other diseases like it.\n"
			]
		},
		{
			"cell_type": "markdown",
			"metadata": {},
			"source": [
				"Unlike the traditional row-staggered layout one would find on the majority of laptop and store-bought keyboards, ortholinear keyboards arrange the keys in a strict grid matrix. This allows for a more ergonomic and efficient typing experience, as each key is positioned directly under the finger that would normally press it, rather than back and shifted to the left or right by an arbitrary amount, thereby reducing strain on the fingers and wrists, and the risk of injuries such as carpal tunnel syndrome.\n"
			]
		},
		{
			"cell_type": "markdown",
			"metadata": {},
			"source": [
				"<img class='myimg' alt='A picture of the completed keyboard' src='/Users/richard/Documents/umd/cmsc320/final/img/kb_hat.jpg'/>\n",
				"\n",
				"*A picture of the completed keyboard*"
			]
		},
		{
			"cell_type": "markdown",
			"metadata": {},
			"source": [
				"Furthermore, strain on the fingers, wrists, and back is reduced by the keyboard being split into halves between the positions of the 5 and 6 keys. Traditional keyboards require their users’ hands to be unnaturally close together, forcing their wrists to be at an angle, whereas, with a split keyboard, one’s hands can be straight and as far apart as the cable joining the two halves allows. Arms being in their natural position translates to hands being straight and in as comfortable of a position as possible, especially during long typing sessions.\n"
			]
		},
		{
			"cell_type": "markdown",
			"metadata": {},
			"source": [
				"<img class='myimg' src='/Users/richard/Documents/umd/cmsc320/final/img/strain.jpg'/>\n",
				"\n",
				"_Hand angles while using a row staggered keyboard and a split keyboard_"
			]
		},
		{
			"cell_type": "markdown",
			"metadata": {},
			"source": [
				"The third ergonomic feature of the design are the programmable thumb clusters found on the last row of each half of the keyboard. Row staggered keyboards only use the operator’s thumbs for the spacebar, so to perform shortcuts with the Control, Command, Alt, or any other non-alphanumeric keys, hands must be moved off the keyboard. Each time the user’s fingers move off the home row introduces more strain. This strain is compounded when the entire hand must be moved to type a key. With a programmable thumb cluster, all movement (Up, Left, Home, etc.), page management (Alt-Tab), and text manipulation (Undo, Cut, Paste, etc.) shortcuts can be performed without lifting the hands from either half of the keyboard.\n"
			]
		},
		{
			"cell_type": "markdown",
			"metadata": {},
			"source": [
				"All the ergonomic design features of the keyboard would be less effective without a layout that can magnify them, so instead of the traditional QWERTY keyboard layout, my keyboard was programmed to use a slightly modified version of the Colemak-DHM layout that I named SemiColemak. Standard Colemak-DHM places letters on the keyboard by their frequency in English words and the relative strength of the finger that is meant to press them. The more common the letter, the stronger the finger above it. Contrarily, QWERTY is organized to minimize the jams of a typewriter, which is nonsensical in an era of electrically controlled keyboards.\n"
			]
		},
		{
			"cell_type": "markdown",
			"metadata": {},
			"source": [
				"However, due to QWERTY’s ubiquity, it was the keyboard layout I learned to type on in elementary school. Text manipulation shortcuts are based on the QWERTY layout as well, so SemiColemak’s proximity to QWERTY, with 11 keys in the same position, including z, x, c, and v, make it easier to learn compared to other ergonomic layouts such as Dvorak or Workman.\n"
			]
		},
		{
			"cell_type": "markdown",
			"metadata": {},
			"source": [
				"Although SemiColemak is among the easiest layouts for a transition from QWERTY, the relearning process has been as strenuous for my muscle memory as QWERTY was for my hands and wrists. Even now, in my third week of solely using the keyboard, my typing speed in SemiColemak is barely approaching half of my average on QWERTY.\n"
			]
		},
		{
			"cell_type": "markdown",
			"metadata": {},
			"source": [
				"The object of this tutorial is to identify the points of error in typing the words that I use most frequently and use that data to classify words featuring my weaknesses. Practicing this set of words, and other words that will help to increase my speed and accuracy typing on my keyboard.\n"
			]
		},
		{
			"cell_type": "markdown",
			"metadata": {},
			"source": [
				"## Collecting the raw data\n"
			]
		},
		{
			"cell_type": "markdown",
			"metadata": {},
			"source": [
				"As well as being the inspiration for this project's name, the competitive type racing website, Monkey See Monkey Type, which is generally abbreviated to Monkey Type, is the source of the data used in this project. By inserting the JavaScript keylogger written below into the Developer Mode Console in a browser, I was able to record the letter I pressed, the letter I should have pressed, and the source of the text, among other datapoints about the content of the test being taken.\n"
			]
		},
		{
			"cell_type": "code",
			"execution_count": 1,
			"metadata": {},
			"outputs": [
				{
					"name": "stdout",
					"output_type": "stream",
					"text": [
						"\u001b[0mvar\u001b[0m \u001b[0mmonkeyQueue\u001b[0m \u001b[0;34m=\u001b[0m \u001b[0;34m[\u001b[0m\u001b[0;34m]\u001b[0m\u001b[0;34m;\u001b[0m\u001b[0;34m\u001b[0m\n",
						"\u001b[0;34m\u001b[0m\u001b[0mvar\u001b[0m \u001b[0mmonkeyList\u001b[0m \u001b[0;34m=\u001b[0m \u001b[0;34m[\u001b[0m\u001b[0;34m]\u001b[0m\u001b[0;34m;\u001b[0m\u001b[0;34m\u001b[0m\n",
						"\u001b[0;34m\u001b[0m\u001b[0mvar\u001b[0m \u001b[0mmonkeyListen\u001b[0m \u001b[0;34m=\u001b[0m \u001b[0;34m(\u001b[0m\u001b[0;34m)\u001b[0m \u001b[0;34m=\u001b[0m\u001b[0;34m>\u001b[0m \u001b[0;34m{\u001b[0m\u001b[0;34m\u001b[0m\n",
						"\u001b[0;34m\u001b[0m        \u001b[0mlet\u001b[0m \u001b[0mlayout\u001b[0m\u001b[0;34m,\u001b[0m \u001b[0mlanguage\u001b[0m\u001b[0;34m,\u001b[0m \u001b[0mfunbox\u001b[0m\u001b[0;34m,\u001b[0m \u001b[0mtype\u001b[0m\u001b[0;34m,\u001b[0m \u001b[0mlength\u001b[0m\u001b[0;34m,\u001b[0m \u001b[0mactiveWord\u001b[0m\u001b[0;34m;\u001b[0m\u001b[0;34m\u001b[0m\n",
						"\u001b[0;34m\u001b[0m        \u001b[0mlet\u001b[0m \u001b[0mtestNum\u001b[0m \u001b[0;34m=\u001b[0m \u001b[0;36m0\u001b[0m\u001b[0;34m;\u001b[0m\u001b[0;34m\u001b[0m\n",
						"\u001b[0;34m\u001b[0m\u001b[0;34m\u001b[0m\n",
						"\u001b[0;34m\u001b[0m        \u001b[0mlet\u001b[0m \u001b[0msetup\u001b[0m \u001b[0;34m=\u001b[0m \u001b[0;34m(\u001b[0m\u001b[0;34m)\u001b[0m \u001b[0;34m=\u001b[0m\u001b[0;34m>\u001b[0m \u001b[0;34m{\u001b[0m\u001b[0;34m\u001b[0m\n",
						"\u001b[0;34m\u001b[0m                \u001b[0mlet\u001b[0m \u001b[0mwords\u001b[0m \u001b[0;34m=\u001b[0m \u001b[0mdocument\u001b[0m\u001b[0;34m.\u001b[0m\u001b[0mquerySelector\u001b[0m\u001b[0;34m(\u001b[0m\u001b[0;34m'#words'\u001b[0m\u001b[0;34m)\u001b[0m\u001b[0;34m;\u001b[0m\u001b[0;34m\u001b[0m\n",
						"\u001b[0;34m\u001b[0m                \u001b[0mmonkeyQueue\u001b[0m \u001b[0;34m=\u001b[0m \u001b[0mArray\u001b[0m\u001b[0;34m.\u001b[0m\u001b[0;32mfrom\u001b[0m\u001b[0;34m(\u001b[0m\u001b[0mwords\u001b[0m\u001b[0;34m.\u001b[0m\u001b[0mchildren\u001b[0m\u001b[0;34m)\u001b[0m\u001b[0;34m.\u001b[0m\u001b[0mmap\u001b[0m\u001b[0;34m(\u001b[0m\u001b[0;34m(\u001b[0m\u001b[0mv\u001b[0m\u001b[0;34m,\u001b[0m \u001b[0mi\u001b[0m\u001b[0;34m,\u001b[0m \u001b[0ma\u001b[0m\u001b[0;34m)\u001b[0m \u001b[0;34m=\u001b[0m\u001b[0;34m>\u001b[0m \u001b[0;34m{\u001b[0m\u001b[0;34m\u001b[0m\n",
						"\u001b[0;34m\u001b[0m                        \u001b[0;32mreturn\u001b[0m \u001b[0mi\u001b[0m \u001b[0;34m<\u001b[0m \u001b[0ma\u001b[0m\u001b[0;34m.\u001b[0m\u001b[0mlength\u001b[0m \u001b[0;34m-\u001b[0m \u001b[0;36m1\u001b[0m\u001b[0;31m \u001b[0m\u001b[0;31m?\u001b[0m\u001b[0;31m \u001b[0m\u001b[0;31m`\u001b[0m\u001b[0;31m$\u001b[0m\u001b[0;34m{\u001b[0m\u001b[0mv\u001b[0m\u001b[0;34m.\u001b[0m\u001b[0minnerText\u001b[0m\u001b[0;34m}\u001b[0m\u001b[0;31m \u001b[0m\u001b[0;31m`\u001b[0m \u001b[0;34m:\u001b[0m \u001b[0mv\u001b[0m\u001b[0;34m.\u001b[0m\u001b[0minnerText\u001b[0m\u001b[0;34m;\u001b[0m\u001b[0;34m\u001b[0m\n",
						"\u001b[0;34m\u001b[0m                \u001b[0;34m}\u001b[0m\u001b[0;34m,\u001b[0m \u001b[0;34m''\u001b[0m\u001b[0;34m)\u001b[0m\u001b[0;34m;\u001b[0m\u001b[0;34m\u001b[0m\n",
						"\u001b[0;34m\u001b[0m\u001b[0;34m\u001b[0m\n",
						"\u001b[0;34m\u001b[0m                \u001b[0mlet\u001b[0m \u001b[0moptions\u001b[0m \u001b[0;34m=\u001b[0m \u001b[0mArray\u001b[0m\u001b[0;34m.\u001b[0m\u001b[0;32mfrom\u001b[0m\u001b[0;34m(\u001b[0m\u001b[0;34m\u001b[0m\n",
						"\u001b[0;34m\u001b[0m                        \u001b[0mdocument\u001b[0m\u001b[0;34m\u001b[0m\n",
						"\u001b[0;34m\u001b[0m                                \u001b[0;34m.\u001b[0m\u001b[0mquerySelector\u001b[0m\u001b[0;34m(\u001b[0m\u001b[0;34m'#testModesNotice'\u001b[0m\u001b[0;34m)\u001b[0m\u001b[0;34m\u001b[0m\n",
						"\u001b[0;34m\u001b[0m                                \u001b[0;34m.\u001b[0m\u001b[0mquerySelectorAll\u001b[0m\u001b[0;34m(\u001b[0m\u001b[0;34m'[commands]'\u001b[0m\u001b[0;34m)\u001b[0m\u001b[0;34m\u001b[0m\n",
						"\u001b[0;34m\u001b[0m                \u001b[0;34m)\u001b[0m\u001b[0;34m;\u001b[0m\u001b[0;34m\u001b[0m\n",
						"\u001b[0;34m\u001b[0m\u001b[0;34m\u001b[0m\n",
						"\u001b[0;34m\u001b[0m                \u001b[0mlayout\u001b[0m \u001b[0;34m=\u001b[0m \u001b[0moptions\u001b[0m\u001b[0;34m.\u001b[0m\u001b[0mfilter\u001b[0m\u001b[0;34m(\u001b[0m\u001b[0;34m(\u001b[0m\u001b[0me\u001b[0m\u001b[0;34m)\u001b[0m \u001b[0;34m=\u001b[0m\u001b[0;34m>\u001b[0m \u001b[0me\u001b[0m\u001b[0;34m.\u001b[0m\u001b[0mgetAttribute\u001b[0m\u001b[0;34m(\u001b[0m\u001b[0;34m'commands'\u001b[0m\u001b[0;34m)\u001b[0m \u001b[0;34m==\u001b[0m \u001b[0;34m'tags'\u001b[0m\u001b[0;34m)\u001b[0m\u001b[0;34m[\u001b[0m\u001b[0;36m0\u001b[0m\u001b[0;34m]\u001b[0m\u001b[0;34m\u001b[0m\n",
						"\u001b[0;34m\u001b[0m                        \u001b[0;34m.\u001b[0m\u001b[0minnerText\u001b[0m\u001b[0;34m;\u001b[0m\u001b[0;34m\u001b[0m\n",
						"\u001b[0;34m\u001b[0m                \u001b[0mlanguage\u001b[0m \u001b[0;34m=\u001b[0m \u001b[0moptions\u001b[0m\u001b[0;34m.\u001b[0m\u001b[0mfilter\u001b[0m\u001b[0;34m(\u001b[0m\u001b[0;34m\u001b[0m\n",
						"\u001b[0;34m\u001b[0m                        \u001b[0;34m(\u001b[0m\u001b[0me\u001b[0m\u001b[0;34m)\u001b[0m \u001b[0;34m=\u001b[0m\u001b[0;34m>\u001b[0m \u001b[0me\u001b[0m\u001b[0;34m.\u001b[0m\u001b[0mgetAttribute\u001b[0m\u001b[0;34m(\u001b[0m\u001b[0;34m'commands'\u001b[0m\u001b[0;34m)\u001b[0m \u001b[0;34m==\u001b[0m \u001b[0;34m'languages'\u001b[0m\u001b[0;34m\u001b[0m\n",
						"\u001b[0;34m\u001b[0m                \u001b[0;34m)\u001b[0m\u001b[0;34m[\u001b[0m\u001b[0;36m0\u001b[0m\u001b[0;34m]\u001b[0m\u001b[0;34m.\u001b[0m\u001b[0minnerText\u001b[0m\u001b[0;34m;\u001b[0m\u001b[0;34m\u001b[0m\n",
						"\u001b[0;34m\u001b[0m                \u001b[0mlet\u001b[0m \u001b[0mfunboxElements\u001b[0m \u001b[0;34m=\u001b[0m \u001b[0moptions\u001b[0m\u001b[0;34m.\u001b[0m\u001b[0mfilter\u001b[0m\u001b[0;34m(\u001b[0m\u001b[0;34m\u001b[0m\n",
						"\u001b[0;34m\u001b[0m                        \u001b[0;34m(\u001b[0m\u001b[0me\u001b[0m\u001b[0;34m)\u001b[0m \u001b[0;34m=\u001b[0m\u001b[0;34m>\u001b[0m \u001b[0me\u001b[0m\u001b[0;34m.\u001b[0m\u001b[0mgetAttribute\u001b[0m\u001b[0;34m(\u001b[0m\u001b[0;34m'commands'\u001b[0m\u001b[0;34m)\u001b[0m \u001b[0;34m==\u001b[0m \u001b[0;34m'funbox'\u001b[0m\u001b[0;34m\u001b[0m\n",
						"\u001b[0;34m\u001b[0m                \u001b[0;34m)\u001b[0m\u001b[0;34m;\u001b[0m\u001b[0;34m\u001b[0m\n",
						"\u001b[0;34m\u001b[0m\u001b[0;34m\u001b[0m\n",
						"\u001b[0;34m\u001b[0m                \u001b[0mfunbox\u001b[0m \u001b[0;34m=\u001b[0m \u001b[0mnull\u001b[0m\u001b[0;34m;\u001b[0m\u001b[0;34m\u001b[0m\n",
						"\u001b[0;34m\u001b[0m                \u001b[0;32mif\u001b[0m \u001b[0;34m(\u001b[0m\u001b[0mfunboxElements\u001b[0m\u001b[0;34m.\u001b[0m\u001b[0mlength\u001b[0m \u001b[0;34m>\u001b[0m \u001b[0;36m0\u001b[0m\u001b[0;34m)\u001b[0m \u001b[0;34m{\u001b[0m\u001b[0;34m\u001b[0m\n",
						"\u001b[0;34m\u001b[0m                        \u001b[0mfunbox\u001b[0m \u001b[0;34m=\u001b[0m \u001b[0mfunboxElements\u001b[0m\u001b[0;34m[\u001b[0m\u001b[0;36m0\u001b[0m\u001b[0;34m]\u001b[0m\u001b[0;34m.\u001b[0m\u001b[0minnerText\u001b[0m\u001b[0;34m;\u001b[0m\u001b[0;34m\u001b[0m\n",
						"\u001b[0;34m\u001b[0m                \u001b[0;34m}\u001b[0m\u001b[0;34m\u001b[0m\n",
						"\u001b[0;34m\u001b[0m\u001b[0;34m\u001b[0m\n",
						"\u001b[0;34m\u001b[0m                \u001b[0;34m//\u001b[0m \u001b[0mget\u001b[0m \u001b[0mthe\u001b[0m \u001b[0mtype\u001b[0m \u001b[0mof\u001b[0m \u001b[0mtest\u001b[0m \u001b[0mbeing\u001b[0m \u001b[0mtaken\u001b[0m\u001b[0;34m\u001b[0m\n",
						"\u001b[0;34m\u001b[0m                \u001b[0mtype\u001b[0m \u001b[0;34m=\u001b[0m \u001b[0mdocument\u001b[0m\u001b[0;34m.\u001b[0m\u001b[0mquerySelector\u001b[0m\u001b[0;34m(\u001b[0m\u001b[0;34m'div.mode > [mode].active'\u001b[0m\u001b[0;34m)\u001b[0m\u001b[0;34m.\u001b[0m\u001b[0minnerText\u001b[0m\u001b[0;34m;\u001b[0m\u001b[0;34m\u001b[0m\n",
						"\u001b[0;34m\u001b[0m\u001b[0;34m\u001b[0m\n",
						"\u001b[0;34m\u001b[0m                \u001b[0;34m//\u001b[0m \u001b[0mget\u001b[0m \u001b[0mthe\u001b[0m \u001b[0mlength\u001b[0m \u001b[0mof\u001b[0m \u001b[0mthe\u001b[0m \u001b[0mcurrent\u001b[0m \u001b[0mtest\u001b[0m\u001b[0;34m\u001b[0m\n",
						"\u001b[0;34m\u001b[0m                \u001b[0mlength\u001b[0m \u001b[0;34m=\u001b[0m \u001b[0mdocument\u001b[0m\u001b[0;34m.\u001b[0m\u001b[0mquerySelector\u001b[0m\u001b[0;34m(\u001b[0m\u001b[0;34m\u001b[0m\n",
						"\u001b[0;34m\u001b[0m                        \u001b[0;34m'div.wordCount > [wordcount].active'\u001b[0m\u001b[0;34m\u001b[0m\n",
						"\u001b[0;34m\u001b[0m                \u001b[0;34m)\u001b[0m\u001b[0;34m.\u001b[0m\u001b[0minnerText\u001b[0m\u001b[0;34m;\u001b[0m\u001b[0;34m\u001b[0m\n",
						"\u001b[0;34m\u001b[0m\u001b[0;34m\u001b[0m\n",
						"\u001b[0;34m\u001b[0m                \u001b[0mactiveWord\u001b[0m \u001b[0;34m=\u001b[0m \u001b[0mmonkeyQueue\u001b[0m\u001b[0;34m[\u001b[0m\u001b[0;36m0\u001b[0m\u001b[0;34m]\u001b[0m\u001b[0;34m;\u001b[0m\u001b[0;34m\u001b[0m\n",
						"\u001b[0;34m\u001b[0m                \u001b[0mtestNum\u001b[0m \u001b[0;34m+=\u001b[0m \u001b[0;36m1\u001b[0m\u001b[0;34m;\u001b[0m\u001b[0;34m\u001b[0m\n",
						"\u001b[0;34m\u001b[0m                \u001b[0mconsole\u001b[0m\u001b[0;34m.\u001b[0m\u001b[0mlog\u001b[0m\u001b[0;34m(\u001b[0m\u001b[0mmonkeyQueue\u001b[0m\u001b[0;34m)\u001b[0m\u001b[0;34m;\u001b[0m\u001b[0;34m\u001b[0m\n",
						"\u001b[0;34m\u001b[0m        \u001b[0;34m}\u001b[0m\u001b[0;34m;\u001b[0m\u001b[0;34m\u001b[0m\n",
						"\u001b[0;34m\u001b[0m\u001b[0;34m\u001b[0m\n",
						"\u001b[0;34m\u001b[0m        \u001b[0mconst\u001b[0m \u001b[0msend\u001b[0m \u001b[0;34m=\u001b[0m \u001b[0;32masync\u001b[0m \u001b[0;34m(\u001b[0m\u001b[0;34m)\u001b[0m \u001b[0;34m=\u001b[0m\u001b[0;34m>\u001b[0m \u001b[0;34m{\u001b[0m\u001b[0;34m\u001b[0m\n",
						"\u001b[0;34m\u001b[0m                \u001b[0mconsole\u001b[0m\u001b[0;34m.\u001b[0m\u001b[0mlog\u001b[0m\u001b[0;34m(\u001b[0m\u001b[0;34m'Sending test'\u001b[0m\u001b[0;34m,\u001b[0m \u001b[0mtestNum\u001b[0m\u001b[0;34m)\u001b[0m\u001b[0;34m;\u001b[0m\u001b[0;34m\u001b[0m\n",
						"\u001b[0;34m\u001b[0m                \u001b[0;32mawait\u001b[0m \u001b[0mfetch\u001b[0m\u001b[0;34m(\u001b[0m\u001b[0;34m'http://localhost:8000'\u001b[0m\u001b[0;34m,\u001b[0m \u001b[0;34m{\u001b[0m\u001b[0;34m\u001b[0m\n",
						"\u001b[0;34m\u001b[0m                        \u001b[0mmethod\u001b[0m\u001b[0;34m:\u001b[0m \u001b[0;34m'post'\u001b[0m\u001b[0;34m,\u001b[0m\u001b[0;34m\u001b[0m\n",
						"\u001b[0;34m\u001b[0m                        \u001b[0mbody\u001b[0m\u001b[0;34m:\u001b[0m \u001b[0mJSON\u001b[0m\u001b[0;34m.\u001b[0m\u001b[0mstringify\u001b[0m\u001b[0;34m(\u001b[0m\u001b[0mmonkeyList\u001b[0m\u001b[0;34m)\u001b[0m\u001b[0;34m\u001b[0m\n",
						"\u001b[0;34m\u001b[0m                \u001b[0;34m}\u001b[0m\u001b[0;34m)\u001b[0m\u001b[0;34m\u001b[0m\n",
						"\u001b[0;34m\u001b[0m                        \u001b[0;34m.\u001b[0m\u001b[0mthen\u001b[0m\u001b[0;34m(\u001b[0m\u001b[0;34m(\u001b[0m\u001b[0;34m)\u001b[0m \u001b[0;34m=\u001b[0m\u001b[0;34m>\u001b[0m \u001b[0;34m{\u001b[0m\u001b[0;34m\u001b[0m\n",
						"\u001b[0;34m\u001b[0m                                \u001b[0mmonkeyList\u001b[0m \u001b[0;34m=\u001b[0m \u001b[0;34m[\u001b[0m\u001b[0;34m]\u001b[0m\u001b[0;34m;\u001b[0m\u001b[0;34m\u001b[0m\n",
						"\u001b[0;34m\u001b[0m                                \u001b[0msetTimeout\u001b[0m\u001b[0;34m(\u001b[0m\u001b[0msetup\u001b[0m\u001b[0;34m,\u001b[0m \u001b[0;36m500\u001b[0m\u001b[0;34m)\u001b[0m\u001b[0;34m;\u001b[0m\u001b[0;34m\u001b[0m\n",
						"\u001b[0;34m\u001b[0m                        \u001b[0;34m}\u001b[0m\u001b[0;34m)\u001b[0m\u001b[0;34m\u001b[0m\n",
						"\u001b[0;34m\u001b[0m                        \u001b[0;34m.\u001b[0m\u001b[0mcatch\u001b[0m\u001b[0;34m(\u001b[0m\u001b[0;34m(\u001b[0m\u001b[0;34m)\u001b[0m \u001b[0;34m=\u001b[0m\u001b[0;34m>\u001b[0m \u001b[0;34m{\u001b[0m\u001b[0;34m\u001b[0m\n",
						"\u001b[0;34m\u001b[0m                                \u001b[0mmonkeyList\u001b[0m \u001b[0;34m=\u001b[0m \u001b[0;34m[\u001b[0m\u001b[0;34m]\u001b[0m\u001b[0;34m;\u001b[0m\u001b[0;34m\u001b[0m\n",
						"\u001b[0;34m\u001b[0m                                \u001b[0msetTimeout\u001b[0m\u001b[0;34m(\u001b[0m\u001b[0msetup\u001b[0m\u001b[0;34m,\u001b[0m \u001b[0;36m500\u001b[0m\u001b[0;34m)\u001b[0m\u001b[0;34m;\u001b[0m\u001b[0;34m\u001b[0m\n",
						"\u001b[0;34m\u001b[0m                        \u001b[0;34m}\u001b[0m\u001b[0;34m)\u001b[0m\u001b[0;34m;\u001b[0m\u001b[0;34m\u001b[0m\n",
						"\u001b[0;34m\u001b[0m        \u001b[0;34m}\u001b[0m\u001b[0;34m;\u001b[0m\u001b[0;34m\u001b[0m\n",
						"\u001b[0;34m\u001b[0m\u001b[0;34m\u001b[0m\n",
						"\u001b[0;34m\u001b[0m        \u001b[0msetup\u001b[0m\u001b[0;34m(\u001b[0m\u001b[0;34m)\u001b[0m\u001b[0;34m;\u001b[0m\u001b[0;34m\u001b[0m\n",
						"\u001b[0;34m\u001b[0m        \u001b[0mlet\u001b[0m \u001b[0mlisten\u001b[0m \u001b[0;34m=\u001b[0m \u001b[0;32masync\u001b[0m \u001b[0;34m(\u001b[0m\u001b[0;34m{\u001b[0m \u001b[0mkey\u001b[0m \u001b[0;34m}\u001b[0m\u001b[0;34m)\u001b[0m \u001b[0;34m=\u001b[0m\u001b[0;34m>\u001b[0m \u001b[0;34m{\u001b[0m\u001b[0;34m\u001b[0m\n",
						"\u001b[0;34m\u001b[0m                \u001b[0;32mtry\u001b[0m \u001b[0;34m{\u001b[0m\u001b[0;34m\u001b[0m\n",
						"\u001b[0;34m\u001b[0m                        \u001b[0mlet\u001b[0m \u001b[0mrow\u001b[0m \u001b[0;34m=\u001b[0m \u001b[0;34m{\u001b[0m\u001b[0;34m\u001b[0m\n",
						"\u001b[0;34m\u001b[0m                                \u001b[0mactiveWord\u001b[0m\u001b[0;34m,\u001b[0m\u001b[0;34m\u001b[0m\n",
						"\u001b[0;34m\u001b[0m                                \u001b[0mcorrectChar\u001b[0m\u001b[0;34m:\u001b[0m \u001b[0mmonkeyQueue\u001b[0m\u001b[0;34m[\u001b[0m\u001b[0;36m0\u001b[0m\u001b[0;34m]\u001b[0m\u001b[0;34m[\u001b[0m\u001b[0;36m0\u001b[0m\u001b[0;34m]\u001b[0m\u001b[0;34m,\u001b[0m\u001b[0;34m\u001b[0m\n",
						"\u001b[0;34m\u001b[0m                                \u001b[0mfunbox\u001b[0m\u001b[0;34m,\u001b[0m\u001b[0;34m\u001b[0m\n",
						"\u001b[0;34m\u001b[0m                                \u001b[0mlanguage\u001b[0m\u001b[0;34m,\u001b[0m\u001b[0;34m\u001b[0m\n",
						"\u001b[0;34m\u001b[0m                                \u001b[0mlastChar\u001b[0m\u001b[0;34m:\u001b[0m \u001b[0mkey\u001b[0m\u001b[0;34m,\u001b[0m\u001b[0;34m\u001b[0m\n",
						"\u001b[0;34m\u001b[0m                                \u001b[0mlayout\u001b[0m\u001b[0;34m,\u001b[0m\u001b[0;34m\u001b[0m\n",
						"\u001b[0;34m\u001b[0m                                \u001b[0mlength\u001b[0m\u001b[0;34m,\u001b[0m\u001b[0;34m\u001b[0m\n",
						"\u001b[0;34m\u001b[0m                                \u001b[0mtimestamp\u001b[0m\u001b[0;34m:\u001b[0m \u001b[0mnew\u001b[0m \u001b[0mDate\u001b[0m\u001b[0;34m(\u001b[0m\u001b[0;34m)\u001b[0m\u001b[0;34m,\u001b[0m\u001b[0;34m\u001b[0m\n",
						"\u001b[0;34m\u001b[0m                                \u001b[0mtype\u001b[0m\u001b[0;34m,\u001b[0m\u001b[0;34m\u001b[0m\n",
						"\u001b[0;34m\u001b[0m                                \u001b[0mtestNum\u001b[0m\u001b[0;34m\u001b[0m\n",
						"\u001b[0;34m\u001b[0m                        \u001b[0;34m}\u001b[0m\u001b[0;34m;\u001b[0m\u001b[0;34m\u001b[0m\n",
						"\u001b[0;34m\u001b[0m\u001b[0;34m\u001b[0m\n",
						"\u001b[0;34m\u001b[0m                        \u001b[0;32mif\u001b[0m \u001b[0;34m(\u001b[0m\u001b[0mkey\u001b[0m\u001b[0;34m.\u001b[0m\u001b[0mlength\u001b[0m \u001b[0;34m==\u001b[0m \u001b[0;36m1\u001b[0m\u001b[0;34m)\u001b[0m \u001b[0mmonkeyList\u001b[0m\u001b[0;34m.\u001b[0m\u001b[0mpush\u001b[0m\u001b[0;34m(\u001b[0m\u001b[0mrow\u001b[0m\u001b[0;34m)\u001b[0m\u001b[0;34m;\u001b[0m\u001b[0;34m\u001b[0m\n",
						"\u001b[0;34m\u001b[0m\u001b[0;34m\u001b[0m\n",
						"\u001b[0;34m\u001b[0m                        \u001b[0mconsole\u001b[0m\u001b[0;34m.\u001b[0m\u001b[0mlog\u001b[0m\u001b[0;34m(\u001b[0m\u001b[0mmonkeyQueue\u001b[0m\u001b[0;34m[\u001b[0m\u001b[0;36m0\u001b[0m\u001b[0;34m]\u001b[0m\u001b[0;34m[\u001b[0m\u001b[0;36m0\u001b[0m\u001b[0;34m]\u001b[0m\u001b[0;34m,\u001b[0m \u001b[0mkey\u001b[0m\u001b[0;34m)\u001b[0m\u001b[0;34m;\u001b[0m\u001b[0;34m\u001b[0m\n",
						"\u001b[0;34m\u001b[0m                        \u001b[0;32mif\u001b[0m \u001b[0;34m(\u001b[0m\u001b[0;34m\u001b[0m\n",
						"\u001b[0;34m\u001b[0m                                \u001b[0mmonkeyQueue\u001b[0m\u001b[0;34m[\u001b[0m\u001b[0;36m0\u001b[0m\u001b[0;34m]\u001b[0m\u001b[0;34m[\u001b[0m\u001b[0;36m0\u001b[0m\u001b[0;34m]\u001b[0m\u001b[0;34m.\u001b[0m\u001b[0mtoLowerCase\u001b[0m\u001b[0;34m(\u001b[0m\u001b[0;34m)\u001b[0m \u001b[0;34m==\u001b[0m \u001b[0mkey\u001b[0m\u001b[0;34m.\u001b[0m\u001b[0mtoLowerCase\u001b[0m\u001b[0;34m(\u001b[0m\u001b[0;34m)\u001b[0m \u001b[0;34m|\u001b[0m\u001b[0;34m|\u001b[0m\u001b[0;34m\u001b[0m\n",
						"\u001b[0;34m\u001b[0m                                \u001b[0;34m(\u001b[0m\u001b[0mmonkeyQueue\u001b[0m\u001b[0;34m[\u001b[0m\u001b[0;36m0\u001b[0m\u001b[0;34m]\u001b[0m\u001b[0;34m[\u001b[0m\u001b[0;36m0\u001b[0m\u001b[0;34m]\u001b[0m \u001b[0;34m==\u001b[0m \u001b[0;34m'_'\u001b[0m \u001b[0;34m&\u001b[0m\u001b[0;34m&\u001b[0m \u001b[0mkey\u001b[0m \u001b[0;34m==\u001b[0m \u001b[0;34m'-'\u001b[0m\u001b[0;34m)\u001b[0m\u001b[0;34m\u001b[0m\n",
						"\u001b[0;34m\u001b[0m                        \u001b[0;34m)\u001b[0m \u001b[0;34m{\u001b[0m\u001b[0;34m\u001b[0m\n",
						"\u001b[0;34m\u001b[0m                                \u001b[0mmonkeyQueue\u001b[0m\u001b[0;34m[\u001b[0m\u001b[0;36m0\u001b[0m\u001b[0;34m]\u001b[0m \u001b[0;34m=\u001b[0m \u001b[0mmonkeyQueue\u001b[0m\u001b[0;34m[\u001b[0m\u001b[0;36m0\u001b[0m\u001b[0;34m]\u001b[0m\u001b[0;34m.\u001b[0m\u001b[0msubstring\u001b[0m\u001b[0;34m(\u001b[0m\u001b[0;36m1\u001b[0m\u001b[0;34m)\u001b[0m\u001b[0;34m;\u001b[0m\u001b[0;34m\u001b[0m\n",
						"\u001b[0;34m\u001b[0m                        \u001b[0;34m}\u001b[0m\u001b[0;34m\u001b[0m\n",
						"\u001b[0;34m\u001b[0m\u001b[0;34m\u001b[0m\n",
						"\u001b[0;34m\u001b[0m                        \u001b[0;32mif\u001b[0m \u001b[0;34m(\u001b[0m\u001b[0mkey\u001b[0m \u001b[0;34m==\u001b[0m \u001b[0;34m' '\u001b[0m \u001b[0;34m&\u001b[0m\u001b[0;34m&\u001b[0m \u001b[0mactiveWord\u001b[0m \u001b[0;34m!=\u001b[0m \u001b[0mmonkeyQueue\u001b[0m\u001b[0;34m[\u001b[0m\u001b[0;36m0\u001b[0m\u001b[0;34m]\u001b[0m\u001b[0;34m)\u001b[0m \u001b[0;34m{\u001b[0m\u001b[0;34m\u001b[0m\n",
						"\u001b[0;34m\u001b[0m                                \u001b[0mmonkeyQueue\u001b[0m\u001b[0;34m.\u001b[0m\u001b[0mshift\u001b[0m\u001b[0;34m(\u001b[0m\u001b[0;34m)\u001b[0m\u001b[0;34m;\u001b[0m\u001b[0;34m\u001b[0m\n",
						"\u001b[0;34m\u001b[0m                                \u001b[0mconsole\u001b[0m\u001b[0;34m.\u001b[0m\u001b[0mlog\u001b[0m\u001b[0;34m(\u001b[0m\u001b[0mmonkeyQueue\u001b[0m\u001b[0;34m)\u001b[0m\u001b[0;34m;\u001b[0m\u001b[0;34m\u001b[0m\n",
						"\u001b[0;34m\u001b[0m                                \u001b[0mactiveWord\u001b[0m \u001b[0;34m=\u001b[0m \u001b[0mmonkeyQueue\u001b[0m\u001b[0;34m[\u001b[0m\u001b[0;36m0\u001b[0m\u001b[0;34m]\u001b[0m\u001b[0;34m;\u001b[0m\u001b[0;34m\u001b[0m\n",
						"\u001b[0;34m\u001b[0m                        \u001b[0;34m}\u001b[0m\u001b[0;34m\u001b[0m\n",
						"\u001b[0;34m\u001b[0m\u001b[0;34m\u001b[0m\n",
						"\u001b[0;34m\u001b[0m                        \u001b[0;32mif\u001b[0m \u001b[0;34m(\u001b[0m\u001b[0mkey\u001b[0m \u001b[0;34m==\u001b[0m \u001b[0;34m'Enter'\u001b[0m\u001b[0;34m)\u001b[0m \u001b[0;34m{\u001b[0m\u001b[0;34m\u001b[0m\n",
						"\u001b[0;34m\u001b[0m                                \u001b[0mconsole\u001b[0m\u001b[0;34m.\u001b[0m\u001b[0mlog\u001b[0m\u001b[0;34m(\u001b[0m\u001b[0;34m'Not empty reset'\u001b[0m\u001b[0;34m)\u001b[0m\u001b[0;34m;\u001b[0m\u001b[0;34m\u001b[0m\n",
						"\u001b[0;34m\u001b[0m                                \u001b[0;32mawait\u001b[0m \u001b[0msend\u001b[0m\u001b[0;34m(\u001b[0m\u001b[0;34m)\u001b[0m\u001b[0;34m;\u001b[0m\u001b[0;34m\u001b[0m\n",
						"\u001b[0;34m\u001b[0m                        \u001b[0;34m}\u001b[0m\u001b[0;34m\u001b[0m\n",
						"\u001b[0;34m\u001b[0m                \u001b[0;34m}\u001b[0m \u001b[0mcatch\u001b[0m \u001b[0;34m{\u001b[0m\u001b[0;34m\u001b[0m\n",
						"\u001b[0;34m\u001b[0m                        \u001b[0;32mif\u001b[0m \u001b[0;34m(\u001b[0m\u001b[0mkey\u001b[0m \u001b[0;34m==\u001b[0m \u001b[0;34m'Enter'\u001b[0m\u001b[0;34m)\u001b[0m \u001b[0;34m{\u001b[0m\u001b[0;34m\u001b[0m\n",
						"\u001b[0;34m\u001b[0m                                \u001b[0mconsole\u001b[0m\u001b[0;34m.\u001b[0m\u001b[0mlog\u001b[0m\u001b[0;34m(\u001b[0m\u001b[0;34m'Empty reset'\u001b[0m\u001b[0;34m)\u001b[0m\u001b[0;34m;\u001b[0m\u001b[0;34m\u001b[0m\n",
						"\u001b[0;34m\u001b[0m                                \u001b[0;32mawait\u001b[0m \u001b[0msend\u001b[0m\u001b[0;34m(\u001b[0m\u001b[0;34m)\u001b[0m\u001b[0;34m;\u001b[0m\u001b[0;34m\u001b[0m\n",
						"\u001b[0;34m\u001b[0m                        \u001b[0;34m}\u001b[0m\u001b[0;34m\u001b[0m\n",
						"\u001b[0;34m\u001b[0m                \u001b[0;34m}\u001b[0m\u001b[0;34m\u001b[0m\n",
						"\u001b[0;34m\u001b[0m        \u001b[0;34m}\u001b[0m\u001b[0;34m;\u001b[0m\u001b[0;34m\u001b[0m\n",
						"\u001b[0;34m\u001b[0m\u001b[0;34m\u001b[0m\n",
						"\u001b[0;34m\u001b[0m        \u001b[0mdocument\u001b[0m\u001b[0;34m.\u001b[0m\u001b[0maddEventListener\u001b[0m\u001b[0;34m(\u001b[0m\u001b[0;34m'keypress'\u001b[0m\u001b[0;34m,\u001b[0m \u001b[0;32masync\u001b[0m \u001b[0;34m(\u001b[0m\u001b[0mc\u001b[0m\u001b[0;34m)\u001b[0m \u001b[0;34m=\u001b[0m\u001b[0;34m>\u001b[0m \u001b[0;32mawait\u001b[0m \u001b[0mlisten\u001b[0m\u001b[0;34m(\u001b[0m\u001b[0mc\u001b[0m\u001b[0;34m)\u001b[0m\u001b[0;34m)\u001b[0m\u001b[0;34m;\u001b[0m\u001b[0;34m\u001b[0m\n",
						"\u001b[0;34m\u001b[0m\u001b[0;34m}\u001b[0m\u001b[0;34m;\u001b[0m\u001b[0;34m\u001b[0m\n",
						"\u001b[0;34m\u001b[0m\u001b[0;34m\u001b[0m\n",
						"\u001b[0;34m\u001b[0m\u001b[0mmonkeyListen\u001b[0m\u001b[0;34m(\u001b[0m\u001b[0;34m)\u001b[0m\u001b[0;34m;\u001b[0m\u001b[0;34m\u001b[0m\u001b[0;34m\u001b[0m\u001b[0m\n"
					]
				}
			],
			"source": [
				"%pycat data/scrape.js"
			]
		},
		{
			"cell_type": "markdown",
			"metadata": {},
			"source": [
				"The data scraped from the above function is then sent to the [Deno](https://deno.land/) localhost webserver transcribed below. Once the POST request is received, the webserver appends it to a comma separated table. If you would like to use this code to analyze your own typing, make sure to start the Deno server before sending any data from the keylogger script.\n"
			]
		},
		{
			"cell_type": "code",
			"execution_count": 2,
			"metadata": {},
			"outputs": [
				{
					"name": "stdout",
					"output_type": "stream",
					"text": [
						"\u001b[0;34m//\u001b[0m \u001b[0;32mimport\u001b[0m \u001b[0mthe\u001b[0m \u001b[0mwebserver\u001b[0m \u001b[0;32min\u001b[0m \u001b[0mthe\u001b[0m \u001b[0mdeno\u001b[0m \u001b[0mway\u001b[0m\u001b[0;34m\u001b[0m\n",
						"\u001b[0;34m\u001b[0m\u001b[0;32mimport\u001b[0m \u001b[0;34m{\u001b[0m \u001b[0mserve\u001b[0m \u001b[0;34m}\u001b[0m \u001b[0;32mfrom\u001b[0m \u001b[0;34m'https://deno.land/std@0.157.0/http/server.ts'\u001b[0m\u001b[0;34m;\u001b[0m\u001b[0;34m\u001b[0m\n",
						"\u001b[0;34m\u001b[0m\u001b[0;34m\u001b[0m\n",
						"\u001b[0;34m\u001b[0m\u001b[0mtype\u001b[0m \u001b[0mInput\u001b[0m \u001b[0;34m=\u001b[0m \u001b[0;34m{\u001b[0m\u001b[0;34m\u001b[0m\n",
						"\u001b[0;34m\u001b[0m        \u001b[0mtimestamp\u001b[0m\u001b[0;34m:\u001b[0m \u001b[0mDate\u001b[0m\u001b[0;34m;\u001b[0m\u001b[0;34m\u001b[0m\n",
						"\u001b[0;34m\u001b[0m        \u001b[0mactiveWord\u001b[0m\u001b[0;34m:\u001b[0m \u001b[0mstring\u001b[0m\u001b[0;34m;\u001b[0m\u001b[0;34m\u001b[0m\n",
						"\u001b[0;34m\u001b[0m        \u001b[0mlastChar\u001b[0m\u001b[0;34m:\u001b[0m \u001b[0mstring\u001b[0m\u001b[0;34m;\u001b[0m\u001b[0;34m\u001b[0m\n",
						"\u001b[0;34m\u001b[0m        \u001b[0mcorrectChar\u001b[0m\u001b[0;34m:\u001b[0m \u001b[0mstring\u001b[0m\u001b[0;34m;\u001b[0m\u001b[0;34m\u001b[0m\n",
						"\u001b[0;34m\u001b[0m        \u001b[0mlayout\u001b[0m\u001b[0;34m:\u001b[0m \u001b[0mstring\u001b[0m\u001b[0;34m;\u001b[0m\u001b[0;34m\u001b[0m\n",
						"\u001b[0;34m\u001b[0m        \u001b[0mtype\u001b[0m\u001b[0;34m:\u001b[0m \u001b[0mstring\u001b[0m\u001b[0;34m;\u001b[0m\u001b[0;34m\u001b[0m\n",
						"\u001b[0;34m\u001b[0m        \u001b[0mlength\u001b[0m\u001b[0;34m:\u001b[0m \u001b[0mstring\u001b[0m\u001b[0;34m;\u001b[0m\u001b[0;34m\u001b[0m\n",
						"\u001b[0;34m\u001b[0m        \u001b[0mlanguage\u001b[0m\u001b[0;34m:\u001b[0m \u001b[0mstring\u001b[0m\u001b[0;34m;\u001b[0m\u001b[0;34m\u001b[0m\n",
						"\u001b[0;34m\u001b[0m        \u001b[0mtestNum\u001b[0m\u001b[0;34m:\u001b[0m \u001b[0mnumber\u001b[0m\u001b[0;34m;\u001b[0m\u001b[0;34m\u001b[0m\n",
						"\u001b[0;34m\u001b[0m        \u001b[0mfunbox\u001b[0m\u001b[0;34m:\u001b[0m \u001b[0mstring\u001b[0m\u001b[0;34m;\u001b[0m\u001b[0;34m\u001b[0m\n",
						"\u001b[0;34m\u001b[0m\u001b[0;34m}\u001b[0m\u001b[0;34m;\u001b[0m\u001b[0;34m\u001b[0m\n",
						"\u001b[0;34m\u001b[0m\u001b[0;34m\u001b[0m\n",
						"\u001b[0;34m\u001b[0m\u001b[0mconst\u001b[0m \u001b[0mhandler\u001b[0m \u001b[0;34m=\u001b[0m \u001b[0;32masync\u001b[0m \u001b[0;34m(\u001b[0m\u001b[0mreq\u001b[0m\u001b[0;34m:\u001b[0m \u001b[0mRequest\u001b[0m\u001b[0;34m)\u001b[0m \u001b[0;34m=\u001b[0m\u001b[0;34m>\u001b[0m \u001b[0;34m{\u001b[0m\u001b[0;34m\u001b[0m\n",
						"\u001b[0;34m\u001b[0m        \u001b[0;32mreturn\u001b[0m \u001b[0;32mawait\u001b[0m \u001b[0mreq\u001b[0m\u001b[0;34m\u001b[0m\n",
						"\u001b[0;34m\u001b[0m                \u001b[0;34m.\u001b[0m\u001b[0mjson\u001b[0m\u001b[0;34m(\u001b[0m\u001b[0;34m)\u001b[0m\u001b[0;34m\u001b[0m\n",
						"\u001b[0;34m\u001b[0m                \u001b[0;34m.\u001b[0m\u001b[0mthen\u001b[0m\u001b[0;34m(\u001b[0m\u001b[0;32masync\u001b[0m \u001b[0;34m(\u001b[0m\u001b[0mtest\u001b[0m\u001b[0;34m:\u001b[0m \u001b[0mInput\u001b[0m\u001b[0;34m[\u001b[0m\u001b[0;34m]\u001b[0m\u001b[0;34m)\u001b[0m \u001b[0;34m=\u001b[0m\u001b[0;34m>\u001b[0m \u001b[0;34m{\u001b[0m\u001b[0;34m\u001b[0m\n",
						"\u001b[0;34m\u001b[0m                        \u001b[0;32mfor\u001b[0m \u001b[0;34m(\u001b[0m\u001b[0mlet\u001b[0m \u001b[0;34m{\u001b[0m\u001b[0;34m\u001b[0m\n",
						"\u001b[0;34m\u001b[0m                                \u001b[0mtimestamp\u001b[0m\u001b[0;34m,\u001b[0m\u001b[0;34m\u001b[0m\n",
						"\u001b[0;34m\u001b[0m                                \u001b[0mactiveWord\u001b[0m\u001b[0;34m,\u001b[0m\u001b[0;34m\u001b[0m\n",
						"\u001b[0;34m\u001b[0m                                \u001b[0mlastChar\u001b[0m\u001b[0;34m,\u001b[0m\u001b[0;34m\u001b[0m\n",
						"\u001b[0;34m\u001b[0m                                \u001b[0mcorrectChar\u001b[0m\u001b[0;34m,\u001b[0m\u001b[0;34m\u001b[0m\n",
						"\u001b[0;34m\u001b[0m                                \u001b[0mlayout\u001b[0m\u001b[0;34m,\u001b[0m\u001b[0;34m\u001b[0m\n",
						"\u001b[0;34m\u001b[0m                                \u001b[0mtype\u001b[0m\u001b[0;34m,\u001b[0m\u001b[0;34m\u001b[0m\n",
						"\u001b[0;34m\u001b[0m                                \u001b[0mlength\u001b[0m\u001b[0;34m,\u001b[0m\u001b[0;34m\u001b[0m\n",
						"\u001b[0;34m\u001b[0m                                \u001b[0mlanguage\u001b[0m\u001b[0;34m,\u001b[0m\u001b[0;34m\u001b[0m\n",
						"\u001b[0;34m\u001b[0m                                \u001b[0mfunbox\u001b[0m\u001b[0;34m,\u001b[0m\u001b[0;34m\u001b[0m\n",
						"\u001b[0;34m\u001b[0m                                \u001b[0mtestNum\u001b[0m\u001b[0;34m\u001b[0m\n",
						"\u001b[0;34m\u001b[0m                        \u001b[0;34m}\u001b[0m \u001b[0mof\u001b[0m \u001b[0mtest\u001b[0m\u001b[0;34m)\u001b[0m \u001b[0;34m{\u001b[0m\u001b[0;34m\u001b[0m\n",
						"\u001b[0;34m\u001b[0m                                \u001b[0;32mif\u001b[0m \u001b[0;34m(\u001b[0m\u001b[0mcorrectChar\u001b[0m \u001b[0;34m==\u001b[0m \u001b[0mundefined\u001b[0m\u001b[0;34m)\u001b[0m \u001b[0;32mreturn\u001b[0m\u001b[0;34m;\u001b[0m\u001b[0;34m\u001b[0m\n",
						"\u001b[0;34m\u001b[0m\u001b[0;34m\u001b[0m\n",
						"\u001b[0;34m\u001b[0m                                \u001b[0;34m//\u001b[0m \u001b[0mhandle\u001b[0m \u001b[0mpotential\u001b[0m \u001b[0mcommas\u001b[0m \u001b[0;32min\u001b[0m \u001b[0mstrings\u001b[0m\u001b[0;34m\u001b[0m\n",
						"\u001b[0;34m\u001b[0m                                \u001b[0mconst\u001b[0m \u001b[0mhasComma\u001b[0m \u001b[0;34m=\u001b[0m \u001b[0;34m(\u001b[0m\u001b[0mword\u001b[0m\u001b[0;34m:\u001b[0m \u001b[0mstring\u001b[0m\u001b[0;34m)\u001b[0m \u001b[0;34m=\u001b[0m\u001b[0;34m>\u001b[0m \u001b[0;34m{\u001b[0m\u001b[0;34m\u001b[0m\n",
						"\u001b[0;34m\u001b[0m                                        \u001b[0;32mif\u001b[0m \u001b[0;34m(\u001b[0m\u001b[0mword\u001b[0m \u001b[0;34m==\u001b[0m \u001b[0mundefined\u001b[0m\u001b[0;34m)\u001b[0m \u001b[0;34m{\u001b[0m\u001b[0;34m\u001b[0m\n",
						"\u001b[0;34m\u001b[0m                                                \u001b[0;32mreturn\u001b[0m \u001b[0;34m''\u001b[0m\u001b[0;34m;\u001b[0m\u001b[0;34m\u001b[0m\n",
						"\u001b[0;34m\u001b[0m                                        \u001b[0;34m}\u001b[0m\u001b[0;34m\u001b[0m\n",
						"\u001b[0;34m\u001b[0m                                        \u001b[0;32mreturn\u001b[0m \u001b[0mword\u001b[0m\u001b[0;34m.\u001b[0m\u001b[0mincludes\u001b[0m\u001b[0;34m(\u001b[0m\u001b[0;34m','\u001b[0m\u001b[0;34m)\u001b[0m\u001b[0;34m\u001b[0m\n",
						"\u001b[0;34m\u001b[0m\u001b[0;31m \u001b[0m\u001b[0;31m \u001b[0m\u001b[0;31m \u001b[0m\u001b[0;31m \u001b[0m\u001b[0;31m \u001b[0m\u001b[0;31m \u001b[0m\u001b[0;31m \u001b[0m\u001b[0;31m \u001b[0m\u001b[0;31m \u001b[0m\u001b[0;31m \u001b[0m\u001b[0;31m \u001b[0m\u001b[0;31m \u001b[0m\u001b[0;31m \u001b[0m\u001b[0;31m \u001b[0m\u001b[0;31m \u001b[0m\u001b[0;31m \u001b[0m\u001b[0;31m \u001b[0m\u001b[0;31m \u001b[0m\u001b[0;31m \u001b[0m\u001b[0;31m \u001b[0m\u001b[0;31m \u001b[0m\u001b[0;31m \u001b[0m\u001b[0;31m \u001b[0m\u001b[0;31m \u001b[0m\u001b[0;31m \u001b[0m\u001b[0;31m \u001b[0m\u001b[0;31m \u001b[0m\u001b[0;31m \u001b[0m\u001b[0;31m \u001b[0m\u001b[0;31m \u001b[0m\u001b[0;31m \u001b[0m\u001b[0;31m \u001b[0m\u001b[0;31m \u001b[0m\u001b[0;31m \u001b[0m\u001b[0;31m \u001b[0m\u001b[0;31m \u001b[0m\u001b[0;31m \u001b[0m\u001b[0;31m \u001b[0m\u001b[0;31m \u001b[0m\u001b[0;31m \u001b[0m\u001b[0;31m \u001b[0m\u001b[0;31m \u001b[0m\u001b[0;31m \u001b[0m\u001b[0;31m \u001b[0m\u001b[0;31m \u001b[0m\u001b[0;31m \u001b[0m\u001b[0;31m \u001b[0m\u001b[0;31m \u001b[0m\u001b[0;31m?\u001b[0m\u001b[0;31m \u001b[0m\u001b[0;31m`\u001b[0m\u001b[0;34m\"${word}\"\u001b[0m\u001b[0;31m`\u001b[0m\u001b[0;34m\u001b[0m\n",
						"\u001b[0;34m\u001b[0m                                                \u001b[0;34m:\u001b[0m \u001b[0mword\u001b[0m\u001b[0;34m.\u001b[0m\u001b[0mincludes\u001b[0m\u001b[0;34m(\u001b[0m\u001b[0;34m'\"'\u001b[0m\u001b[0;34m)\u001b[0m\u001b[0;34m\u001b[0m\n",
						"\u001b[0;34m\u001b[0m\u001b[0;31m \u001b[0m\u001b[0;31m \u001b[0m\u001b[0;31m \u001b[0m\u001b[0;31m \u001b[0m\u001b[0;31m \u001b[0m\u001b[0;31m \u001b[0m\u001b[0;31m \u001b[0m\u001b[0;31m \u001b[0m\u001b[0;31m \u001b[0m\u001b[0;31m \u001b[0m\u001b[0;31m \u001b[0m\u001b[0;31m \u001b[0m\u001b[0;31m \u001b[0m\u001b[0;31m \u001b[0m\u001b[0;31m \u001b[0m\u001b[0;31m \u001b[0m\u001b[0;31m \u001b[0m\u001b[0;31m \u001b[0m\u001b[0;31m \u001b[0m\u001b[0;31m \u001b[0m\u001b[0;31m \u001b[0m\u001b[0;31m \u001b[0m\u001b[0;31m \u001b[0m\u001b[0;31m \u001b[0m\u001b[0;31m \u001b[0m\u001b[0;31m \u001b[0m\u001b[0;31m \u001b[0m\u001b[0;31m \u001b[0m\u001b[0;31m \u001b[0m\u001b[0;31m \u001b[0m\u001b[0;31m \u001b[0m\u001b[0;31m \u001b[0m\u001b[0;31m \u001b[0m\u001b[0;31m \u001b[0m\u001b[0;31m \u001b[0m\u001b[0;31m \u001b[0m\u001b[0;31m \u001b[0m\u001b[0;31m \u001b[0m\u001b[0;31m \u001b[0m\u001b[0;31m \u001b[0m\u001b[0;31m \u001b[0m\u001b[0;31m \u001b[0m\u001b[0;31m \u001b[0m\u001b[0;31m \u001b[0m\u001b[0;31m \u001b[0m\u001b[0;31m \u001b[0m\u001b[0;31m \u001b[0m\u001b[0;31m \u001b[0m\u001b[0;31m?\u001b[0m \u001b[0mword\u001b[0m\u001b[0;34m.\u001b[0m\u001b[0mreplace\u001b[0m\u001b[0;34m(\u001b[0m\u001b[0;34m'\"'\u001b[0m\u001b[0;34m,\u001b[0m \u001b[0;34m'\\\\\"'\u001b[0m\u001b[0;34m)\u001b[0m\u001b[0;34m\u001b[0m\n",
						"\u001b[0;34m\u001b[0m                                                \u001b[0;34m:\u001b[0m \u001b[0mword\u001b[0m\u001b[0;34m;\u001b[0m\u001b[0;34m\u001b[0m\n",
						"\u001b[0;34m\u001b[0m                                \u001b[0;34m}\u001b[0m\u001b[0;34m;\u001b[0m\u001b[0;34m\u001b[0m\n",
						"\u001b[0;34m\u001b[0m\u001b[0;34m\u001b[0m\n",
						"\u001b[0;34m\u001b[0m                                \u001b[0;34m//\u001b[0m \u001b[0mbuild\u001b[0m \u001b[0mthe\u001b[0m \u001b[0mcsv\u001b[0m \u001b[0mrow\u001b[0m\u001b[0;34m\u001b[0m\n",
						"\u001b[0;34m\u001b[0m                                \u001b[0mlet\u001b[0m \u001b[0mrow\u001b[0m \u001b[0;34m=\u001b[0m\u001b[0;31m \u001b[0m\u001b[0;31m`\u001b[0m\u001b[0;31m$\u001b[0m\u001b[0;34m{\u001b[0m\u001b[0mtimestamp\u001b[0m\u001b[0;34m}\u001b[0m\u001b[0;34m,\u001b[0m\u001b[0;31m$\u001b[0m\u001b[0;34m{\u001b[0m\u001b[0mhasComma\u001b[0m\u001b[0;34m(\u001b[0m\u001b[0mactiveWord\u001b[0m\u001b[0;34m)\u001b[0m\u001b[0;34m}\u001b[0m\u001b[0;34m,\u001b[0m\u001b[0;31m$\u001b[0m\u001b[0;34m{\u001b[0m\u001b[0mhasComma\u001b[0m\u001b[0;34m(\u001b[0m\u001b[0;34m\u001b[0m\n",
						"\u001b[0;34m\u001b[0m                                        \u001b[0mlastChar\u001b[0m\u001b[0;34m\u001b[0m\n",
						"\u001b[0;34m\u001b[0m                                \u001b[0;34m)\u001b[0m\u001b[0;34m}\u001b[0m\u001b[0;34m,\u001b[0m\u001b[0;31m$\u001b[0m\u001b[0;34m{\u001b[0m\u001b[0mhasComma\u001b[0m\u001b[0;34m(\u001b[0m\u001b[0;34m\u001b[0m\n",
						"\u001b[0;34m\u001b[0m                                        \u001b[0mcorrectChar\u001b[0m\u001b[0;34m\u001b[0m\n",
						"\u001b[0;34m\u001b[0m                                \u001b[0;34m)\u001b[0m\u001b[0;34m}\u001b[0m\u001b[0;34m,\u001b[0m\u001b[0;31m$\u001b[0m\u001b[0;34m{\u001b[0m\u001b[0mlayout\u001b[0m\u001b[0;34m}\u001b[0m\u001b[0;34m,\u001b[0m\u001b[0;31m$\u001b[0m\u001b[0;34m{\u001b[0m\u001b[0mtestNum\u001b[0m\u001b[0;34m}\u001b[0m\u001b[0;34m,\u001b[0m\u001b[0;31m$\u001b[0m\u001b[0;34m{\u001b[0m\u001b[0mtype\u001b[0m\u001b[0;34m}\u001b[0m\u001b[0;34m,\u001b[0m\u001b[0;31m$\u001b[0m\u001b[0;34m{\u001b[0m\u001b[0mlength\u001b[0m\u001b[0;34m}\u001b[0m\u001b[0;34m,\u001b[0m\u001b[0;31m$\u001b[0m\u001b[0;34m{\u001b[0m\u001b[0mlanguage\u001b[0m\u001b[0;34m}\u001b[0m\u001b[0;34m,\u001b[0m\u001b[0;31m$\u001b[0m\u001b[0;34m{\u001b[0m\u001b[0mfunbox\u001b[0m\u001b[0;34m}\u001b[0m\u001b[0;31m\\\u001b[0m\u001b[0mn\u001b[0m\u001b[0;31m`\u001b[0m\u001b[0;34m;\u001b[0m\u001b[0;34m\u001b[0m\n",
						"\u001b[0;34m\u001b[0m\u001b[0;34m\u001b[0m\n",
						"\u001b[0;34m\u001b[0m                                \u001b[0;34m//\u001b[0m \u001b[0mupdate\u001b[0m \u001b[0mdata\u001b[0m \u001b[0mfile\u001b[0m\u001b[0;34m\u001b[0m\n",
						"\u001b[0;34m\u001b[0m                                \u001b[0;32mawait\u001b[0m \u001b[0mDeno\u001b[0m\u001b[0;34m.\u001b[0m\u001b[0mwriteTextFile\u001b[0m\u001b[0;34m(\u001b[0m\u001b[0;34m'data.csv'\u001b[0m\u001b[0;34m,\u001b[0m \u001b[0mrow\u001b[0m\u001b[0;34m,\u001b[0m \u001b[0;34m{\u001b[0m\u001b[0;34m\u001b[0m\n",
						"\u001b[0;34m\u001b[0m                                        \u001b[0mappend\u001b[0m\u001b[0;34m:\u001b[0m \u001b[0mtrue\u001b[0m\u001b[0;34m\u001b[0m\n",
						"\u001b[0;34m\u001b[0m                                \u001b[0;34m}\u001b[0m\u001b[0;34m)\u001b[0m\u001b[0;34m;\u001b[0m\u001b[0;34m\u001b[0m\n",
						"\u001b[0;34m\u001b[0m                        \u001b[0;34m}\u001b[0m\u001b[0;34m\u001b[0m\n",
						"\u001b[0;34m\u001b[0m\u001b[0;34m\u001b[0m\n",
						"\u001b[0;34m\u001b[0m                        \u001b[0mconsole\u001b[0m\u001b[0;34m.\u001b[0m\u001b[0mlog\u001b[0m\u001b[0;34m(\u001b[0m\u001b[0;34m'Recorded test'\u001b[0m\u001b[0;34m,\u001b[0m \u001b[0mtest\u001b[0m\u001b[0;34m[\u001b[0m\u001b[0;36m0\u001b[0m\u001b[0;34m]\u001b[0m\u001b[0;34m.\u001b[0m\u001b[0mtestNum\u001b[0m\u001b[0;34m)\u001b[0m\u001b[0;34m;\u001b[0m\u001b[0;34m\u001b[0m\n",
						"\u001b[0;34m\u001b[0m                \u001b[0;34m}\u001b[0m\u001b[0;34m)\u001b[0m\u001b[0;34m\u001b[0m\n",
						"\u001b[0;34m\u001b[0m                \u001b[0;34m.\u001b[0m\u001b[0mthen\u001b[0m\u001b[0;34m(\u001b[0m\u001b[0;34m(\u001b[0m\u001b[0;34m)\u001b[0m \u001b[0;34m=\u001b[0m\u001b[0;34m>\u001b[0m \u001b[0;34m{\u001b[0m\u001b[0;34m\u001b[0m\n",
						"\u001b[0;34m\u001b[0m                        \u001b[0;32mreturn\u001b[0m \u001b[0mnew\u001b[0m \u001b[0mResponse\u001b[0m\u001b[0;34m(\u001b[0m\u001b[0mJSON\u001b[0m\u001b[0;34m.\u001b[0m\u001b[0mstringify\u001b[0m\u001b[0;34m(\u001b[0m\u001b[0;34m{\u001b[0m \u001b[0mhi\u001b[0m\u001b[0;34m:\u001b[0m \u001b[0;34m'hi'\u001b[0m \u001b[0;34m}\u001b[0m\u001b[0;34m)\u001b[0m\u001b[0;34m,\u001b[0m \u001b[0;34m{\u001b[0m\u001b[0;34m\u001b[0m\n",
						"\u001b[0;34m\u001b[0m                                \u001b[0mstatus\u001b[0m\u001b[0;34m:\u001b[0m \u001b[0;36m200\u001b[0m\u001b[0;34m,\u001b[0m\u001b[0;34m\u001b[0m\n",
						"\u001b[0;34m\u001b[0m                                \u001b[0mheaders\u001b[0m\u001b[0;34m:\u001b[0m \u001b[0;34m{\u001b[0m\u001b[0;34m\u001b[0m\n",
						"\u001b[0;34m\u001b[0m                                        \u001b[0;34m'Access-Control-Allow-Methods'\u001b[0m\u001b[0;34m:\u001b[0m \u001b[0;34m'GET, POST'\u001b[0m\u001b[0;34m,\u001b[0m\u001b[0;34m\u001b[0m\n",
						"\u001b[0;34m\u001b[0m                                        \u001b[0;34m'Access-Control-Allow-Origin'\u001b[0m\u001b[0;34m:\u001b[0m \u001b[0;34m'*'\u001b[0m\u001b[0;34m\u001b[0m\n",
						"\u001b[0;34m\u001b[0m                                \u001b[0;34m}\u001b[0m\u001b[0;34m\u001b[0m\n",
						"\u001b[0;34m\u001b[0m                        \u001b[0;34m}\u001b[0m\u001b[0;34m)\u001b[0m\u001b[0;34m;\u001b[0m\u001b[0;34m\u001b[0m\n",
						"\u001b[0;34m\u001b[0m                \u001b[0;34m}\u001b[0m\u001b[0;34m)\u001b[0m\u001b[0;34m;\u001b[0m\u001b[0;34m\u001b[0m\n",
						"\u001b[0;34m\u001b[0m\u001b[0;34m}\u001b[0m\u001b[0;34m;\u001b[0m\u001b[0;34m\u001b[0m\n",
						"\u001b[0;34m\u001b[0m\u001b[0;34m\u001b[0m\n",
						"\u001b[0;34m\u001b[0m\u001b[0;34m//\u001b[0m \u001b[0mstart\u001b[0m \u001b[0mlocalserver\u001b[0m\u001b[0;34m\u001b[0m\n",
						"\u001b[0;34m\u001b[0m\u001b[0mserve\u001b[0m\u001b[0;34m(\u001b[0m\u001b[0mhandler\u001b[0m\u001b[0;34m)\u001b[0m\u001b[0;34m;\u001b[0m\u001b[0;34m\u001b[0m\n",
						"\u001b[0;34m\u001b[0m\u001b[0;34m\u001b[0m\n",
						"\u001b[0;34m\u001b[0m\u001b[0;34m//\u001b[0m \u001b[0mdeno\u001b[0m \u001b[0mrun\u001b[0m \u001b[0;34m-\u001b[0m\u001b[0;34m-\u001b[0m\u001b[0mallow\u001b[0m\u001b[0;34m-\u001b[0m\u001b[0mnet\u001b[0m \u001b[0;34m-\u001b[0m\u001b[0;34m-\u001b[0m\u001b[0mallow\u001b[0m\u001b[0;34m-\u001b[0m\u001b[0mwrite\u001b[0m \u001b[0msave\u001b[0m\u001b[0;34m.\u001b[0m\u001b[0mts\u001b[0m\u001b[0;34m\u001b[0m\u001b[0;34m\u001b[0m\u001b[0m\n"
					]
				}
			],
			"source": [
				"%pycat data/save.ts"
			]
		},
		{
			"cell_type": "markdown",
			"metadata": {},
			"source": [
				"## Understanding the data\n"
			]
		},
		{
			"cell_type": "markdown",
			"metadata": {},
			"source": [
				"### Required Imports \n"
			]
		},
		{
			"cell_type": "code",
			"execution_count": 3,
			"metadata": {},
			"outputs": [],
			"source": [
				"from pandas import read_csv\n",
				"from matplotlib.pyplot import subplots"
			]
		},
		{
			"cell_type": "code",
			"execution_count": 4,
			"metadata": {},
			"outputs": [],
			"source": [
				"df = read_csv(\"data/data.csv\", keep_default_na=False)"
			]
		},
		{
			"cell_type": "markdown",
			"metadata": {},
			"source": [
				"### N-Grams\n"
			]
		},
		{
			"cell_type": "markdown",
			"metadata": {},
			"source": [
				"Although it rarely outputs actual words, the __Pseudolang__ funbox option generates words by algorithmically combining the common n-grams of the selected language. An n-gram is a sequence of two adjacent elements from a collection of tokens, and in this context, they are the likeliest letter sets. In English, some of the most common bigrams, or 2-grams, include:\n",
				"\n",
				"-   th\n",
				"-   he\n",
				"-   in\n",
				"-   er\n",
				"-   an\n",
				"-   re\n",
				"-   nd\n",
				"-   at\n",
				"-   on\n",
				"-   nt\n"
			]
		},
		{
			"cell_type": "markdown",
			"metadata": {},
			"source": [
				"Ingraining frequent n-grams into muscle memory is crucial to improving typing accuracy and speed. SemiColemak positions a few of these bigrams near each other, specifically in, he, at, and on, but underneath different fingers of the same hand. By avoiding the use of the same finger to type the n-gram, one can prime the finger assigned to the next letter in the sequence before the key is actually pressed, and as a product, decrease the time needed to type the whole word.\n"
			]
		},
		{
			"cell_type": "markdown",
			"metadata": {},
			"source": [
				"<img class='myimg' src='/Users/richard/Documents/umd/cmsc320/final/img/kb_legend.jpg'/>\n",
				"\n",
				"_An image of the legend of the keyboard_"
			]
		},
		{
			"cell_type": "code",
			"execution_count": 5,
			"metadata": {},
			"outputs": [
				{
					"name": "stdout",
					"output_type": "stream",
					"text": [
						"Percentage of rows with er bigram:\t12%\n",
						"Percentage of rows with re bigram:\t9%\n",
						"Percentage of rows with th bigram:\t6%\n",
						"Percentage of rows with in bigram:\t9%\n",
						"Percentage of rows with an bigram:\t6%\n",
						"Percentage of rows with at bigram:\t7%\n",
						"Percentage of rows with he bigram:\t4%\n",
						"Percentage of rows with on bigram:\t8%\n",
						"Percentage of rows with nd bigram:\t4%\n",
						"Percentage of rows with nt bigram:\t5%\n"
					]
				}
			],
			"source": [
				"# Calculate the percentage of words with a listed n-gram in the entire dataset\n",
				"\n",
				"ngrams = [\"er\", \"re\", \"th\", \"in\",\"an\", \"at\", \"he\", \"on\", \"nd\",  \"nt\"]\n",
				"for x in ngrams:\n",
				"    print(\n",
				"        f\"Percentage of rows with {x} bigram:\\t{round(len(df[df.activeWord.str.contains(x)]) * 100 / len(df))}%\"\n",
				"    )\n"
			]
		},
		{
			"cell_type": "markdown",
			"metadata": {},
			"source": [
				"### Languages\n"
			]
		},
		{
			"attachments": {},
			"cell_type": "markdown",
			"metadata": {},
			"source": [
				"Monkey Type can generate typing tests in many different languages, so, in order to emulate the words that I use from day to day, about 72% of the tests that I took were comprised of English words, but since I write a lot of Python, JavaScript, C++ and Swift, to a lesser degree, French, those languages were added to the test mix."
			]
		},
		{
			"cell_type": "markdown",
			"metadata": {},
			"source": [
				"Since all of the programming languages included use English-based syntax, they share many of the n-grams with English, however regular English does not train your fingers for coding paradigms like camel or snake case or using parentheses, equal signs, or comparators frequently."
			]
		},
		{
			"cell_type": "code",
			"execution_count": 6,
			"metadata": {},
			"outputs": [
				{
					"data": {
						"text/plain": [
							"<AxesSubplot:>"
						]
					},
					"execution_count": 6,
					"metadata": {},
					"output_type": "execute_result"
				},
				{
					"data": {
						"image/png": "[encoded data removed]",
						"text/plain": [
							"<Figure size 640x480 with 1 Axes>"
						]
					},
					"metadata": {},
					"output_type": "display_data"
				}
			],
			"source": [
				"# Get value counts\n",
				"v = df.language.value_counts()\n",
				"\n",
				"# Generate color gradients\n",
				"colors = [0] * 3\n",
				"\n",
				"def pickColor(x):\n",
				"    if \"code\" in x or 'git' in x:\n",
				"        colors[0] += 1\n",
				"        return \"#\" + \"\".join(\n",
				"            [hex(c - (12 * colors[0]))[2:] for c in [0x71, 0xff, 0x9f]]\n",
				"        )\n",
				"    if \"english\" in x or \"wordle\" in x:\n",
				"        colors[1] += 1\n",
				"        return \"#\" + \"\".join(\n",
				"            [hex(c - (10 * colors[1]))[2:] for c in [0xff, 0x61, 0x61]]\n",
				"        )\n",
				"    if \"french\" in x:\n",
				"        colors[2] += 1\n",
				"        return \"#\" + \"\".join(\n",
				"            [hex(c - (12 * colors[2]))[2:] for c in [0x61, 0xD7, 0xff]]\n",
				"        )\n",
				"\n",
				"# Plot pie graph\n",
				"v.plot.pie(\n",
				"    radius=4,\n",
				"    ylabel=\"\",\n",
				"\tpctdistance=0.9,\n",
				"    colors=[pickColor(x) for x in v.index],\n",
				"    labels=v.index,\n",
				"    autopct=lambda x: f\"{round(x, 1)}%\\n{int(x * v.sum() / 100)} characters\",\n",
				")\n"
			]
		},
		{
			"cell_type": "markdown",
			"metadata": {},
			"source": [
				"_English language sets are depicted in various degrees of red, code sets in green, and French in blue._"
			]
		},
		{
			"cell_type": "markdown",
			"metadata": {},
			"source": [
				"### Punctuation \n"
			]
		},
		{
			"attachments": {},
			"cell_type": "markdown",
			"metadata": {},
			"source": [
				"When spoken languages are transcribed, punctuation marks are added. Monkey Type does not add these marks by default, so the **Quote** test __type__ was used to introduce them.\n"
			]
		},
		{
			"cell_type": "code",
			"execution_count": 7,
			"metadata": {},
			"outputs": [
				{
					"data": {
						"text/html": [
							"<div>\n",
							"<style scoped>\n",
							"    .dataframe tbody tr th:only-of-type {\n",
							"        vertical-align: middle;\n",
							"    }\n",
							"\n",
							"    .dataframe tbody tr th {\n",
							"        vertical-align: top;\n",
							"    }\n",
							"\n",
							"    .dataframe thead th {\n",
							"        text-align: right;\n",
							"    }\n",
							"</style>\n",
							"<table border=\"1\" class=\"dataframe\">\n",
							"  <thead>\n",
							"    <tr style=\"text-align: right;\">\n",
							"      <th></th>\n",
							"      <th>timestamp</th>\n",
							"      <th>activeWord</th>\n",
							"      <th>lastChar</th>\n",
							"      <th>correctChar</th>\n",
							"      <th>layout</th>\n",
							"      <th>testNum</th>\n",
							"      <th>type</th>\n",
							"      <th>length</th>\n",
							"      <th>language</th>\n",
							"      <th>funbox</th>\n",
							"    </tr>\n",
							"  </thead>\n",
							"  <tbody>\n",
							"    <tr>\n",
							"      <th>12907</th>\n",
							"      <td>2022-12-12T13:35:48.619Z</td>\n",
							"      <td>don't</td>\n",
							"      <td>d</td>\n",
							"      <td>d</td>\n",
							"      <td>semicolemakdh</td>\n",
							"      <td>1</td>\n",
							"      <td>quote</td>\n",
							"      <td>25</td>\n",
							"      <td>english</td>\n",
							"      <td>null</td>\n",
							"    </tr>\n",
							"    <tr>\n",
							"      <th>12908</th>\n",
							"      <td>2022-12-12T13:35:48.748Z</td>\n",
							"      <td>don't</td>\n",
							"      <td>o</td>\n",
							"      <td>o</td>\n",
							"      <td>semicolemakdh</td>\n",
							"      <td>1</td>\n",
							"      <td>quote</td>\n",
							"      <td>25</td>\n",
							"      <td>english</td>\n",
							"      <td>null</td>\n",
							"    </tr>\n",
							"    <tr>\n",
							"      <th>12909</th>\n",
							"      <td>2022-12-12T13:35:48.982Z</td>\n",
							"      <td>don't</td>\n",
							"      <td>n</td>\n",
							"      <td>n</td>\n",
							"      <td>semicolemakdh</td>\n",
							"      <td>1</td>\n",
							"      <td>quote</td>\n",
							"      <td>25</td>\n",
							"      <td>english</td>\n",
							"      <td>null</td>\n",
							"    </tr>\n",
							"    <tr>\n",
							"      <th>12910</th>\n",
							"      <td>2022-12-12T13:35:49.428Z</td>\n",
							"      <td>don't</td>\n",
							"      <td>'</td>\n",
							"      <td>'</td>\n",
							"      <td>semicolemakdh</td>\n",
							"      <td>1</td>\n",
							"      <td>quote</td>\n",
							"      <td>25</td>\n",
							"      <td>english</td>\n",
							"      <td>null</td>\n",
							"    </tr>\n",
							"    <tr>\n",
							"      <th>12911</th>\n",
							"      <td>2022-12-12T13:35:49.746Z</td>\n",
							"      <td>don't</td>\n",
							"      <td>t</td>\n",
							"      <td>t</td>\n",
							"      <td>semicolemakdh</td>\n",
							"      <td>1</td>\n",
							"      <td>quote</td>\n",
							"      <td>25</td>\n",
							"      <td>english</td>\n",
							"      <td>null</td>\n",
							"    </tr>\n",
							"  </tbody>\n",
							"</table>\n",
							"</div>"
						],
						"text/plain": [
							"                      timestamp activeWord lastChar correctChar  \\\n",
							"12907  2022-12-12T13:35:48.619Z     don't         d           d   \n",
							"12908  2022-12-12T13:35:48.748Z     don't         o           o   \n",
							"12909  2022-12-12T13:35:48.982Z     don't         n           n   \n",
							"12910  2022-12-12T13:35:49.428Z     don't         '           '   \n",
							"12911  2022-12-12T13:35:49.746Z     don't         t           t   \n",
							"\n",
							"              layout  testNum   type  length language funbox  \n",
							"12907  semicolemakdh        1  quote      25  english   null  \n",
							"12908  semicolemakdh        1  quote      25  english   null  \n",
							"12909  semicolemakdh        1  quote      25  english   null  \n",
							"12910  semicolemakdh        1  quote      25  english   null  \n",
							"12911  semicolemakdh        1  quote      25  english   null  "
						]
					},
					"execution_count": 7,
					"metadata": {},
					"output_type": "execute_result"
				}
			],
			"source": [
				"# Words with punctuation\n",
				"\n",
				"df[df[\"activeWord\"].str.contains(\"'\")].head()"
			]
		},
		{
			"cell_type": "markdown",
			"metadata": {},
			"source": [
				"## Feature Engineering\n"
			]
		},
		{
			"attachments": {},
			"cell_type": "markdown",
			"metadata": {},
			"source": [
				"The first step in identifying the points of error in my keyboard usage is to define a set of metrics to measure those errors. Once defined and computed, these metrics will be added as columns in the Pandas DataFrame. "
			]
		},
		{
			"cell_type": "markdown",
			"metadata": {},
			"source": [
				"### Required Imports \n"
			]
		},
		{
			"cell_type": "code",
			"execution_count": 8,
			"metadata": {},
			"outputs": [],
			"source": [
				"from datetime import datetime as dt, timedelta\n",
				"from pandas import set_option\n",
				"from numpy import NaN, nan"
			]
		},
		{
			"cell_type": "markdown",
			"metadata": {},
			"source": [
				"### Speed"
			]
		},
		{
			"attachments": {},
			"cell_type": "markdown",
			"metadata": {},
			"source": [
				"Typing speed is calculated in characters per second rather than the customary unit of measurement, words per minute. Since there is a high variance in the length of words, using wpm would require some sort of averaging, which would invite information loss. Measuring characters per second does not necessitate averaging because it relies on the smallest non-temporal piece of data, the character. "
			]
		},
		{
			"attachments": {},
			"cell_type": "markdown",
			"metadata": {},
			"source": [
				"Characters per second is calculated by subtracting timestamps between two adjacent characters. This strategy works well when every letter typed is correct, however, since I am still learning, correctly typed characters inevitably precede mistypes. Instead of returning an accurate measurement of the useful characters typed per unit of time, the interval between characters simply returns raw typing speed. To remedy this, the speed of incorrectly typed characters is replaced with the mean of over the active word."
			]
		},
		{
			"cell_type": "code",
			"execution_count": 9,
			"metadata": {},
			"outputs": [
				{
					"data": {
						"text/html": [
							"<div>\n",
							"<style scoped>\n",
							"    .dataframe tbody tr th:only-of-type {\n",
							"        vertical-align: middle;\n",
							"    }\n",
							"\n",
							"    .dataframe tbody tr th {\n",
							"        vertical-align: top;\n",
							"    }\n",
							"\n",
							"    .dataframe thead th {\n",
							"        text-align: right;\n",
							"    }\n",
							"</style>\n",
							"<table border=\"1\" class=\"dataframe\">\n",
							"  <thead>\n",
							"    <tr style=\"text-align: right;\">\n",
							"      <th></th>\n",
							"      <th>timestamp</th>\n",
							"      <th>activeWord</th>\n",
							"      <th>lastChar</th>\n",
							"      <th>correctChar</th>\n",
							"      <th>layout</th>\n",
							"      <th>testNum</th>\n",
							"      <th>type</th>\n",
							"      <th>length</th>\n",
							"      <th>language</th>\n",
							"      <th>funbox</th>\n",
							"    </tr>\n",
							"  </thead>\n",
							"  <tbody>\n",
							"    <tr>\n",
							"      <th>0</th>\n",
							"      <td>2022-12-12 07:45:16.438</td>\n",
							"      <td>ninth</td>\n",
							"      <td>n</td>\n",
							"      <td>n</td>\n",
							"      <td>semicolemakdh</td>\n",
							"      <td>1</td>\n",
							"      <td>words</td>\n",
							"      <td>10</td>\n",
							"      <td>wordle</td>\n",
							"      <td>null</td>\n",
							"    </tr>\n",
							"    <tr>\n",
							"      <th>1</th>\n",
							"      <td>2022-12-12 07:45:16.527</td>\n",
							"      <td>ninth</td>\n",
							"      <td>i</td>\n",
							"      <td>i</td>\n",
							"      <td>semicolemakdh</td>\n",
							"      <td>1</td>\n",
							"      <td>words</td>\n",
							"      <td>10</td>\n",
							"      <td>wordle</td>\n",
							"      <td>null</td>\n",
							"    </tr>\n",
							"    <tr>\n",
							"      <th>2</th>\n",
							"      <td>2022-12-12 07:45:16.650</td>\n",
							"      <td>ninth</td>\n",
							"      <td>n</td>\n",
							"      <td>n</td>\n",
							"      <td>semicolemakdh</td>\n",
							"      <td>1</td>\n",
							"      <td>words</td>\n",
							"      <td>10</td>\n",
							"      <td>wordle</td>\n",
							"      <td>null</td>\n",
							"    </tr>\n",
							"    <tr>\n",
							"      <th>3</th>\n",
							"      <td>2022-12-12 07:45:16.881</td>\n",
							"      <td>ninth</td>\n",
							"      <td>t</td>\n",
							"      <td>t</td>\n",
							"      <td>semicolemakdh</td>\n",
							"      <td>1</td>\n",
							"      <td>words</td>\n",
							"      <td>10</td>\n",
							"      <td>wordle</td>\n",
							"      <td>null</td>\n",
							"    </tr>\n",
							"    <tr>\n",
							"      <th>4</th>\n",
							"      <td>2022-12-12 07:45:17.005</td>\n",
							"      <td>ninth</td>\n",
							"      <td>h</td>\n",
							"      <td>h</td>\n",
							"      <td>semicolemakdh</td>\n",
							"      <td>1</td>\n",
							"      <td>words</td>\n",
							"      <td>10</td>\n",
							"      <td>wordle</td>\n",
							"      <td>null</td>\n",
							"    </tr>\n",
							"  </tbody>\n",
							"</table>\n",
							"</div>"
						],
						"text/plain": [
							"                timestamp activeWord lastChar correctChar         layout  \\\n",
							"0 2022-12-12 07:45:16.438     ninth         n           n  semicolemakdh   \n",
							"1 2022-12-12 07:45:16.527     ninth         i           i  semicolemakdh   \n",
							"2 2022-12-12 07:45:16.650     ninth         n           n  semicolemakdh   \n",
							"3 2022-12-12 07:45:16.881     ninth         t           t  semicolemakdh   \n",
							"4 2022-12-12 07:45:17.005     ninth         h           h  semicolemakdh   \n",
							"\n",
							"   testNum   type  length language funbox  \n",
							"0        1  words      10   wordle   null  \n",
							"1        1  words      10   wordle   null  \n",
							"2        1  words      10   wordle   null  \n",
							"3        1  words      10   wordle   null  \n",
							"4        1  words      10   wordle   null  "
						]
					},
					"execution_count": 9,
					"metadata": {},
					"output_type": "execute_result"
				}
			],
			"source": [
				"# Converting timestamps to python's date object\n",
				"\n",
				"df.timestamp = df.timestamp.apply(lambda x: dt.fromisoformat(x[:-1]))\n",
				"df.head()"
			]
		},
		{
			"cell_type": "code",
			"execution_count": 10,
			"metadata": {},
			"outputs": [
				{
					"data": {
						"text/html": [
							"<div>\n",
							"<style scoped>\n",
							"    .dataframe tbody tr th:only-of-type {\n",
							"        vertical-align: middle;\n",
							"    }\n",
							"\n",
							"    .dataframe tbody tr th {\n",
							"        vertical-align: top;\n",
							"    }\n",
							"\n",
							"    .dataframe thead th {\n",
							"        text-align: right;\n",
							"    }\n",
							"</style>\n",
							"<table border=\"1\" class=\"dataframe\">\n",
							"  <thead>\n",
							"    <tr style=\"text-align: right;\">\n",
							"      <th></th>\n",
							"      <th>timestamp</th>\n",
							"      <th>lastChar</th>\n",
							"      <th>cps</th>\n",
							"    </tr>\n",
							"  </thead>\n",
							"  <tbody>\n",
							"    <tr>\n",
							"      <th>0</th>\n",
							"      <td>2022-12-12 07:45:16.438</td>\n",
							"      <td>n</td>\n",
							"      <td>NaN</td>\n",
							"    </tr>\n",
							"    <tr>\n",
							"      <th>1</th>\n",
							"      <td>2022-12-12 07:45:16.527</td>\n",
							"      <td>i</td>\n",
							"      <td>0.089</td>\n",
							"    </tr>\n",
							"    <tr>\n",
							"      <th>2</th>\n",
							"      <td>2022-12-12 07:45:16.650</td>\n",
							"      <td>n</td>\n",
							"      <td>0.123</td>\n",
							"    </tr>\n",
							"    <tr>\n",
							"      <th>3</th>\n",
							"      <td>2022-12-12 07:45:16.881</td>\n",
							"      <td>t</td>\n",
							"      <td>0.231</td>\n",
							"    </tr>\n",
							"    <tr>\n",
							"      <th>4</th>\n",
							"      <td>2022-12-12 07:45:17.005</td>\n",
							"      <td>h</td>\n",
							"      <td>0.124</td>\n",
							"    </tr>\n",
							"  </tbody>\n",
							"</table>\n",
							"</div>"
						],
						"text/plain": [
							"                timestamp lastChar    cps\n",
							"0 2022-12-12 07:45:16.438        n    NaN\n",
							"1 2022-12-12 07:45:16.527        i  0.089\n",
							"2 2022-12-12 07:45:16.650        n  0.123\n",
							"3 2022-12-12 07:45:16.881        t  0.231\n",
							"4 2022-12-12 07:45:17.005        h  0.124"
						]
					},
					"execution_count": 10,
					"metadata": {},
					"output_type": "execute_result"
				}
			],
			"source": [
				"# Subtract the intervals\n",
				"\n",
				"df[\"cps\"] = df.timestamp\n",
				"df.cps = df.cps.sub(df.timestamp.shift()).apply(lambda x: x.total_seconds())\n",
				"\n",
				"# Show results\n",
				"df[[\"timestamp\", \"lastChar\", \"cps\"]].head()"
			]
		},
		{
			"attachments": {},
			"cell_type": "markdown",
			"metadata": {},
			"source": [
				"The intervals between letters in the same word and in the same test are correct, but since tests were not taken consecutively, some intervals are much too large."
			]
		},
		{
			"cell_type": "code",
			"execution_count": 11,
			"metadata": {},
			"outputs": [
				{
					"data": {
						"text/html": [
							"<div>\n",
							"<style scoped>\n",
							"    .dataframe tbody tr th:only-of-type {\n",
							"        vertical-align: middle;\n",
							"    }\n",
							"\n",
							"    .dataframe tbody tr th {\n",
							"        vertical-align: top;\n",
							"    }\n",
							"\n",
							"    .dataframe thead th {\n",
							"        text-align: right;\n",
							"    }\n",
							"</style>\n",
							"<table border=\"1\" class=\"dataframe\">\n",
							"  <thead>\n",
							"    <tr style=\"text-align: right;\">\n",
							"      <th></th>\n",
							"      <th>timestamp</th>\n",
							"      <th>activeWord</th>\n",
							"      <th>lastChar</th>\n",
							"      <th>correctChar</th>\n",
							"      <th>layout</th>\n",
							"      <th>testNum</th>\n",
							"      <th>type</th>\n",
							"      <th>length</th>\n",
							"      <th>language</th>\n",
							"      <th>funbox</th>\n",
							"      <th>cps</th>\n",
							"    </tr>\n",
							"  </thead>\n",
							"  <tbody>\n",
							"    <tr>\n",
							"      <th>11019</th>\n",
							"      <td>2022-12-12 09:31:38.781</td>\n",
							"      <td>faut</td>\n",
							"      <td>t</td>\n",
							"      <td>t</td>\n",
							"      <td>semicolemakdh</td>\n",
							"      <td>79</td>\n",
							"      <td>words</td>\n",
							"      <td>10</td>\n",
							"      <td>french</td>\n",
							"      <td>null</td>\n",
							"      <td>0.556</td>\n",
							"    </tr>\n",
							"    <tr>\n",
							"      <th>11020</th>\n",
							"      <td>2022-12-12 13:14:29.763</td>\n",
							"      <td>mark</td>\n",
							"      <td>m</td>\n",
							"      <td>m</td>\n",
							"      <td>semicolemakdh</td>\n",
							"      <td>1</td>\n",
							"      <td>words</td>\n",
							"      <td>10</td>\n",
							"      <td>english 5k</td>\n",
							"      <td>null</td>\n",
							"      <td>13370.982</td>\n",
							"    </tr>\n",
							"  </tbody>\n",
							"</table>\n",
							"</div>"
						],
						"text/plain": [
							"                    timestamp activeWord lastChar correctChar         layout  \\\n",
							"11019 2022-12-12 09:31:38.781       faut        t           t  semicolemakdh   \n",
							"11020 2022-12-12 13:14:29.763      mark         m           m  semicolemakdh   \n",
							"\n",
							"       testNum   type  length    language funbox        cps  \n",
							"11019       79  words      10      french   null      0.556  \n",
							"11020        1  words      10  english 5k   null  13370.982  "
						]
					},
					"execution_count": 11,
					"metadata": {},
					"output_type": "execute_result"
				}
			],
			"source": [
				"df.iloc[[11019, 11020]]"
			]
		},
		{
			"cell_type": "markdown",
			"metadata": {},
			"source": [
				"Although these letters were recorded successively, moving my fingers from the _t_ to _m_ key to begin the word _mark_ did not take nearly 4 hours. To ensure accuracy of the data, the beginning of the interval must align with the start of each test."
			]
		},
		{
			"attachments": {},
			"cell_type": "markdown",
			"metadata": {},
			"source": [
				"Tests taken in the same browser session are labeled in chronological order, but if the tab with running the logger was closed or refreshed, the order was reset to test number 1. Fixing the values in the __testNum__ column is necessary to get the correct cpms."
			]
		},
		{
			"cell_type": "code",
			"execution_count": 12,
			"metadata": {},
			"outputs": [],
			"source": [
				"# Loop over each row\n",
				"for i, _ in df.iterrows():\n",
				"\tif i + 1 == len(df):\n",
				"\t\tbreak\n",
				"\n",
				"\ttn = int(df.at[i, 'testNum'])\n",
				"\tntn = int(df.at[i + 1, 'testNum'])\n",
				"\t\n",
				"\t# If the next row's num is less than the current row's (the rows are misordered)\n",
				"\tif tn > ntn:\n",
				"\n",
				"\t\t# Change all of the words in the next row's test to the correct number\n",
				"\t\tj = i + 1\n",
				"\t\tnln = df.at[j, 'length']\n",
				"\t\tlastWord = df.at[j, 'activeWord']\n",
				"\t\twhile nln > 0 and j < len(df):\n",
				"\t\t\tdf.at[j, 'testNum'] = tn + 1\n",
				"\n",
				"\t\t\t# If lastWord is different from this word\n",
				"\t\t\tif lastWord != df.at[j, 'activeWord']:\n",
				"\t\t\t\tlastWord = df.at[j, 'activeWord']\n",
				"\t\t\t\tnln -= 1\n",
				"\n",
				"\t\t\t# If row is the last of its word\n",
				"\t\t\tif lastWord[-1] != ' ' and j + 1 < len(df) and df.at[j + 1, 'activeWord'] != lastWord:\n",
				"\t\t\t\tbreak\n",
				"\t\t\tj += 1"
			]
		},
		{
			"cell_type": "markdown",
			"metadata": {},
			"source": [
				"Now that the tests are correctly indexed, we set the initial letter in each test to a null value."
			]
		},
		{
			"cell_type": "code",
			"execution_count": 13,
			"metadata": {},
			"outputs": [
				{
					"data": {
						"text/html": [
							"<div>\n",
							"<style scoped>\n",
							"    .dataframe tbody tr th:only-of-type {\n",
							"        vertical-align: middle;\n",
							"    }\n",
							"\n",
							"    .dataframe tbody tr th {\n",
							"        vertical-align: top;\n",
							"    }\n",
							"\n",
							"    .dataframe thead th {\n",
							"        text-align: right;\n",
							"    }\n",
							"</style>\n",
							"<table border=\"1\" class=\"dataframe\">\n",
							"  <thead>\n",
							"    <tr style=\"text-align: right;\">\n",
							"      <th></th>\n",
							"      <th>timestamp</th>\n",
							"      <th>activeWord</th>\n",
							"      <th>lastChar</th>\n",
							"      <th>correctChar</th>\n",
							"      <th>layout</th>\n",
							"      <th>testNum</th>\n",
							"      <th>type</th>\n",
							"      <th>length</th>\n",
							"      <th>language</th>\n",
							"      <th>funbox</th>\n",
							"      <th>cps</th>\n",
							"    </tr>\n",
							"  </thead>\n",
							"  <tbody>\n",
							"    <tr>\n",
							"      <th>24132</th>\n",
							"      <td>2022-12-13 21:20:01.585</td>\n",
							"      <td>avancer</td>\n",
							"      <td>a</td>\n",
							"      <td>a</td>\n",
							"      <td>semicolemakdh</td>\n",
							"      <td>300</td>\n",
							"      <td>words</td>\n",
							"      <td>25</td>\n",
							"      <td>french 1k</td>\n",
							"      <td>null</td>\n",
							"      <td>NaN</td>\n",
							"    </tr>\n",
							"    <tr>\n",
							"      <th>24133</th>\n",
							"      <td>2022-12-13 21:20:01.715</td>\n",
							"      <td>avancer</td>\n",
							"      <td>v</td>\n",
							"      <td>v</td>\n",
							"      <td>semicolemakdh</td>\n",
							"      <td>300</td>\n",
							"      <td>words</td>\n",
							"      <td>25</td>\n",
							"      <td>french 1k</td>\n",
							"      <td>null</td>\n",
							"      <td>0.130</td>\n",
							"    </tr>\n",
							"    <tr>\n",
							"      <th>24134</th>\n",
							"      <td>2022-12-13 21:20:01.817</td>\n",
							"      <td>avancer</td>\n",
							"      <td>a</td>\n",
							"      <td>a</td>\n",
							"      <td>semicolemakdh</td>\n",
							"      <td>300</td>\n",
							"      <td>words</td>\n",
							"      <td>25</td>\n",
							"      <td>french 1k</td>\n",
							"      <td>null</td>\n",
							"      <td>0.102</td>\n",
							"    </tr>\n",
							"    <tr>\n",
							"      <th>24135</th>\n",
							"      <td>2022-12-13 21:20:02.057</td>\n",
							"      <td>avancer</td>\n",
							"      <td>n</td>\n",
							"      <td>n</td>\n",
							"      <td>semicolemakdh</td>\n",
							"      <td>300</td>\n",
							"      <td>words</td>\n",
							"      <td>25</td>\n",
							"      <td>french 1k</td>\n",
							"      <td>null</td>\n",
							"      <td>0.240</td>\n",
							"    </tr>\n",
							"    <tr>\n",
							"      <th>24136</th>\n",
							"      <td>2022-12-13 21:20:02.400</td>\n",
							"      <td>avancer</td>\n",
							"      <td>c</td>\n",
							"      <td>c</td>\n",
							"      <td>semicolemakdh</td>\n",
							"      <td>300</td>\n",
							"      <td>words</td>\n",
							"      <td>25</td>\n",
							"      <td>french 1k</td>\n",
							"      <td>null</td>\n",
							"      <td>0.343</td>\n",
							"    </tr>\n",
							"  </tbody>\n",
							"</table>\n",
							"</div>"
						],
						"text/plain": [
							"                    timestamp activeWord lastChar correctChar         layout  \\\n",
							"24132 2022-12-13 21:20:01.585   avancer         a           a  semicolemakdh   \n",
							"24133 2022-12-13 21:20:01.715   avancer         v           v  semicolemakdh   \n",
							"24134 2022-12-13 21:20:01.817   avancer         a           a  semicolemakdh   \n",
							"24135 2022-12-13 21:20:02.057   avancer         n           n  semicolemakdh   \n",
							"24136 2022-12-13 21:20:02.400   avancer         c           c  semicolemakdh   \n",
							"\n",
							"       testNum   type  length   language funbox    cps  \n",
							"24132      300  words      25  french 1k   null    NaN  \n",
							"24133      300  words      25  french 1k   null  0.130  \n",
							"24134      300  words      25  french 1k   null  0.102  \n",
							"24135      300  words      25  french 1k   null  0.240  \n",
							"24136      300  words      25  french 1k   null  0.343  "
						]
					},
					"execution_count": 13,
					"metadata": {},
					"output_type": "execute_result"
				}
			],
			"source": [
				"# get the first characters in each list\n",
				"firstChars = df.groupby('testNum').cps.head(1)\n",
				"\n",
				"# set each start's cps to null value\n",
				"for i in firstChars.index:\n",
				"\tdf.loc[i, 'cps'] = NaN\n",
				"\n",
				"df[df.testNum == 300].head()"
			]
		},
		{
			"cell_type": "markdown",
			"metadata": {},
			"source": [
				"### Consistency"
			]
		},
		{
			"attachments": {},
			"cell_type": "markdown",
			"metadata": {},
			"source": [
				"Consistency is the measure of the difference in characters per second across the letters of a word. Analyzing the consistency between keypresses will determine the bi and trigrams that require the most practice."
			]
		},
		{
			"attachments": {},
			"cell_type": "markdown",
			"metadata": {},
			"source": [
				"$$\\text{consistency score} = \\text{cps}_i - \\text{cps}_{i - 1}$$\n",
				"\n",
				"_Lower is better_"
			]
		},
		{
			"cell_type": "code",
			"execution_count": 14,
			"metadata": {},
			"outputs": [
				{
					"data": {
						"text/html": [
							"<div>\n",
							"<style scoped>\n",
							"    .dataframe tbody tr th:only-of-type {\n",
							"        vertical-align: middle;\n",
							"    }\n",
							"\n",
							"    .dataframe tbody tr th {\n",
							"        vertical-align: top;\n",
							"    }\n",
							"\n",
							"    .dataframe thead th {\n",
							"        text-align: right;\n",
							"    }\n",
							"</style>\n",
							"<table border=\"1\" class=\"dataframe\">\n",
							"  <thead>\n",
							"    <tr style=\"text-align: right;\">\n",
							"      <th></th>\n",
							"      <th>lastChar</th>\n",
							"      <th>cps</th>\n",
							"      <th>consistency</th>\n",
							"    </tr>\n",
							"  </thead>\n",
							"  <tbody>\n",
							"    <tr>\n",
							"      <th>0</th>\n",
							"      <td>n</td>\n",
							"      <td>NaN</td>\n",
							"      <td>NaN</td>\n",
							"    </tr>\n",
							"    <tr>\n",
							"      <th>1</th>\n",
							"      <td>i</td>\n",
							"      <td>0.089</td>\n",
							"      <td>0.089</td>\n",
							"    </tr>\n",
							"    <tr>\n",
							"      <th>2</th>\n",
							"      <td>n</td>\n",
							"      <td>0.123</td>\n",
							"      <td>0.034</td>\n",
							"    </tr>\n",
							"    <tr>\n",
							"      <th>3</th>\n",
							"      <td>t</td>\n",
							"      <td>0.231</td>\n",
							"      <td>0.108</td>\n",
							"    </tr>\n",
							"    <tr>\n",
							"      <th>4</th>\n",
							"      <td>h</td>\n",
							"      <td>0.124</td>\n",
							"      <td>-0.107</td>\n",
							"    </tr>\n",
							"  </tbody>\n",
							"</table>\n",
							"</div>"
						],
						"text/plain": [
							"  lastChar    cps  consistency\n",
							"0        n    NaN          NaN\n",
							"1        i  0.089        0.089\n",
							"2        n  0.123        0.034\n",
							"3        t  0.231        0.108\n",
							"4        h  0.124       -0.107"
						]
					},
					"execution_count": 14,
					"metadata": {},
					"output_type": "execute_result"
				}
			],
			"source": [
				"# Subtract the time to press character_i from time to press character_i-1\n",
				"df['consistency'] = df.cps\n",
				"df.consistency = df.consistency.sub(df.cps.shift())\n",
				"\n",
				"# Replace NaN value of the second words with the cps\n",
				"df.consistency = df.consistency.fillna(df.cps)\n",
				"\n",
				"# Show results\n",
				"df[['lastChar', 'cps', 'consistency']].head()"
			]
		},
		{
			"cell_type": "markdown",
			"metadata": {},
			"source": [
				"### Accuracy"
			]
		},
		{
			"attachments": {},
			"cell_type": "markdown",
			"metadata": {},
			"source": [
				"Another important metric for identifying the points of typing errors is accuracy. It will be calculated by dividing the number of keypresses taken to correctly type a word by the number of characters in that word, then subtracting that number from 1. "
			]
		},
		{
			"attachments": {},
			"cell_type": "markdown",
			"metadata": {},
			"source": [
				"$$\\text{accuracy score} = \\frac{\\text{keypresses to type correctly}}{\\text{length of word}} - 1$$ \n",
				"\n",
				"_Zero is perfect, Less than zero is a partially completed word, More than zero has more keypresses than necessary_"
			]
		},
		{
			"cell_type": "code",
			"execution_count": 23,
			"metadata": {},
			"outputs": [
				{
					"data": {
						"text/html": [
							"<div>\n",
							"<style scoped>\n",
							"    .dataframe tbody tr th:only-of-type {\n",
							"        vertical-align: middle;\n",
							"    }\n",
							"\n",
							"    .dataframe tbody tr th {\n",
							"        vertical-align: top;\n",
							"    }\n",
							"\n",
							"    .dataframe thead th {\n",
							"        text-align: right;\n",
							"    }\n",
							"</style>\n",
							"<table border=\"1\" class=\"dataframe\">\n",
							"  <thead>\n",
							"    <tr style=\"text-align: right;\">\n",
							"      <th></th>\n",
							"      <th>activeWord</th>\n",
							"      <th>lastChar</th>\n",
							"      <th>acc</th>\n",
							"    </tr>\n",
							"  </thead>\n",
							"  <tbody>\n",
							"    <tr>\n",
							"      <th>0</th>\n",
							"      <td>ninth</td>\n",
							"      <td>n</td>\n",
							"      <td>0.000000</td>\n",
							"    </tr>\n",
							"    <tr>\n",
							"      <th>1</th>\n",
							"      <td>ninth</td>\n",
							"      <td>i</td>\n",
							"      <td>0.000000</td>\n",
							"    </tr>\n",
							"    <tr>\n",
							"      <th>2</th>\n",
							"      <td>ninth</td>\n",
							"      <td>n</td>\n",
							"      <td>0.000000</td>\n",
							"    </tr>\n",
							"    <tr>\n",
							"      <th>3</th>\n",
							"      <td>ninth</td>\n",
							"      <td>t</td>\n",
							"      <td>0.000000</td>\n",
							"    </tr>\n",
							"    <tr>\n",
							"      <th>4</th>\n",
							"      <td>ninth</td>\n",
							"      <td>h</td>\n",
							"      <td>0.000000</td>\n",
							"    </tr>\n",
							"    <tr>\n",
							"      <th>5</th>\n",
							"      <td>ninth</td>\n",
							"      <td></td>\n",
							"      <td>0.000000</td>\n",
							"    </tr>\n",
							"    <tr>\n",
							"      <th>6</th>\n",
							"      <td>droop</td>\n",
							"      <td>c</td>\n",
							"      <td>0.166667</td>\n",
							"    </tr>\n",
							"    <tr>\n",
							"      <th>7</th>\n",
							"      <td>droop</td>\n",
							"      <td>d</td>\n",
							"      <td>0.166667</td>\n",
							"    </tr>\n",
							"    <tr>\n",
							"      <th>8</th>\n",
							"      <td>droop</td>\n",
							"      <td>r</td>\n",
							"      <td>0.166667</td>\n",
							"    </tr>\n",
							"    <tr>\n",
							"      <th>9</th>\n",
							"      <td>droop</td>\n",
							"      <td>o</td>\n",
							"      <td>0.166667</td>\n",
							"    </tr>\n",
							"    <tr>\n",
							"      <th>10</th>\n",
							"      <td>droop</td>\n",
							"      <td>o</td>\n",
							"      <td>0.166667</td>\n",
							"    </tr>\n",
							"    <tr>\n",
							"      <th>11</th>\n",
							"      <td>droop</td>\n",
							"      <td>p</td>\n",
							"      <td>0.166667</td>\n",
							"    </tr>\n",
							"    <tr>\n",
							"      <th>12</th>\n",
							"      <td>droop</td>\n",
							"      <td></td>\n",
							"      <td>0.166667</td>\n",
							"    </tr>\n",
							"  </tbody>\n",
							"</table>\n",
							"</div>"
						],
						"text/plain": [
							"   activeWord lastChar       acc\n",
							"0      ninth         n  0.000000\n",
							"1      ninth         i  0.000000\n",
							"2      ninth         n  0.000000\n",
							"3      ninth         t  0.000000\n",
							"4      ninth         h  0.000000\n",
							"5      ninth            0.000000\n",
							"6      droop         c  0.166667\n",
							"7      droop         d  0.166667\n",
							"8      droop         r  0.166667\n",
							"9      droop         o  0.166667\n",
							"10     droop         o  0.166667\n",
							"11     droop         p  0.166667\n",
							"12     droop            0.166667"
						]
					},
					"execution_count": 23,
					"metadata": {},
					"output_type": "execute_result"
				}
			],
			"source": [
				"# Add column\n",
				"df['acc'] = NaN\n",
				"\n",
				"# Loop over the beginning of every word\n",
				"i = 0\n",
				"while i < len(df) - 1:\n",
				"\taw = df.activeWord.iloc[i]\n",
				"\n",
				"\tj = i + 1\n",
				"\tnaw = df.activeWord.iloc[j]\n",
				"\n",
				"\t# Find the end of the word\n",
				"\twhile j < len(df) - 1 and aw == naw:\n",
				"\t\tj += 1\n",
				"\t\tnaw = df.activeWord.iloc[j]\n",
				"\n",
				"\t# Set the column values in the word to the accuracy score\n",
				"\tfor k in range(i, j + 1): \n",
				"\t\tdf.at[k, 'acc'] = ((j - i) / len(aw)) - 1\n",
				"\n",
				"\ti = j\n",
				"\n",
				"# Show results\n",
				"df[['activeWord', 'lastChar', 'acc']].head(13)"
			]
		},
		{
			"cell_type": "markdown",
			"metadata": {},
			"source": [
				"### Reach Length"
			]
		},
		{
			"attachments": {},
			"cell_type": "markdown",
			"metadata": {},
			"source": [
				"On most keyboards, my custom included, some of the keys are spaced further from the home row than others. While on the left hand, the keys for Q, W, F, and P are just one row up, keys like B and its corresponding key on the right hand, J, require the index finger to move up and to the left in order to press it.  "
			]
		},
		{
			"attachments": {},
			"cell_type": "markdown",
			"metadata": {},
			"source": [
				"Values in the __reachLength__ column will be a ratio of their distance to the nearest finger on the home row to the standard distance between keys. Since the distance traveled to press a key directly above the home row is 19 mm, pressing a key on the inner column like B, J, V or K, requires the index finger to move $19 \\sqrt{2}$ mm, so the value for B would be 1.4. For keys that require either of the shift keys to be pressed, an extra 1.4 must be added to their __reachLength__ because the shift keys are 1.4 units away from the pinkies."
			]
		},
		{
			"attachments": {},
			"cell_type": "markdown",
			"metadata": {},
			"source": [
				"Symbol keys like _, -, +, and = require a combination of the left shift and the first row of the right board, which are 2 units from the home row, so their total is 3.4. , are typed with left shift and period key which is 1 unit from the home row. ? and ! are both mapped to the combination of the 1 key and the left and right shift keys, respectively. This means that ! costs the same movement as +, -, or =, but ? costs 5, because it requires the left pinky to move to the left shift, 1.4 units, and the left ring finger to move to the 1 key or 3.6 units."
			]
		},
		{
			"cell_type": "code",
			"execution_count": 18,
			"metadata": {},
			"outputs": [
				{
					"data": {
						"text/html": [
							"<div>\n",
							"<style scoped>\n",
							"    .dataframe tbody tr th:only-of-type {\n",
							"        vertical-align: middle;\n",
							"    }\n",
							"\n",
							"    .dataframe tbody tr th {\n",
							"        vertical-align: top;\n",
							"    }\n",
							"\n",
							"    .dataframe thead th {\n",
							"        text-align: right;\n",
							"    }\n",
							"</style>\n",
							"<table border=\"1\" class=\"dataframe\">\n",
							"  <thead>\n",
							"    <tr style=\"text-align: right;\">\n",
							"      <th></th>\n",
							"      <th>correctChar</th>\n",
							"      <th>reachLength</th>\n",
							"    </tr>\n",
							"  </thead>\n",
							"  <tbody>\n",
							"    <tr>\n",
							"      <th>0</th>\n",
							"      <td>n</td>\n",
							"      <td>0.0</td>\n",
							"    </tr>\n",
							"    <tr>\n",
							"      <th>1</th>\n",
							"      <td>i</td>\n",
							"      <td>0.0</td>\n",
							"    </tr>\n",
							"    <tr>\n",
							"      <th>2</th>\n",
							"      <td>n</td>\n",
							"      <td>0.0</td>\n",
							"    </tr>\n",
							"    <tr>\n",
							"      <th>3</th>\n",
							"      <td>t</td>\n",
							"      <td>0.0</td>\n",
							"    </tr>\n",
							"    <tr>\n",
							"      <th>4</th>\n",
							"      <td>h</td>\n",
							"      <td>1.0</td>\n",
							"    </tr>\n",
							"  </tbody>\n",
							"</table>\n",
							"</div>"
						],
						"text/plain": [
							"  correctChar  reachLength\n",
							"0           n          0.0\n",
							"1           i          0.0\n",
							"2           n          0.0\n",
							"3           t          0.0\n",
							"4           h          1.0"
						]
					},
					"execution_count": 18,
					"metadata": {},
					"output_type": "execute_result"
				}
			],
			"source": [
				"def reachLength(x):\n",
				"\t# Is the key more than 1 unit away\n",
				"\tchar = 'shiftReq' if x.lower() != x or x in [',', '-', '_', '+', '=', '!', '?'] else x\n",
				"\n",
				"\t# Is the key in the middle column\n",
				"\tif char in 'bvjk':\n",
				"\t\treturn 1.4\n",
				"\t# Does the key need a shift key\n",
				"\telif char == 'shiftReq':\n",
				"\t\tif x in ['_', '-', '+', '=', '!']:\n",
				"\t\t\treturn 3.4\n",
				"\t\telif x == '?':\n",
				"\t\t\treturn 5\n",
				"\t\telif x == ',':\n",
				"\t\t\treturn 2.4\n",
				"\t\t# Is the key a capital letter\n",
				"\t\treturn 1.4 + reachLength(x.lower())\n",
				"\t# Is the key on the home row\n",
				"\telif char in 'asrtnei;':\n",
				"\t\treturn 0\n",
				"\t# Every other key\n",
				"\telse:\n",
				"\t\treturn 1\n",
				"\n",
				"# Apply the above function to the dataset\n",
				"df['reachLength'] = df.correctChar.apply(reachLength)\n",
				"\n",
				"# Show results\n",
				"df[['correctChar', 'reachLength']].head()"
			]
		},
		{
			"cell_type": "markdown",
			"metadata": {},
			"source": [
				"### Aggregate Typing Score"
			]
		},
		{
			"attachments": {},
			"cell_type": "markdown",
			"metadata": {},
			"source": [
				"All 4 of these datapoints will be aggregated into a single score that balances the difficulty of pressing the key and my accuracy and speed when I press it. If the speed, consistency, or accuracy were to be analyzed independently, the fact that farther keys taking more time to press would be overlooked. "
			]
		},
		{
			"cell_type": "code",
			"execution_count": null,
			"metadata": {},
			"outputs": [],
			"source": []
		},
		{
			"cell_type": "markdown",
			"metadata": {},
			"source": [
				"## Analysis"
			]
		},
		{
			"cell_type": "markdown",
			"metadata": {},
			"source": [
				"## Remove later\n"
			]
		},
		{
			"cell_type": "code",
			"execution_count": 17,
			"metadata": {},
			"outputs": [
				{
					"name": "stdout",
					"output_type": "stream",
					"text": [
						"[NbConvertApp] Converting notebook main.ipynb to html\n",
						"[NbConvertApp] Writing 899588 bytes to docs/index.html\n"
					]
				}
			],
			"source": [
				"!jupyter nbconvert --to html main.ipynb --output-dir='docs' --output='index.html'"
			]
		}
	],
	"metadata": {
		"kernelspec": {
			"display_name": "Python 3",
			"language": "python",
			"name": "python3"
		},
		"language_info": {
			"codemirror_mode": {
				"name": "ipython",
				"version": 3
			},
			"file_extension": ".py",
			"mimetype": "text/x-python",
			"name": "python",
			"nbconvert_exporter": "python",
			"pygments_lexer": "ipython3",
			"version": "3.9.10"
		},
		"orig_nbformat": 4,
		"vscode": {
			"interpreter": {
				"hash": "397704579725e15f5c7cb49fe5f0341eb7531c82d19f2c29d197e8b64ab5776b"
			}
		}
	},
	"nbformat": 4,
	"nbformat_minor": 2
}
