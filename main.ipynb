{
 "cells": [
  {
   "cell_type": "markdown",
   "metadata": {},
   "source": [
    "__Imports__"
   ]
  },
  {
   "cell_type": "code",
   "execution_count": 2,
   "metadata": {},
   "outputs": [],
   "source": [
    "from pandas import read_csv"
   ]
  },
  {
   "cell_type": "code",
   "execution_count": 3,
   "metadata": {},
   "outputs": [
    {
     "data": {
      "text/html": [
       "<div>\n",
       "<style scoped>\n",
       "    .dataframe tbody tr th:only-of-type {\n",
       "        vertical-align: middle;\n",
       "    }\n",
       "\n",
       "    .dataframe tbody tr th {\n",
       "        vertical-align: top;\n",
       "    }\n",
       "\n",
       "    .dataframe thead th {\n",
       "        text-align: right;\n",
       "    }\n",
       "</style>\n",
       "<table border=\"1\" class=\"dataframe\">\n",
       "  <thead>\n",
       "    <tr style=\"text-align: right;\">\n",
       "      <th></th>\n",
       "      <th>timestamp</th>\n",
       "      <th>activeWord</th>\n",
       "      <th>lastChar</th>\n",
       "      <th>correctChar</th>\n",
       "      <th>source</th>\n",
       "      <th>layout</th>\n",
       "      <th>type</th>\n",
       "      <th>length</th>\n",
       "      <th>language</th>\n",
       "      <th>funbox</th>\n",
       "    </tr>\n",
       "  </thead>\n",
       "  <tbody>\n",
       "    <tr>\n",
       "      <th>4010</th>\n",
       "      <td>2022-12-05T02:05:57.551Z</td>\n",
       "      <td>Asteraceae,</td>\n",
       "      <td>e</td>\n",
       "      <td>e</td>\n",
       "      <td>monkeytype</td>\n",
       "      <td>semicolemakdh</td>\n",
       "      <td>words</td>\n",
       "      <td>10</td>\n",
       "      <td>english</td>\n",
       "      <td>wikipedia</td>\n",
       "    </tr>\n",
       "    <tr>\n",
       "      <th>4011</th>\n",
       "      <td>2022-12-05T02:05:57.815Z</td>\n",
       "      <td>Asteraceae,</td>\n",
       "      <td>a</td>\n",
       "      <td>a</td>\n",
       "      <td>monkeytype</td>\n",
       "      <td>semicolemakdh</td>\n",
       "      <td>words</td>\n",
       "      <td>10</td>\n",
       "      <td>english</td>\n",
       "      <td>wikipedia</td>\n",
       "    </tr>\n",
       "    <tr>\n",
       "      <th>4012</th>\n",
       "      <td>2022-12-05T02:05:58.174Z</td>\n",
       "      <td>Asteraceae,</td>\n",
       "      <td>e</td>\n",
       "      <td>e</td>\n",
       "      <td>monkeytype</td>\n",
       "      <td>semicolemakdh</td>\n",
       "      <td>words</td>\n",
       "      <td>10</td>\n",
       "      <td>english</td>\n",
       "      <td>wikipedia</td>\n",
       "    </tr>\n",
       "    <tr>\n",
       "      <th>4013</th>\n",
       "      <td>2022-12-05T02:05:59.113Z</td>\n",
       "      <td>Asteraceae,</td>\n",
       "      <td>z</td>\n",
       "      <td>,</td>\n",
       "      <td>monkeytype</td>\n",
       "      <td>semicolemakdh</td>\n",
       "      <td>words</td>\n",
       "      <td>10</td>\n",
       "      <td>english</td>\n",
       "      <td>wikipedia</td>\n",
       "    </tr>\n",
       "    <tr>\n",
       "      <th>4014</th>\n",
       "      <td>2022-12-05T02:06:00.072Z</td>\n",
       "      <td>Asteraceae,</td>\n",
       "      <td>,</td>\n",
       "      <td>,</td>\n",
       "      <td>monkeytype</td>\n",
       "      <td>semicolemakdh</td>\n",
       "      <td>words</td>\n",
       "      <td>10</td>\n",
       "      <td>english</td>\n",
       "      <td>wikipedia</td>\n",
       "    </tr>\n",
       "  </tbody>\n",
       "</table>\n",
       "</div>"
      ],
      "text/plain": [
       "                     timestamp   activeWord lastChar correctChar      source  \\\n",
       "4010  2022-12-05T02:05:57.551Z  Asteraceae,        e           e  monkeytype   \n",
       "4011  2022-12-05T02:05:57.815Z  Asteraceae,        a           a  monkeytype   \n",
       "4012  2022-12-05T02:05:58.174Z  Asteraceae,        e           e  monkeytype   \n",
       "4013  2022-12-05T02:05:59.113Z  Asteraceae,        z           ,  monkeytype   \n",
       "4014  2022-12-05T02:06:00.072Z  Asteraceae,        ,           ,  monkeytype   \n",
       "\n",
       "             layout   type  length language     funbox  \n",
       "4010  semicolemakdh  words      10  english  wikipedia  \n",
       "4011  semicolemakdh  words      10  english  wikipedia  \n",
       "4012  semicolemakdh  words      10  english  wikipedia  \n",
       "4013  semicolemakdh  words      10  english  wikipedia  \n",
       "4014  semicolemakdh  words      10  english  wikipedia  "
      ]
     },
     "execution_count": 3,
     "metadata": {},
     "output_type": "execute_result"
    }
   ],
   "source": [
    "df = read_csv('data.csv')\n",
    "df.tail()"
   ]
  }
 ],
 "metadata": {
  "kernelspec": {
   "display_name": "Python 3.9.10 64-bit",
   "language": "python",
   "name": "python3"
  },
  "language_info": {
   "codemirror_mode": {
    "name": "ipython",
    "version": 3
   },
   "file_extension": ".py",
   "mimetype": "text/x-python",
   "name": "python",
   "nbconvert_exporter": "python",
   "pygments_lexer": "ipython3",
   "version": "3.9.10"
  },
  "orig_nbformat": 4,
  "vscode": {
   "interpreter": {
    "hash": "397704579725e15f5c7cb49fe5f0341eb7531c82d19f2c29d197e8b64ab5776b"
   }
  }
 },
 "nbformat": 4,
 "nbformat_minor": 2
}
