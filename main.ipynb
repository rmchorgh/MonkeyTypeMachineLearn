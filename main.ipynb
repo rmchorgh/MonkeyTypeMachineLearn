{
	"cells": [
		{
			"cell_type": "markdown",
			"metadata": {},
			"source": [
				"<style type=\"text/css\">\n",
				"\t.myimg {\n",
				"\t\tmax-width: 500px !important;\n",
				"\t}\n",
				"</style>\n"
			]
		},
		{
			"cell_type": "markdown",
			"metadata": {},
			"source": [
				"# Monkey Type Machine Learn\n",
				"\n",
				"**A Project by Richard McHorgh**\n"
			]
		},
		{
			"cell_type": "markdown",
			"metadata": {},
			"source": [
				"## Introduction\n"
			]
		},
		{
			"attachments": {},
			"cell_type": "markdown",
			"metadata": {},
			"source": [
				"In the middle of October, I was inspired by YouTube creators, namely [Ben Vallack](https://www.youtube.com/benvallack), to begin designing the printed circuit boards, keycaps, and case for a keyboard. After about a month of assembly, it would become the ortholinear, split, and thumb-maximizing keyboard that I’m using to type this report. I thought it would be the perfect present for my birthday, but the main reason for starting this project was to protect my hands and wrists from the threat of carpal tunnel syndrome and other diseases like it. "
			]
		},
		{
			"attachments": {},
			"cell_type": "markdown",
			"metadata": {},
			"source": [
				"Unlike the traditional row-staggered layout that one would find on the majority of laptop and store-bought keyboards, ortholinear keyboards arrange the keys in a strict grid matrix. This allows for a more ergonomic and efficient typing experience than row-staggered keyboards. Each key is positioned directly under the finger that would normally press it, rather than back and shifted to the left or right by an arbitrary amount. Ortholinear keyboards thereby reduce strain on the fingers and wrists. "
			]
		},
		{
			"cell_type": "markdown",
			"metadata": {},
			"source": [
				"<img class='myimg' alt='A picture of the completed keyboard' src='/Users/richard/Documents/umd/cmsc320/final/img/kb_hat.jpg'/>\n",
				"\n",
				"*A picture of the completed keyboard*"
			]
		},
		{
			"attachments": {},
			"cell_type": "markdown",
			"metadata": {},
			"source": [
				"Furthermore, strain on the fingers, wrists, and back is minimized by the keyboard being split into halves between the positions of the 5 and 6 keys. Traditional keyboards require their users’ hands to be unnaturally close together, forcing their wrists to be at an angle. Contrarily, with a split keyboard, one’s hands can be straight and as far apart as the cable joining the two halves allows.  Arms being in their natural position translates to hands being straight and in as comfortable of a position as possible, especially during long typing sessions. "
			]
		},
		{
			"cell_type": "markdown",
			"metadata": {},
			"source": [
				"<img class='myimg' src='/Users/richard/Documents/umd/cmsc320/final/img/strain.jpg'/>\n",
				"\n",
				"_Hand angles while using a row staggered keyboard and a split keyboard_"
			]
		},
		{
			"attachments": {},
			"cell_type": "markdown",
			"metadata": {},
			"source": [
				"The third ergonomic feature of the design is the programmable thumb clusters that are found on the last row of each half of the keyboard. Row staggered keyboards only use the operator’s thumbs for the spacebar, so to perform shortcuts with the Control, Command, Alt, or any other non-alphanumeric keys, hands must be moved off the keyboard. Each time the user’s fingers move off the home row more strain is introduced to their hands. This strain is compounded when the entire hand must be moved to type a key. With a programmable thumb cluster, all movement (Up, Left, Home, etc.), page management (Alt-Tab), and text manipulation (Undo, Cut, Paste, etc.) shortcuts can be performed without lifting the hands from either half of the keyboard. "
			]
		},
		{
			"attachments": {},
			"cell_type": "markdown",
			"metadata": {},
			"source": [
				"All the ergonomic design features of the keyboard would be less effective without a layout that can magnify them.  Instead of the traditional QWERTY keyboard layout, my keyboard was programmed to use a slightly modified version of the Colemak-DHM layout that I named SemiColemak. Standard Colemak-DHM places letters on the keyboard by their frequency in English words and the relative strength of the finger that is meant to press them. The more common the letter, the stronger the finger assigned to it. Contrarily, QWERTY is organized to minimize the jams of a typewriter, which is nonsensical in an era of electrically controlled keyboards. "
			]
		},
		{
			"attachments": {},
			"cell_type": "markdown",
			"metadata": {},
			"source": [
				"However, due to QWERTY’s ubiquity, it was the keyboard layout that I learned to type while in elementary school. Text manipulation shortcuts are based on the QWERTY layout as well. SemiColemak’s proximity to QWERTY, with 11 keys in the same positions, including z, x, c, and v, makes it easier to learn compared to other ergonomic layouts, such as Dvorak or Workman. "
			]
		},
		{
			"attachments": {},
			"cell_type": "markdown",
			"metadata": {},
			"source": [
				"Although SemiColemak is among the easiest layouts for a transition from QWERTY, the relearning process has been as strenuous for my muscle memory as QWERTY was for my hands and wrists. Even now, in my third week of solely using the keyboard, my typing speed in SemiColemak is barely approaching half of my average on QWERTY. "
			]
		},
		{
			"attachments": {},
			"cell_type": "markdown",
			"metadata": {},
			"source": [
				"The object of this tutorial is to identify the points of error in typing the words that I use most frequently and funnel that data into a classifier that will highlight my weakest features in words that I type. Practicing words with these features will help to increase my speed and accuracy typing on my keyboard. "
			]
		},
		{
			"cell_type": "markdown",
			"metadata": {},
			"source": [
				"## Collecting the raw data\n"
			]
		},
		{
			"attachments": {},
			"cell_type": "markdown",
			"metadata": {},
			"source": [
				"As well as being the inspiration for this project's name, the competitive type racing website, Monkey See Monkey Type is the source of the data used in this project. Generally, the website is abbreviated to Monkey Type. By inserting the JavaScript keylogger written below into the Developer Mode Console in a browser, I was able to record the letter I pressed, the letter I should have pressed, and the source of the text, among other datapoints. "
			]
		},
		{
			"cell_type": "code",
			"execution_count": 2,
			"metadata": {},
			"outputs": [
				{
					"name": "stdout",
					"output_type": "stream",
					"text": [
						"\u001b[0mvar\u001b[0m \u001b[0mmonkeyQueue\u001b[0m \u001b[0;34m=\u001b[0m \u001b[0;34m[\u001b[0m\u001b[0;34m]\u001b[0m\u001b[0;34m;\u001b[0m\u001b[0;34m\u001b[0m\n",
						"\u001b[0;34m\u001b[0m\u001b[0mvar\u001b[0m \u001b[0mmonkeyList\u001b[0m \u001b[0;34m=\u001b[0m \u001b[0;34m[\u001b[0m\u001b[0;34m]\u001b[0m\u001b[0;34m;\u001b[0m\u001b[0;34m\u001b[0m\n",
						"\u001b[0;34m\u001b[0m\u001b[0mvar\u001b[0m \u001b[0mmonkeyListen\u001b[0m \u001b[0;34m=\u001b[0m \u001b[0;34m(\u001b[0m\u001b[0;34m)\u001b[0m \u001b[0;34m=\u001b[0m\u001b[0;34m>\u001b[0m \u001b[0;34m{\u001b[0m\u001b[0;34m\u001b[0m\n",
						"\u001b[0;34m\u001b[0m        \u001b[0mlet\u001b[0m \u001b[0mlayout\u001b[0m\u001b[0;34m,\u001b[0m \u001b[0mlanguage\u001b[0m\u001b[0;34m,\u001b[0m \u001b[0mfunbox\u001b[0m\u001b[0;34m,\u001b[0m \u001b[0mtype\u001b[0m\u001b[0;34m,\u001b[0m \u001b[0mlength\u001b[0m\u001b[0;34m,\u001b[0m \u001b[0mactiveWord\u001b[0m\u001b[0;34m;\u001b[0m\u001b[0;34m\u001b[0m\n",
						"\u001b[0;34m\u001b[0m        \u001b[0mlet\u001b[0m \u001b[0mtestNum\u001b[0m \u001b[0;34m=\u001b[0m \u001b[0;36m0\u001b[0m\u001b[0;34m;\u001b[0m\u001b[0;34m\u001b[0m\n",
						"\u001b[0;34m\u001b[0m\u001b[0;34m\u001b[0m\n",
						"\u001b[0;34m\u001b[0m        \u001b[0mlet\u001b[0m \u001b[0msetup\u001b[0m \u001b[0;34m=\u001b[0m \u001b[0;34m(\u001b[0m\u001b[0;34m)\u001b[0m \u001b[0;34m=\u001b[0m\u001b[0;34m>\u001b[0m \u001b[0;34m{\u001b[0m\u001b[0;34m\u001b[0m\n",
						"\u001b[0;34m\u001b[0m                \u001b[0mlet\u001b[0m \u001b[0mwords\u001b[0m \u001b[0;34m=\u001b[0m \u001b[0mdocument\u001b[0m\u001b[0;34m.\u001b[0m\u001b[0mquerySelector\u001b[0m\u001b[0;34m(\u001b[0m\u001b[0;34m'#words'\u001b[0m\u001b[0;34m)\u001b[0m\u001b[0;34m;\u001b[0m\u001b[0;34m\u001b[0m\n",
						"\u001b[0;34m\u001b[0m                \u001b[0mmonkeyQueue\u001b[0m \u001b[0;34m=\u001b[0m \u001b[0mArray\u001b[0m\u001b[0;34m.\u001b[0m\u001b[0;32mfrom\u001b[0m\u001b[0;34m(\u001b[0m\u001b[0mwords\u001b[0m\u001b[0;34m.\u001b[0m\u001b[0mchildren\u001b[0m\u001b[0;34m)\u001b[0m\u001b[0;34m.\u001b[0m\u001b[0mmap\u001b[0m\u001b[0;34m(\u001b[0m\u001b[0;34m(\u001b[0m\u001b[0mv\u001b[0m\u001b[0;34m,\u001b[0m \u001b[0mi\u001b[0m\u001b[0;34m,\u001b[0m \u001b[0ma\u001b[0m\u001b[0;34m)\u001b[0m \u001b[0;34m=\u001b[0m\u001b[0;34m>\u001b[0m \u001b[0;34m{\u001b[0m\u001b[0;34m\u001b[0m\n",
						"\u001b[0;34m\u001b[0m                        \u001b[0;32mreturn\u001b[0m \u001b[0mi\u001b[0m \u001b[0;34m<\u001b[0m \u001b[0ma\u001b[0m\u001b[0;34m.\u001b[0m\u001b[0mlength\u001b[0m \u001b[0;34m-\u001b[0m \u001b[0;36m1\u001b[0m\u001b[0;31m \u001b[0m\u001b[0;31m?\u001b[0m\u001b[0;31m \u001b[0m\u001b[0;31m`\u001b[0m\u001b[0;31m$\u001b[0m\u001b[0;34m{\u001b[0m\u001b[0mv\u001b[0m\u001b[0;34m.\u001b[0m\u001b[0minnerText\u001b[0m\u001b[0;34m}\u001b[0m\u001b[0;31m \u001b[0m\u001b[0;31m`\u001b[0m \u001b[0;34m:\u001b[0m \u001b[0mv\u001b[0m\u001b[0;34m.\u001b[0m\u001b[0minnerText\u001b[0m\u001b[0;34m;\u001b[0m\u001b[0;34m\u001b[0m\n",
						"\u001b[0;34m\u001b[0m                \u001b[0;34m}\u001b[0m\u001b[0;34m,\u001b[0m \u001b[0;34m''\u001b[0m\u001b[0;34m)\u001b[0m\u001b[0;34m;\u001b[0m\u001b[0;34m\u001b[0m\n",
						"\u001b[0;34m\u001b[0m\u001b[0;34m\u001b[0m\n",
						"\u001b[0;34m\u001b[0m                \u001b[0mlet\u001b[0m \u001b[0moptions\u001b[0m \u001b[0;34m=\u001b[0m \u001b[0mArray\u001b[0m\u001b[0;34m.\u001b[0m\u001b[0;32mfrom\u001b[0m\u001b[0;34m(\u001b[0m\u001b[0;34m\u001b[0m\n",
						"\u001b[0;34m\u001b[0m                        \u001b[0mdocument\u001b[0m\u001b[0;34m\u001b[0m\n",
						"\u001b[0;34m\u001b[0m                                \u001b[0;34m.\u001b[0m\u001b[0mquerySelector\u001b[0m\u001b[0;34m(\u001b[0m\u001b[0;34m'#testModesNotice'\u001b[0m\u001b[0;34m)\u001b[0m\u001b[0;34m\u001b[0m\n",
						"\u001b[0;34m\u001b[0m                                \u001b[0;34m.\u001b[0m\u001b[0mquerySelectorAll\u001b[0m\u001b[0;34m(\u001b[0m\u001b[0;34m'[commands]'\u001b[0m\u001b[0;34m)\u001b[0m\u001b[0;34m\u001b[0m\n",
						"\u001b[0;34m\u001b[0m                \u001b[0;34m)\u001b[0m\u001b[0;34m;\u001b[0m\u001b[0;34m\u001b[0m\n",
						"\u001b[0;34m\u001b[0m\u001b[0;34m\u001b[0m\n",
						"\u001b[0;34m\u001b[0m                \u001b[0mlayout\u001b[0m \u001b[0;34m=\u001b[0m \u001b[0moptions\u001b[0m\u001b[0;34m.\u001b[0m\u001b[0mfilter\u001b[0m\u001b[0;34m(\u001b[0m\u001b[0;34m(\u001b[0m\u001b[0me\u001b[0m\u001b[0;34m)\u001b[0m \u001b[0;34m=\u001b[0m\u001b[0;34m>\u001b[0m \u001b[0me\u001b[0m\u001b[0;34m.\u001b[0m\u001b[0mgetAttribute\u001b[0m\u001b[0;34m(\u001b[0m\u001b[0;34m'commands'\u001b[0m\u001b[0;34m)\u001b[0m \u001b[0;34m==\u001b[0m \u001b[0;34m'tags'\u001b[0m\u001b[0;34m)\u001b[0m\u001b[0;34m[\u001b[0m\u001b[0;36m0\u001b[0m\u001b[0;34m]\u001b[0m\u001b[0;34m\u001b[0m\n",
						"\u001b[0;34m\u001b[0m                        \u001b[0;34m.\u001b[0m\u001b[0minnerText\u001b[0m\u001b[0;34m;\u001b[0m\u001b[0;34m\u001b[0m\n",
						"\u001b[0;34m\u001b[0m                \u001b[0mlanguage\u001b[0m \u001b[0;34m=\u001b[0m \u001b[0moptions\u001b[0m\u001b[0;34m.\u001b[0m\u001b[0mfilter\u001b[0m\u001b[0;34m(\u001b[0m\u001b[0;34m\u001b[0m\n",
						"\u001b[0;34m\u001b[0m                        \u001b[0;34m(\u001b[0m\u001b[0me\u001b[0m\u001b[0;34m)\u001b[0m \u001b[0;34m=\u001b[0m\u001b[0;34m>\u001b[0m \u001b[0me\u001b[0m\u001b[0;34m.\u001b[0m\u001b[0mgetAttribute\u001b[0m\u001b[0;34m(\u001b[0m\u001b[0;34m'commands'\u001b[0m\u001b[0;34m)\u001b[0m \u001b[0;34m==\u001b[0m \u001b[0;34m'languages'\u001b[0m\u001b[0;34m\u001b[0m\n",
						"\u001b[0;34m\u001b[0m                \u001b[0;34m)\u001b[0m\u001b[0;34m[\u001b[0m\u001b[0;36m0\u001b[0m\u001b[0;34m]\u001b[0m\u001b[0;34m.\u001b[0m\u001b[0minnerText\u001b[0m\u001b[0;34m;\u001b[0m\u001b[0;34m\u001b[0m\n",
						"\u001b[0;34m\u001b[0m                \u001b[0mlet\u001b[0m \u001b[0mfunboxElements\u001b[0m \u001b[0;34m=\u001b[0m \u001b[0moptions\u001b[0m\u001b[0;34m.\u001b[0m\u001b[0mfilter\u001b[0m\u001b[0;34m(\u001b[0m\u001b[0;34m\u001b[0m\n",
						"\u001b[0;34m\u001b[0m                        \u001b[0;34m(\u001b[0m\u001b[0me\u001b[0m\u001b[0;34m)\u001b[0m \u001b[0;34m=\u001b[0m\u001b[0;34m>\u001b[0m \u001b[0me\u001b[0m\u001b[0;34m.\u001b[0m\u001b[0mgetAttribute\u001b[0m\u001b[0;34m(\u001b[0m\u001b[0;34m'commands'\u001b[0m\u001b[0;34m)\u001b[0m \u001b[0;34m==\u001b[0m \u001b[0;34m'funbox'\u001b[0m\u001b[0;34m\u001b[0m\n",
						"\u001b[0;34m\u001b[0m                \u001b[0;34m)\u001b[0m\u001b[0;34m;\u001b[0m\u001b[0;34m\u001b[0m\n",
						"\u001b[0;34m\u001b[0m\u001b[0;34m\u001b[0m\n",
						"\u001b[0;34m\u001b[0m                \u001b[0mfunbox\u001b[0m \u001b[0;34m=\u001b[0m \u001b[0mnull\u001b[0m\u001b[0;34m;\u001b[0m\u001b[0;34m\u001b[0m\n",
						"\u001b[0;34m\u001b[0m                \u001b[0;32mif\u001b[0m \u001b[0;34m(\u001b[0m\u001b[0mfunboxElements\u001b[0m\u001b[0;34m.\u001b[0m\u001b[0mlength\u001b[0m \u001b[0;34m>\u001b[0m \u001b[0;36m0\u001b[0m\u001b[0;34m)\u001b[0m \u001b[0;34m{\u001b[0m\u001b[0;34m\u001b[0m\n",
						"\u001b[0;34m\u001b[0m                        \u001b[0mfunbox\u001b[0m \u001b[0;34m=\u001b[0m \u001b[0mfunboxElements\u001b[0m\u001b[0;34m[\u001b[0m\u001b[0;36m0\u001b[0m\u001b[0;34m]\u001b[0m\u001b[0;34m.\u001b[0m\u001b[0minnerText\u001b[0m\u001b[0;34m;\u001b[0m\u001b[0;34m\u001b[0m\n",
						"\u001b[0;34m\u001b[0m                \u001b[0;34m}\u001b[0m\u001b[0;34m\u001b[0m\n",
						"\u001b[0;34m\u001b[0m\u001b[0;34m\u001b[0m\n",
						"\u001b[0;34m\u001b[0m                \u001b[0;34m//\u001b[0m \u001b[0mget\u001b[0m \u001b[0mthe\u001b[0m \u001b[0mtype\u001b[0m \u001b[0mof\u001b[0m \u001b[0mtest\u001b[0m \u001b[0mbeing\u001b[0m \u001b[0mtaken\u001b[0m\u001b[0;34m\u001b[0m\n",
						"\u001b[0;34m\u001b[0m                \u001b[0mtype\u001b[0m \u001b[0;34m=\u001b[0m \u001b[0mdocument\u001b[0m\u001b[0;34m.\u001b[0m\u001b[0mquerySelector\u001b[0m\u001b[0;34m(\u001b[0m\u001b[0;34m'div.mode > [mode].active'\u001b[0m\u001b[0;34m)\u001b[0m\u001b[0;34m.\u001b[0m\u001b[0minnerText\u001b[0m\u001b[0;34m;\u001b[0m\u001b[0;34m\u001b[0m\n",
						"\u001b[0;34m\u001b[0m\u001b[0;34m\u001b[0m\n",
						"\u001b[0;34m\u001b[0m                \u001b[0;34m//\u001b[0m \u001b[0mget\u001b[0m \u001b[0mthe\u001b[0m \u001b[0mlength\u001b[0m \u001b[0mof\u001b[0m \u001b[0mthe\u001b[0m \u001b[0mcurrent\u001b[0m \u001b[0mtest\u001b[0m\u001b[0;34m\u001b[0m\n",
						"\u001b[0;34m\u001b[0m                \u001b[0mlength\u001b[0m \u001b[0;34m=\u001b[0m \u001b[0mdocument\u001b[0m\u001b[0;34m.\u001b[0m\u001b[0mquerySelector\u001b[0m\u001b[0;34m(\u001b[0m\u001b[0;34m\u001b[0m\n",
						"\u001b[0;34m\u001b[0m                        \u001b[0;34m'div.wordCount > [wordcount].active'\u001b[0m\u001b[0;34m\u001b[0m\n",
						"\u001b[0;34m\u001b[0m                \u001b[0;34m)\u001b[0m\u001b[0;34m.\u001b[0m\u001b[0minnerText\u001b[0m\u001b[0;34m;\u001b[0m\u001b[0;34m\u001b[0m\n",
						"\u001b[0;34m\u001b[0m\u001b[0;34m\u001b[0m\n",
						"\u001b[0;34m\u001b[0m                \u001b[0mactiveWord\u001b[0m \u001b[0;34m=\u001b[0m \u001b[0mmonkeyQueue\u001b[0m\u001b[0;34m[\u001b[0m\u001b[0;36m0\u001b[0m\u001b[0;34m]\u001b[0m\u001b[0;34m;\u001b[0m\u001b[0;34m\u001b[0m\n",
						"\u001b[0;34m\u001b[0m                \u001b[0mtestNum\u001b[0m \u001b[0;34m+=\u001b[0m \u001b[0;36m1\u001b[0m\u001b[0;34m;\u001b[0m\u001b[0;34m\u001b[0m\n",
						"\u001b[0;34m\u001b[0m                \u001b[0mconsole\u001b[0m\u001b[0;34m.\u001b[0m\u001b[0mlog\u001b[0m\u001b[0;34m(\u001b[0m\u001b[0mmonkeyQueue\u001b[0m\u001b[0;34m)\u001b[0m\u001b[0;34m;\u001b[0m\u001b[0;34m\u001b[0m\n",
						"\u001b[0;34m\u001b[0m        \u001b[0;34m}\u001b[0m\u001b[0;34m;\u001b[0m\u001b[0;34m\u001b[0m\n",
						"\u001b[0;34m\u001b[0m\u001b[0;34m\u001b[0m\n",
						"\u001b[0;34m\u001b[0m        \u001b[0mconst\u001b[0m \u001b[0msend\u001b[0m \u001b[0;34m=\u001b[0m \u001b[0;32masync\u001b[0m \u001b[0;34m(\u001b[0m\u001b[0;34m)\u001b[0m \u001b[0;34m=\u001b[0m\u001b[0;34m>\u001b[0m \u001b[0;34m{\u001b[0m\u001b[0;34m\u001b[0m\n",
						"\u001b[0;34m\u001b[0m                \u001b[0mconsole\u001b[0m\u001b[0;34m.\u001b[0m\u001b[0mlog\u001b[0m\u001b[0;34m(\u001b[0m\u001b[0;34m'Sending test'\u001b[0m\u001b[0;34m,\u001b[0m \u001b[0mtestNum\u001b[0m\u001b[0;34m)\u001b[0m\u001b[0;34m;\u001b[0m\u001b[0;34m\u001b[0m\n",
						"\u001b[0;34m\u001b[0m                \u001b[0;32mawait\u001b[0m \u001b[0mfetch\u001b[0m\u001b[0;34m(\u001b[0m\u001b[0;34m'http://localhost:8000'\u001b[0m\u001b[0;34m,\u001b[0m \u001b[0;34m{\u001b[0m\u001b[0;34m\u001b[0m\n",
						"\u001b[0;34m\u001b[0m                        \u001b[0mmethod\u001b[0m\u001b[0;34m:\u001b[0m \u001b[0;34m'post'\u001b[0m\u001b[0;34m,\u001b[0m\u001b[0;34m\u001b[0m\n",
						"\u001b[0;34m\u001b[0m                        \u001b[0mbody\u001b[0m\u001b[0;34m:\u001b[0m \u001b[0mJSON\u001b[0m\u001b[0;34m.\u001b[0m\u001b[0mstringify\u001b[0m\u001b[0;34m(\u001b[0m\u001b[0mmonkeyList\u001b[0m\u001b[0;34m)\u001b[0m\u001b[0;34m\u001b[0m\n",
						"\u001b[0;34m\u001b[0m                \u001b[0;34m}\u001b[0m\u001b[0;34m)\u001b[0m\u001b[0;34m\u001b[0m\n",
						"\u001b[0;34m\u001b[0m                        \u001b[0;34m.\u001b[0m\u001b[0mthen\u001b[0m\u001b[0;34m(\u001b[0m\u001b[0;34m(\u001b[0m\u001b[0;34m)\u001b[0m \u001b[0;34m=\u001b[0m\u001b[0;34m>\u001b[0m \u001b[0;34m{\u001b[0m\u001b[0;34m\u001b[0m\n",
						"\u001b[0;34m\u001b[0m                                \u001b[0mmonkeyList\u001b[0m \u001b[0;34m=\u001b[0m \u001b[0;34m[\u001b[0m\u001b[0;34m]\u001b[0m\u001b[0;34m;\u001b[0m\u001b[0;34m\u001b[0m\n",
						"\u001b[0;34m\u001b[0m                                \u001b[0msetTimeout\u001b[0m\u001b[0;34m(\u001b[0m\u001b[0msetup\u001b[0m\u001b[0;34m,\u001b[0m \u001b[0;36m500\u001b[0m\u001b[0;34m)\u001b[0m\u001b[0;34m;\u001b[0m\u001b[0;34m\u001b[0m\n",
						"\u001b[0;34m\u001b[0m                        \u001b[0;34m}\u001b[0m\u001b[0;34m)\u001b[0m\u001b[0;34m\u001b[0m\n",
						"\u001b[0;34m\u001b[0m                        \u001b[0;34m.\u001b[0m\u001b[0mcatch\u001b[0m\u001b[0;34m(\u001b[0m\u001b[0;34m(\u001b[0m\u001b[0;34m)\u001b[0m \u001b[0;34m=\u001b[0m\u001b[0;34m>\u001b[0m \u001b[0;34m{\u001b[0m\u001b[0;34m\u001b[0m\n",
						"\u001b[0;34m\u001b[0m                                \u001b[0mmonkeyList\u001b[0m \u001b[0;34m=\u001b[0m \u001b[0;34m[\u001b[0m\u001b[0;34m]\u001b[0m\u001b[0;34m;\u001b[0m\u001b[0;34m\u001b[0m\n",
						"\u001b[0;34m\u001b[0m                                \u001b[0msetTimeout\u001b[0m\u001b[0;34m(\u001b[0m\u001b[0msetup\u001b[0m\u001b[0;34m,\u001b[0m \u001b[0;36m500\u001b[0m\u001b[0;34m)\u001b[0m\u001b[0;34m;\u001b[0m\u001b[0;34m\u001b[0m\n",
						"\u001b[0;34m\u001b[0m                        \u001b[0;34m}\u001b[0m\u001b[0;34m)\u001b[0m\u001b[0;34m;\u001b[0m\u001b[0;34m\u001b[0m\n",
						"\u001b[0;34m\u001b[0m        \u001b[0;34m}\u001b[0m\u001b[0;34m;\u001b[0m\u001b[0;34m\u001b[0m\n",
						"\u001b[0;34m\u001b[0m\u001b[0;34m\u001b[0m\n",
						"\u001b[0;34m\u001b[0m        \u001b[0msetup\u001b[0m\u001b[0;34m(\u001b[0m\u001b[0;34m)\u001b[0m\u001b[0;34m;\u001b[0m\u001b[0;34m\u001b[0m\n",
						"\u001b[0;34m\u001b[0m        \u001b[0mlet\u001b[0m \u001b[0mlisten\u001b[0m \u001b[0;34m=\u001b[0m \u001b[0;32masync\u001b[0m \u001b[0;34m(\u001b[0m\u001b[0;34m{\u001b[0m \u001b[0mkey\u001b[0m \u001b[0;34m}\u001b[0m\u001b[0;34m)\u001b[0m \u001b[0;34m=\u001b[0m\u001b[0;34m>\u001b[0m \u001b[0;34m{\u001b[0m\u001b[0;34m\u001b[0m\n",
						"\u001b[0;34m\u001b[0m                \u001b[0;32mtry\u001b[0m \u001b[0;34m{\u001b[0m\u001b[0;34m\u001b[0m\n",
						"\u001b[0;34m\u001b[0m                        \u001b[0mlet\u001b[0m \u001b[0mrow\u001b[0m \u001b[0;34m=\u001b[0m \u001b[0;34m{\u001b[0m\u001b[0;34m\u001b[0m\n",
						"\u001b[0;34m\u001b[0m                                \u001b[0mactiveWord\u001b[0m\u001b[0;34m,\u001b[0m\u001b[0;34m\u001b[0m\n",
						"\u001b[0;34m\u001b[0m                                \u001b[0mcorrectChar\u001b[0m\u001b[0;34m:\u001b[0m \u001b[0mmonkeyQueue\u001b[0m\u001b[0;34m[\u001b[0m\u001b[0;36m0\u001b[0m\u001b[0;34m]\u001b[0m\u001b[0;34m[\u001b[0m\u001b[0;36m0\u001b[0m\u001b[0;34m]\u001b[0m\u001b[0;34m,\u001b[0m\u001b[0;34m\u001b[0m\n",
						"\u001b[0;34m\u001b[0m                                \u001b[0mfunbox\u001b[0m\u001b[0;34m,\u001b[0m\u001b[0;34m\u001b[0m\n",
						"\u001b[0;34m\u001b[0m                                \u001b[0mlanguage\u001b[0m\u001b[0;34m,\u001b[0m\u001b[0;34m\u001b[0m\n",
						"\u001b[0;34m\u001b[0m                                \u001b[0mlastChar\u001b[0m\u001b[0;34m:\u001b[0m \u001b[0mkey\u001b[0m\u001b[0;34m,\u001b[0m\u001b[0;34m\u001b[0m\n",
						"\u001b[0;34m\u001b[0m                                \u001b[0mlayout\u001b[0m\u001b[0;34m,\u001b[0m\u001b[0;34m\u001b[0m\n",
						"\u001b[0;34m\u001b[0m                                \u001b[0mlength\u001b[0m\u001b[0;34m,\u001b[0m\u001b[0;34m\u001b[0m\n",
						"\u001b[0;34m\u001b[0m                                \u001b[0mtimestamp\u001b[0m\u001b[0;34m:\u001b[0m \u001b[0mnew\u001b[0m \u001b[0mDate\u001b[0m\u001b[0;34m(\u001b[0m\u001b[0;34m)\u001b[0m\u001b[0;34m,\u001b[0m\u001b[0;34m\u001b[0m\n",
						"\u001b[0;34m\u001b[0m                                \u001b[0mtype\u001b[0m\u001b[0;34m,\u001b[0m\u001b[0;34m\u001b[0m\n",
						"\u001b[0;34m\u001b[0m                                \u001b[0mtestNum\u001b[0m\u001b[0;34m\u001b[0m\n",
						"\u001b[0;34m\u001b[0m                        \u001b[0;34m}\u001b[0m\u001b[0;34m;\u001b[0m\u001b[0;34m\u001b[0m\n",
						"\u001b[0;34m\u001b[0m\u001b[0;34m\u001b[0m\n",
						"\u001b[0;34m\u001b[0m                        \u001b[0;32mif\u001b[0m \u001b[0;34m(\u001b[0m\u001b[0mkey\u001b[0m\u001b[0;34m.\u001b[0m\u001b[0mlength\u001b[0m \u001b[0;34m==\u001b[0m \u001b[0;36m1\u001b[0m\u001b[0;34m)\u001b[0m \u001b[0mmonkeyList\u001b[0m\u001b[0;34m.\u001b[0m\u001b[0mpush\u001b[0m\u001b[0;34m(\u001b[0m\u001b[0mrow\u001b[0m\u001b[0;34m)\u001b[0m\u001b[0;34m;\u001b[0m\u001b[0;34m\u001b[0m\n",
						"\u001b[0;34m\u001b[0m\u001b[0;34m\u001b[0m\n",
						"\u001b[0;34m\u001b[0m                        \u001b[0mconsole\u001b[0m\u001b[0;34m.\u001b[0m\u001b[0mlog\u001b[0m\u001b[0;34m(\u001b[0m\u001b[0mmonkeyQueue\u001b[0m\u001b[0;34m[\u001b[0m\u001b[0;36m0\u001b[0m\u001b[0;34m]\u001b[0m\u001b[0;34m[\u001b[0m\u001b[0;36m0\u001b[0m\u001b[0;34m]\u001b[0m\u001b[0;34m,\u001b[0m \u001b[0mkey\u001b[0m\u001b[0;34m)\u001b[0m\u001b[0;34m;\u001b[0m\u001b[0;34m\u001b[0m\n",
						"\u001b[0;34m\u001b[0m                        \u001b[0;32mif\u001b[0m \u001b[0;34m(\u001b[0m\u001b[0;34m\u001b[0m\n",
						"\u001b[0;34m\u001b[0m                                \u001b[0mmonkeyQueue\u001b[0m\u001b[0;34m[\u001b[0m\u001b[0;36m0\u001b[0m\u001b[0;34m]\u001b[0m\u001b[0;34m[\u001b[0m\u001b[0;36m0\u001b[0m\u001b[0;34m]\u001b[0m\u001b[0;34m.\u001b[0m\u001b[0mtoLowerCase\u001b[0m\u001b[0;34m(\u001b[0m\u001b[0;34m)\u001b[0m \u001b[0;34m==\u001b[0m \u001b[0mkey\u001b[0m\u001b[0;34m.\u001b[0m\u001b[0mtoLowerCase\u001b[0m\u001b[0;34m(\u001b[0m\u001b[0;34m)\u001b[0m \u001b[0;34m|\u001b[0m\u001b[0;34m|\u001b[0m\u001b[0;34m\u001b[0m\n",
						"\u001b[0;34m\u001b[0m                                \u001b[0;34m(\u001b[0m\u001b[0mmonkeyQueue\u001b[0m\u001b[0;34m[\u001b[0m\u001b[0;36m0\u001b[0m\u001b[0;34m]\u001b[0m\u001b[0;34m[\u001b[0m\u001b[0;36m0\u001b[0m\u001b[0;34m]\u001b[0m \u001b[0;34m==\u001b[0m \u001b[0;34m'_'\u001b[0m \u001b[0;34m&\u001b[0m\u001b[0;34m&\u001b[0m \u001b[0mkey\u001b[0m \u001b[0;34m==\u001b[0m \u001b[0;34m'-'\u001b[0m\u001b[0;34m)\u001b[0m\u001b[0;34m\u001b[0m\n",
						"\u001b[0;34m\u001b[0m                        \u001b[0;34m)\u001b[0m \u001b[0;34m{\u001b[0m\u001b[0;34m\u001b[0m\n",
						"\u001b[0;34m\u001b[0m                                \u001b[0mmonkeyQueue\u001b[0m\u001b[0;34m[\u001b[0m\u001b[0;36m0\u001b[0m\u001b[0;34m]\u001b[0m \u001b[0;34m=\u001b[0m \u001b[0mmonkeyQueue\u001b[0m\u001b[0;34m[\u001b[0m\u001b[0;36m0\u001b[0m\u001b[0;34m]\u001b[0m\u001b[0;34m.\u001b[0m\u001b[0msubstring\u001b[0m\u001b[0;34m(\u001b[0m\u001b[0;36m1\u001b[0m\u001b[0;34m)\u001b[0m\u001b[0;34m;\u001b[0m\u001b[0;34m\u001b[0m\n",
						"\u001b[0;34m\u001b[0m                        \u001b[0;34m}\u001b[0m\u001b[0;34m\u001b[0m\n",
						"\u001b[0;34m\u001b[0m\u001b[0;34m\u001b[0m\n",
						"\u001b[0;34m\u001b[0m                        \u001b[0;32mif\u001b[0m \u001b[0;34m(\u001b[0m\u001b[0mkey\u001b[0m \u001b[0;34m==\u001b[0m \u001b[0;34m' '\u001b[0m \u001b[0;34m&\u001b[0m\u001b[0;34m&\u001b[0m \u001b[0mactiveWord\u001b[0m \u001b[0;34m!=\u001b[0m \u001b[0mmonkeyQueue\u001b[0m\u001b[0;34m[\u001b[0m\u001b[0;36m0\u001b[0m\u001b[0;34m]\u001b[0m\u001b[0;34m)\u001b[0m \u001b[0;34m{\u001b[0m\u001b[0;34m\u001b[0m\n",
						"\u001b[0;34m\u001b[0m                                \u001b[0mmonkeyQueue\u001b[0m\u001b[0;34m.\u001b[0m\u001b[0mshift\u001b[0m\u001b[0;34m(\u001b[0m\u001b[0;34m)\u001b[0m\u001b[0;34m;\u001b[0m\u001b[0;34m\u001b[0m\n",
						"\u001b[0;34m\u001b[0m                                \u001b[0mconsole\u001b[0m\u001b[0;34m.\u001b[0m\u001b[0mlog\u001b[0m\u001b[0;34m(\u001b[0m\u001b[0mmonkeyQueue\u001b[0m\u001b[0;34m)\u001b[0m\u001b[0;34m;\u001b[0m\u001b[0;34m\u001b[0m\n",
						"\u001b[0;34m\u001b[0m                                \u001b[0mactiveWord\u001b[0m \u001b[0;34m=\u001b[0m \u001b[0mmonkeyQueue\u001b[0m\u001b[0;34m[\u001b[0m\u001b[0;36m0\u001b[0m\u001b[0;34m]\u001b[0m\u001b[0;34m;\u001b[0m\u001b[0;34m\u001b[0m\n",
						"\u001b[0;34m\u001b[0m                        \u001b[0;34m}\u001b[0m\u001b[0;34m\u001b[0m\n",
						"\u001b[0;34m\u001b[0m\u001b[0;34m\u001b[0m\n",
						"\u001b[0;34m\u001b[0m                        \u001b[0;32mif\u001b[0m \u001b[0;34m(\u001b[0m\u001b[0mkey\u001b[0m \u001b[0;34m==\u001b[0m \u001b[0;34m'Enter'\u001b[0m\u001b[0;34m)\u001b[0m \u001b[0;34m{\u001b[0m\u001b[0;34m\u001b[0m\n",
						"\u001b[0;34m\u001b[0m                                \u001b[0mconsole\u001b[0m\u001b[0;34m.\u001b[0m\u001b[0mlog\u001b[0m\u001b[0;34m(\u001b[0m\u001b[0;34m'Not empty reset'\u001b[0m\u001b[0;34m)\u001b[0m\u001b[0;34m;\u001b[0m\u001b[0;34m\u001b[0m\n",
						"\u001b[0;34m\u001b[0m                                \u001b[0;32mawait\u001b[0m \u001b[0msend\u001b[0m\u001b[0;34m(\u001b[0m\u001b[0;34m)\u001b[0m\u001b[0;34m;\u001b[0m\u001b[0;34m\u001b[0m\n",
						"\u001b[0;34m\u001b[0m                        \u001b[0;34m}\u001b[0m\u001b[0;34m\u001b[0m\n",
						"\u001b[0;34m\u001b[0m                \u001b[0;34m}\u001b[0m \u001b[0mcatch\u001b[0m \u001b[0;34m{\u001b[0m\u001b[0;34m\u001b[0m\n",
						"\u001b[0;34m\u001b[0m                        \u001b[0;32mif\u001b[0m \u001b[0;34m(\u001b[0m\u001b[0mkey\u001b[0m \u001b[0;34m==\u001b[0m \u001b[0;34m'Enter'\u001b[0m\u001b[0;34m)\u001b[0m \u001b[0;34m{\u001b[0m\u001b[0;34m\u001b[0m\n",
						"\u001b[0;34m\u001b[0m                                \u001b[0mconsole\u001b[0m\u001b[0;34m.\u001b[0m\u001b[0mlog\u001b[0m\u001b[0;34m(\u001b[0m\u001b[0;34m'Empty reset'\u001b[0m\u001b[0;34m)\u001b[0m\u001b[0;34m;\u001b[0m\u001b[0;34m\u001b[0m\n",
						"\u001b[0;34m\u001b[0m                                \u001b[0;32mawait\u001b[0m \u001b[0msend\u001b[0m\u001b[0;34m(\u001b[0m\u001b[0;34m)\u001b[0m\u001b[0;34m;\u001b[0m\u001b[0;34m\u001b[0m\n",
						"\u001b[0;34m\u001b[0m                        \u001b[0;34m}\u001b[0m\u001b[0;34m\u001b[0m\n",
						"\u001b[0;34m\u001b[0m                \u001b[0;34m}\u001b[0m\u001b[0;34m\u001b[0m\n",
						"\u001b[0;34m\u001b[0m        \u001b[0;34m}\u001b[0m\u001b[0;34m;\u001b[0m\u001b[0;34m\u001b[0m\n",
						"\u001b[0;34m\u001b[0m\u001b[0;34m\u001b[0m\n",
						"\u001b[0;34m\u001b[0m        \u001b[0mdocument\u001b[0m\u001b[0;34m.\u001b[0m\u001b[0maddEventListener\u001b[0m\u001b[0;34m(\u001b[0m\u001b[0;34m'keypress'\u001b[0m\u001b[0;34m,\u001b[0m \u001b[0;32masync\u001b[0m \u001b[0;34m(\u001b[0m\u001b[0mc\u001b[0m\u001b[0;34m)\u001b[0m \u001b[0;34m=\u001b[0m\u001b[0;34m>\u001b[0m \u001b[0;32mawait\u001b[0m \u001b[0mlisten\u001b[0m\u001b[0;34m(\u001b[0m\u001b[0mc\u001b[0m\u001b[0;34m)\u001b[0m\u001b[0;34m)\u001b[0m\u001b[0;34m;\u001b[0m\u001b[0;34m\u001b[0m\n",
						"\u001b[0;34m\u001b[0m\u001b[0;34m}\u001b[0m\u001b[0;34m;\u001b[0m\u001b[0;34m\u001b[0m\n",
						"\u001b[0;34m\u001b[0m\u001b[0;34m\u001b[0m\n",
						"\u001b[0;34m\u001b[0m\u001b[0mmonkeyListen\u001b[0m\u001b[0;34m(\u001b[0m\u001b[0;34m)\u001b[0m\u001b[0;34m;\u001b[0m\u001b[0;34m\u001b[0m\u001b[0;34m\u001b[0m\u001b[0m\n"
					]
				}
			],
			"source": [
				"%pycat data/scrape.js"
			]
		},
		{
			"attachments": {},
			"cell_type": "markdown",
			"metadata": {},
			"source": [
				"The data scraped from the above function is then sent to the Deno localhost webserver transcribed below. Once the POST request is received, the webserver appends it to a comma separated table. If you would like to use this code to analyze your own typing, make sure to start the Deno server before sending any data from the keylogger script. "
			]
		},
		{
			"cell_type": "code",
			"execution_count": 3,
			"metadata": {},
			"outputs": [
				{
					"name": "stdout",
					"output_type": "stream",
					"text": [
						"\u001b[0;34m//\u001b[0m \u001b[0;32mimport\u001b[0m \u001b[0mthe\u001b[0m \u001b[0mwebserver\u001b[0m \u001b[0;32min\u001b[0m \u001b[0mthe\u001b[0m \u001b[0mdeno\u001b[0m \u001b[0mway\u001b[0m\u001b[0;34m\u001b[0m\n",
						"\u001b[0;34m\u001b[0m\u001b[0;32mimport\u001b[0m \u001b[0;34m{\u001b[0m \u001b[0mserve\u001b[0m \u001b[0;34m}\u001b[0m \u001b[0;32mfrom\u001b[0m \u001b[0;34m'https://deno.land/std@0.157.0/http/server.ts'\u001b[0m\u001b[0;34m;\u001b[0m\u001b[0;34m\u001b[0m\n",
						"\u001b[0;34m\u001b[0m\u001b[0;34m\u001b[0m\n",
						"\u001b[0;34m\u001b[0m\u001b[0mtype\u001b[0m \u001b[0mInput\u001b[0m \u001b[0;34m=\u001b[0m \u001b[0;34m{\u001b[0m\u001b[0;34m\u001b[0m\n",
						"\u001b[0;34m\u001b[0m        \u001b[0mtimestamp\u001b[0m\u001b[0;34m:\u001b[0m \u001b[0mDate\u001b[0m\u001b[0;34m;\u001b[0m\u001b[0;34m\u001b[0m\n",
						"\u001b[0;34m\u001b[0m        \u001b[0mactiveWord\u001b[0m\u001b[0;34m:\u001b[0m \u001b[0mstring\u001b[0m\u001b[0;34m;\u001b[0m\u001b[0;34m\u001b[0m\n",
						"\u001b[0;34m\u001b[0m        \u001b[0mlastChar\u001b[0m\u001b[0;34m:\u001b[0m \u001b[0mstring\u001b[0m\u001b[0;34m;\u001b[0m\u001b[0;34m\u001b[0m\n",
						"\u001b[0;34m\u001b[0m        \u001b[0mcorrectChar\u001b[0m\u001b[0;34m:\u001b[0m \u001b[0mstring\u001b[0m\u001b[0;34m;\u001b[0m\u001b[0;34m\u001b[0m\n",
						"\u001b[0;34m\u001b[0m        \u001b[0mlayout\u001b[0m\u001b[0;34m:\u001b[0m \u001b[0mstring\u001b[0m\u001b[0;34m;\u001b[0m\u001b[0;34m\u001b[0m\n",
						"\u001b[0;34m\u001b[0m        \u001b[0mtype\u001b[0m\u001b[0;34m:\u001b[0m \u001b[0mstring\u001b[0m\u001b[0;34m;\u001b[0m\u001b[0;34m\u001b[0m\n",
						"\u001b[0;34m\u001b[0m        \u001b[0mlength\u001b[0m\u001b[0;34m:\u001b[0m \u001b[0mstring\u001b[0m\u001b[0;34m;\u001b[0m\u001b[0;34m\u001b[0m\n",
						"\u001b[0;34m\u001b[0m        \u001b[0mlanguage\u001b[0m\u001b[0;34m:\u001b[0m \u001b[0mstring\u001b[0m\u001b[0;34m;\u001b[0m\u001b[0;34m\u001b[0m\n",
						"\u001b[0;34m\u001b[0m        \u001b[0mtestNum\u001b[0m\u001b[0;34m:\u001b[0m \u001b[0mnumber\u001b[0m\u001b[0;34m;\u001b[0m\u001b[0;34m\u001b[0m\n",
						"\u001b[0;34m\u001b[0m        \u001b[0mfunbox\u001b[0m\u001b[0;34m:\u001b[0m \u001b[0mstring\u001b[0m\u001b[0;34m;\u001b[0m\u001b[0;34m\u001b[0m\n",
						"\u001b[0;34m\u001b[0m\u001b[0;34m}\u001b[0m\u001b[0;34m;\u001b[0m\u001b[0;34m\u001b[0m\n",
						"\u001b[0;34m\u001b[0m\u001b[0;34m\u001b[0m\n",
						"\u001b[0;34m\u001b[0m\u001b[0mconst\u001b[0m \u001b[0mhandler\u001b[0m \u001b[0;34m=\u001b[0m \u001b[0;32masync\u001b[0m \u001b[0;34m(\u001b[0m\u001b[0mreq\u001b[0m\u001b[0;34m:\u001b[0m \u001b[0mRequest\u001b[0m\u001b[0;34m)\u001b[0m \u001b[0;34m=\u001b[0m\u001b[0;34m>\u001b[0m \u001b[0;34m{\u001b[0m\u001b[0;34m\u001b[0m\n",
						"\u001b[0;34m\u001b[0m        \u001b[0;32mreturn\u001b[0m \u001b[0;32mawait\u001b[0m \u001b[0mreq\u001b[0m\u001b[0;34m\u001b[0m\n",
						"\u001b[0;34m\u001b[0m                \u001b[0;34m.\u001b[0m\u001b[0mjson\u001b[0m\u001b[0;34m(\u001b[0m\u001b[0;34m)\u001b[0m\u001b[0;34m\u001b[0m\n",
						"\u001b[0;34m\u001b[0m                \u001b[0;34m.\u001b[0m\u001b[0mthen\u001b[0m\u001b[0;34m(\u001b[0m\u001b[0;32masync\u001b[0m \u001b[0;34m(\u001b[0m\u001b[0mtest\u001b[0m\u001b[0;34m:\u001b[0m \u001b[0mInput\u001b[0m\u001b[0;34m[\u001b[0m\u001b[0;34m]\u001b[0m\u001b[0;34m)\u001b[0m \u001b[0;34m=\u001b[0m\u001b[0;34m>\u001b[0m \u001b[0;34m{\u001b[0m\u001b[0;34m\u001b[0m\n",
						"\u001b[0;34m\u001b[0m                        \u001b[0;32mfor\u001b[0m \u001b[0;34m(\u001b[0m\u001b[0mlet\u001b[0m \u001b[0;34m{\u001b[0m\u001b[0;34m\u001b[0m\n",
						"\u001b[0;34m\u001b[0m                                \u001b[0mtimestamp\u001b[0m\u001b[0;34m,\u001b[0m\u001b[0;34m\u001b[0m\n",
						"\u001b[0;34m\u001b[0m                                \u001b[0mactiveWord\u001b[0m\u001b[0;34m,\u001b[0m\u001b[0;34m\u001b[0m\n",
						"\u001b[0;34m\u001b[0m                                \u001b[0mlastChar\u001b[0m\u001b[0;34m,\u001b[0m\u001b[0;34m\u001b[0m\n",
						"\u001b[0;34m\u001b[0m                                \u001b[0mcorrectChar\u001b[0m\u001b[0;34m,\u001b[0m\u001b[0;34m\u001b[0m\n",
						"\u001b[0;34m\u001b[0m                                \u001b[0mlayout\u001b[0m\u001b[0;34m,\u001b[0m\u001b[0;34m\u001b[0m\n",
						"\u001b[0;34m\u001b[0m                                \u001b[0mtype\u001b[0m\u001b[0;34m,\u001b[0m\u001b[0;34m\u001b[0m\n",
						"\u001b[0;34m\u001b[0m                                \u001b[0mlength\u001b[0m\u001b[0;34m,\u001b[0m\u001b[0;34m\u001b[0m\n",
						"\u001b[0;34m\u001b[0m                                \u001b[0mlanguage\u001b[0m\u001b[0;34m,\u001b[0m\u001b[0;34m\u001b[0m\n",
						"\u001b[0;34m\u001b[0m                                \u001b[0mfunbox\u001b[0m\u001b[0;34m,\u001b[0m\u001b[0;34m\u001b[0m\n",
						"\u001b[0;34m\u001b[0m                                \u001b[0mtestNum\u001b[0m\u001b[0;34m\u001b[0m\n",
						"\u001b[0;34m\u001b[0m                        \u001b[0;34m}\u001b[0m \u001b[0mof\u001b[0m \u001b[0mtest\u001b[0m\u001b[0;34m)\u001b[0m \u001b[0;34m{\u001b[0m\u001b[0;34m\u001b[0m\n",
						"\u001b[0;34m\u001b[0m                                \u001b[0;32mif\u001b[0m \u001b[0;34m(\u001b[0m\u001b[0mcorrectChar\u001b[0m \u001b[0;34m==\u001b[0m \u001b[0mundefined\u001b[0m\u001b[0;34m)\u001b[0m \u001b[0;32mreturn\u001b[0m\u001b[0;34m;\u001b[0m\u001b[0;34m\u001b[0m\n",
						"\u001b[0;34m\u001b[0m\u001b[0;34m\u001b[0m\n",
						"\u001b[0;34m\u001b[0m                                \u001b[0;34m//\u001b[0m \u001b[0mhandle\u001b[0m \u001b[0mpotential\u001b[0m \u001b[0mcommas\u001b[0m \u001b[0;32min\u001b[0m \u001b[0mstrings\u001b[0m\u001b[0;34m\u001b[0m\n",
						"\u001b[0;34m\u001b[0m                                \u001b[0mconst\u001b[0m \u001b[0mhasComma\u001b[0m \u001b[0;34m=\u001b[0m \u001b[0;34m(\u001b[0m\u001b[0mword\u001b[0m\u001b[0;34m:\u001b[0m \u001b[0mstring\u001b[0m\u001b[0;34m)\u001b[0m \u001b[0;34m=\u001b[0m\u001b[0;34m>\u001b[0m \u001b[0;34m{\u001b[0m\u001b[0;34m\u001b[0m\n",
						"\u001b[0;34m\u001b[0m                                        \u001b[0;32mif\u001b[0m \u001b[0;34m(\u001b[0m\u001b[0mword\u001b[0m \u001b[0;34m==\u001b[0m \u001b[0mundefined\u001b[0m\u001b[0;34m)\u001b[0m \u001b[0;34m{\u001b[0m\u001b[0;34m\u001b[0m\n",
						"\u001b[0;34m\u001b[0m                                                \u001b[0;32mreturn\u001b[0m \u001b[0;34m''\u001b[0m\u001b[0;34m;\u001b[0m\u001b[0;34m\u001b[0m\n",
						"\u001b[0;34m\u001b[0m                                        \u001b[0;34m}\u001b[0m\u001b[0;34m\u001b[0m\n",
						"\u001b[0;34m\u001b[0m                                        \u001b[0;32mreturn\u001b[0m \u001b[0mword\u001b[0m\u001b[0;34m.\u001b[0m\u001b[0mincludes\u001b[0m\u001b[0;34m(\u001b[0m\u001b[0;34m','\u001b[0m\u001b[0;34m)\u001b[0m\u001b[0;34m\u001b[0m\n",
						"\u001b[0;34m\u001b[0m\u001b[0;31m \u001b[0m\u001b[0;31m \u001b[0m\u001b[0;31m \u001b[0m\u001b[0;31m \u001b[0m\u001b[0;31m \u001b[0m\u001b[0;31m \u001b[0m\u001b[0;31m \u001b[0m\u001b[0;31m \u001b[0m\u001b[0;31m \u001b[0m\u001b[0;31m \u001b[0m\u001b[0;31m \u001b[0m\u001b[0;31m \u001b[0m\u001b[0;31m \u001b[0m\u001b[0;31m \u001b[0m\u001b[0;31m \u001b[0m\u001b[0;31m \u001b[0m\u001b[0;31m \u001b[0m\u001b[0;31m \u001b[0m\u001b[0;31m \u001b[0m\u001b[0;31m \u001b[0m\u001b[0;31m \u001b[0m\u001b[0;31m \u001b[0m\u001b[0;31m \u001b[0m\u001b[0;31m \u001b[0m\u001b[0;31m \u001b[0m\u001b[0;31m \u001b[0m\u001b[0;31m \u001b[0m\u001b[0;31m \u001b[0m\u001b[0;31m \u001b[0m\u001b[0;31m \u001b[0m\u001b[0;31m \u001b[0m\u001b[0;31m \u001b[0m\u001b[0;31m \u001b[0m\u001b[0;31m \u001b[0m\u001b[0;31m \u001b[0m\u001b[0;31m \u001b[0m\u001b[0;31m \u001b[0m\u001b[0;31m \u001b[0m\u001b[0;31m \u001b[0m\u001b[0;31m \u001b[0m\u001b[0;31m \u001b[0m\u001b[0;31m \u001b[0m\u001b[0;31m \u001b[0m\u001b[0;31m \u001b[0m\u001b[0;31m \u001b[0m\u001b[0;31m \u001b[0m\u001b[0;31m \u001b[0m\u001b[0;31m \u001b[0m\u001b[0;31m?\u001b[0m\u001b[0;31m \u001b[0m\u001b[0;31m`\u001b[0m\u001b[0;34m\"${word}\"\u001b[0m\u001b[0;31m`\u001b[0m\u001b[0;34m\u001b[0m\n",
						"\u001b[0;34m\u001b[0m                                                \u001b[0;34m:\u001b[0m \u001b[0mword\u001b[0m\u001b[0;34m.\u001b[0m\u001b[0mincludes\u001b[0m\u001b[0;34m(\u001b[0m\u001b[0;34m'\"'\u001b[0m\u001b[0;34m)\u001b[0m\u001b[0;34m\u001b[0m\n",
						"\u001b[0;34m\u001b[0m\u001b[0;31m \u001b[0m\u001b[0;31m \u001b[0m\u001b[0;31m \u001b[0m\u001b[0;31m \u001b[0m\u001b[0;31m \u001b[0m\u001b[0;31m \u001b[0m\u001b[0;31m \u001b[0m\u001b[0;31m \u001b[0m\u001b[0;31m \u001b[0m\u001b[0;31m \u001b[0m\u001b[0;31m \u001b[0m\u001b[0;31m \u001b[0m\u001b[0;31m \u001b[0m\u001b[0;31m \u001b[0m\u001b[0;31m \u001b[0m\u001b[0;31m \u001b[0m\u001b[0;31m \u001b[0m\u001b[0;31m \u001b[0m\u001b[0;31m \u001b[0m\u001b[0;31m \u001b[0m\u001b[0;31m \u001b[0m\u001b[0;31m \u001b[0m\u001b[0;31m \u001b[0m\u001b[0;31m \u001b[0m\u001b[0;31m \u001b[0m\u001b[0;31m \u001b[0m\u001b[0;31m \u001b[0m\u001b[0;31m \u001b[0m\u001b[0;31m \u001b[0m\u001b[0;31m \u001b[0m\u001b[0;31m \u001b[0m\u001b[0;31m \u001b[0m\u001b[0;31m \u001b[0m\u001b[0;31m \u001b[0m\u001b[0;31m \u001b[0m\u001b[0;31m \u001b[0m\u001b[0;31m \u001b[0m\u001b[0;31m \u001b[0m\u001b[0;31m \u001b[0m\u001b[0;31m \u001b[0m\u001b[0;31m \u001b[0m\u001b[0;31m \u001b[0m\u001b[0;31m \u001b[0m\u001b[0;31m \u001b[0m\u001b[0;31m \u001b[0m\u001b[0;31m \u001b[0m\u001b[0;31m \u001b[0m\u001b[0;31m \u001b[0m\u001b[0;31m?\u001b[0m \u001b[0mword\u001b[0m\u001b[0;34m.\u001b[0m\u001b[0mreplace\u001b[0m\u001b[0;34m(\u001b[0m\u001b[0;34m'\"'\u001b[0m\u001b[0;34m,\u001b[0m \u001b[0;34m'\\\\\"'\u001b[0m\u001b[0;34m)\u001b[0m\u001b[0;34m\u001b[0m\n",
						"\u001b[0;34m\u001b[0m                                                \u001b[0;34m:\u001b[0m \u001b[0mword\u001b[0m\u001b[0;34m;\u001b[0m\u001b[0;34m\u001b[0m\n",
						"\u001b[0;34m\u001b[0m                                \u001b[0;34m}\u001b[0m\u001b[0;34m;\u001b[0m\u001b[0;34m\u001b[0m\n",
						"\u001b[0;34m\u001b[0m\u001b[0;34m\u001b[0m\n",
						"\u001b[0;34m\u001b[0m                                \u001b[0;34m//\u001b[0m \u001b[0mbuild\u001b[0m \u001b[0mthe\u001b[0m \u001b[0mcsv\u001b[0m \u001b[0mrow\u001b[0m\u001b[0;34m\u001b[0m\n",
						"\u001b[0;34m\u001b[0m                                \u001b[0mlet\u001b[0m \u001b[0mrow\u001b[0m \u001b[0;34m=\u001b[0m\u001b[0;31m \u001b[0m\u001b[0;31m`\u001b[0m\u001b[0;31m$\u001b[0m\u001b[0;34m{\u001b[0m\u001b[0mtimestamp\u001b[0m\u001b[0;34m}\u001b[0m\u001b[0;34m,\u001b[0m\u001b[0;31m$\u001b[0m\u001b[0;34m{\u001b[0m\u001b[0mhasComma\u001b[0m\u001b[0;34m(\u001b[0m\u001b[0mactiveWord\u001b[0m\u001b[0;34m)\u001b[0m\u001b[0;34m}\u001b[0m\u001b[0;34m,\u001b[0m\u001b[0;31m$\u001b[0m\u001b[0;34m{\u001b[0m\u001b[0mhasComma\u001b[0m\u001b[0;34m(\u001b[0m\u001b[0;34m\u001b[0m\n",
						"\u001b[0;34m\u001b[0m                                        \u001b[0mlastChar\u001b[0m\u001b[0;34m\u001b[0m\n",
						"\u001b[0;34m\u001b[0m                                \u001b[0;34m)\u001b[0m\u001b[0;34m}\u001b[0m\u001b[0;34m,\u001b[0m\u001b[0;31m$\u001b[0m\u001b[0;34m{\u001b[0m\u001b[0mhasComma\u001b[0m\u001b[0;34m(\u001b[0m\u001b[0;34m\u001b[0m\n",
						"\u001b[0;34m\u001b[0m                                        \u001b[0mcorrectChar\u001b[0m\u001b[0;34m\u001b[0m\n",
						"\u001b[0;34m\u001b[0m                                \u001b[0;34m)\u001b[0m\u001b[0;34m}\u001b[0m\u001b[0;34m,\u001b[0m\u001b[0;31m$\u001b[0m\u001b[0;34m{\u001b[0m\u001b[0mlayout\u001b[0m\u001b[0;34m}\u001b[0m\u001b[0;34m,\u001b[0m\u001b[0;31m$\u001b[0m\u001b[0;34m{\u001b[0m\u001b[0mtestNum\u001b[0m\u001b[0;34m}\u001b[0m\u001b[0;34m,\u001b[0m\u001b[0;31m$\u001b[0m\u001b[0;34m{\u001b[0m\u001b[0mtype\u001b[0m\u001b[0;34m}\u001b[0m\u001b[0;34m,\u001b[0m\u001b[0;31m$\u001b[0m\u001b[0;34m{\u001b[0m\u001b[0mlength\u001b[0m\u001b[0;34m}\u001b[0m\u001b[0;34m,\u001b[0m\u001b[0;31m$\u001b[0m\u001b[0;34m{\u001b[0m\u001b[0mlanguage\u001b[0m\u001b[0;34m}\u001b[0m\u001b[0;34m,\u001b[0m\u001b[0;31m$\u001b[0m\u001b[0;34m{\u001b[0m\u001b[0mfunbox\u001b[0m\u001b[0;34m}\u001b[0m\u001b[0;31m\\\u001b[0m\u001b[0mn\u001b[0m\u001b[0;31m`\u001b[0m\u001b[0;34m;\u001b[0m\u001b[0;34m\u001b[0m\n",
						"\u001b[0;34m\u001b[0m\u001b[0;34m\u001b[0m\n",
						"\u001b[0;34m\u001b[0m                                \u001b[0;34m//\u001b[0m \u001b[0mupdate\u001b[0m \u001b[0mdata\u001b[0m \u001b[0mfile\u001b[0m\u001b[0;34m\u001b[0m\n",
						"\u001b[0;34m\u001b[0m                                \u001b[0;32mawait\u001b[0m \u001b[0mDeno\u001b[0m\u001b[0;34m.\u001b[0m\u001b[0mwriteTextFile\u001b[0m\u001b[0;34m(\u001b[0m\u001b[0;34m'data.csv'\u001b[0m\u001b[0;34m,\u001b[0m \u001b[0mrow\u001b[0m\u001b[0;34m,\u001b[0m \u001b[0;34m{\u001b[0m\u001b[0;34m\u001b[0m\n",
						"\u001b[0;34m\u001b[0m                                        \u001b[0mappend\u001b[0m\u001b[0;34m:\u001b[0m \u001b[0mtrue\u001b[0m\u001b[0;34m\u001b[0m\n",
						"\u001b[0;34m\u001b[0m                                \u001b[0;34m}\u001b[0m\u001b[0;34m)\u001b[0m\u001b[0;34m;\u001b[0m\u001b[0;34m\u001b[0m\n",
						"\u001b[0;34m\u001b[0m                        \u001b[0;34m}\u001b[0m\u001b[0;34m\u001b[0m\n",
						"\u001b[0;34m\u001b[0m\u001b[0;34m\u001b[0m\n",
						"\u001b[0;34m\u001b[0m                        \u001b[0mconsole\u001b[0m\u001b[0;34m.\u001b[0m\u001b[0mlog\u001b[0m\u001b[0;34m(\u001b[0m\u001b[0;34m'Recorded test'\u001b[0m\u001b[0;34m,\u001b[0m \u001b[0mtest\u001b[0m\u001b[0;34m[\u001b[0m\u001b[0;36m0\u001b[0m\u001b[0;34m]\u001b[0m\u001b[0;34m.\u001b[0m\u001b[0mtestNum\u001b[0m\u001b[0;34m)\u001b[0m\u001b[0;34m;\u001b[0m\u001b[0;34m\u001b[0m\n",
						"\u001b[0;34m\u001b[0m                \u001b[0;34m}\u001b[0m\u001b[0;34m)\u001b[0m\u001b[0;34m\u001b[0m\n",
						"\u001b[0;34m\u001b[0m                \u001b[0;34m.\u001b[0m\u001b[0mthen\u001b[0m\u001b[0;34m(\u001b[0m\u001b[0;34m(\u001b[0m\u001b[0;34m)\u001b[0m \u001b[0;34m=\u001b[0m\u001b[0;34m>\u001b[0m \u001b[0;34m{\u001b[0m\u001b[0;34m\u001b[0m\n",
						"\u001b[0;34m\u001b[0m                        \u001b[0;32mreturn\u001b[0m \u001b[0mnew\u001b[0m \u001b[0mResponse\u001b[0m\u001b[0;34m(\u001b[0m\u001b[0mJSON\u001b[0m\u001b[0;34m.\u001b[0m\u001b[0mstringify\u001b[0m\u001b[0;34m(\u001b[0m\u001b[0;34m{\u001b[0m \u001b[0mhi\u001b[0m\u001b[0;34m:\u001b[0m \u001b[0;34m'hi'\u001b[0m \u001b[0;34m}\u001b[0m\u001b[0;34m)\u001b[0m\u001b[0;34m,\u001b[0m \u001b[0;34m{\u001b[0m\u001b[0;34m\u001b[0m\n",
						"\u001b[0;34m\u001b[0m                                \u001b[0mstatus\u001b[0m\u001b[0;34m:\u001b[0m \u001b[0;36m200\u001b[0m\u001b[0;34m,\u001b[0m\u001b[0;34m\u001b[0m\n",
						"\u001b[0;34m\u001b[0m                                \u001b[0mheaders\u001b[0m\u001b[0;34m:\u001b[0m \u001b[0;34m{\u001b[0m\u001b[0;34m\u001b[0m\n",
						"\u001b[0;34m\u001b[0m                                        \u001b[0;34m'Access-Control-Allow-Methods'\u001b[0m\u001b[0;34m:\u001b[0m \u001b[0;34m'GET, POST'\u001b[0m\u001b[0;34m,\u001b[0m\u001b[0;34m\u001b[0m\n",
						"\u001b[0;34m\u001b[0m                                        \u001b[0;34m'Access-Control-Allow-Origin'\u001b[0m\u001b[0;34m:\u001b[0m \u001b[0;34m'*'\u001b[0m\u001b[0;34m\u001b[0m\n",
						"\u001b[0;34m\u001b[0m                                \u001b[0;34m}\u001b[0m\u001b[0;34m\u001b[0m\n",
						"\u001b[0;34m\u001b[0m                        \u001b[0;34m}\u001b[0m\u001b[0;34m)\u001b[0m\u001b[0;34m;\u001b[0m\u001b[0;34m\u001b[0m\n",
						"\u001b[0;34m\u001b[0m                \u001b[0;34m}\u001b[0m\u001b[0;34m)\u001b[0m\u001b[0;34m;\u001b[0m\u001b[0;34m\u001b[0m\n",
						"\u001b[0;34m\u001b[0m\u001b[0;34m}\u001b[0m\u001b[0;34m;\u001b[0m\u001b[0;34m\u001b[0m\n",
						"\u001b[0;34m\u001b[0m\u001b[0;34m\u001b[0m\n",
						"\u001b[0;34m\u001b[0m\u001b[0;34m//\u001b[0m \u001b[0mstart\u001b[0m \u001b[0mlocalserver\u001b[0m\u001b[0;34m\u001b[0m\n",
						"\u001b[0;34m\u001b[0m\u001b[0mserve\u001b[0m\u001b[0;34m(\u001b[0m\u001b[0mhandler\u001b[0m\u001b[0;34m)\u001b[0m\u001b[0;34m;\u001b[0m\u001b[0;34m\u001b[0m\n",
						"\u001b[0;34m\u001b[0m\u001b[0;34m\u001b[0m\n",
						"\u001b[0;34m\u001b[0m\u001b[0;34m//\u001b[0m \u001b[0mdeno\u001b[0m \u001b[0mrun\u001b[0m \u001b[0;34m-\u001b[0m\u001b[0;34m-\u001b[0m\u001b[0mallow\u001b[0m\u001b[0;34m-\u001b[0m\u001b[0mnet\u001b[0m \u001b[0;34m-\u001b[0m\u001b[0;34m-\u001b[0m\u001b[0mallow\u001b[0m\u001b[0;34m-\u001b[0m\u001b[0mwrite\u001b[0m \u001b[0msave\u001b[0m\u001b[0;34m.\u001b[0m\u001b[0mts\u001b[0m\u001b[0;34m\u001b[0m\u001b[0;34m\u001b[0m\u001b[0m\n"
					]
				}
			],
			"source": [
				"%pycat data/save.ts"
			]
		},
		{
			"cell_type": "markdown",
			"metadata": {},
			"source": [
				"## Understanding the data\n"
			]
		},
		{
			"cell_type": "markdown",
			"metadata": {},
			"source": [
				"### Required Imports \n"
			]
		},
		{
			"cell_type": "code",
			"execution_count": 4,
			"metadata": {},
			"outputs": [],
			"source": [
				"from pandas import read_csv\n",
				"from matplotlib.pyplot import subplots, legend, tight_layout"
			]
		},
		{
			"cell_type": "code",
			"execution_count": 5,
			"metadata": {},
			"outputs": [],
			"source": [
				"df = read_csv(\"data/data.csv\", keep_default_na=False)"
			]
		},
		{
			"cell_type": "markdown",
			"metadata": {},
			"source": [
				"### N-Grams\n"
			]
		},
		{
			"attachments": {},
			"cell_type": "markdown",
			"metadata": {},
			"source": [
				"Although it rarely outputs actual words, the Pseudolang funbox option generates words by algorithmically combining the common n-grams of the selected language. An n-gram is a sequence of two adjacent elements from a collection of tokens. In this context, they are the likeliest letter sets. In English, some of the most common 2-grams, or bigrams, include: \n",
				"\n",
				"-   th\n",
				"-   he\n",
				"-   in\n",
				"-   er\n",
				"-   an\n",
				"-   re\n",
				"-   nd\n",
				"-   at\n",
				"-   on\n",
				"-   nt\n"
			]
		},
		{
			"attachments": {},
			"cell_type": "markdown",
			"metadata": {},
			"source": [
				"Ingraining frequent n-grams into muscle memory is crucial to improving typing accuracy and speed. SemiColemak positions a few of these bigrams near each other, specifically “in”, “he”, “at”, and “on”, but underneath different fingers of the same hand. By avoiding the use of the same finger to type the n-gram, one can prime the finger assigned to the next letter in the sequence before the key is actually pressed, and as a product, decrease the time needed to type the whole word.  "
			]
		},
		{
			"cell_type": "markdown",
			"metadata": {},
			"source": [
				"<img class='myimg' src='/Users/richard/Documents/umd/cmsc320/final/img/kb_legend.jpg'/>\n",
				"\n",
				"_An image of the legend of the keyboard_"
			]
		},
		{
			"cell_type": "code",
			"execution_count": 6,
			"metadata": {},
			"outputs": [
				{
					"name": "stdout",
					"output_type": "stream",
					"text": [
						"Percentage of rows with er bigram:\t13%\n",
						"Percentage of rows with re bigram:\t10%\n",
						"Percentage of rows with th bigram:\t6%\n",
						"Percentage of rows with in bigram:\t10%\n",
						"Percentage of rows with an bigram:\t6%\n",
						"Percentage of rows with at bigram:\t7%\n",
						"Percentage of rows with he bigram:\t4%\n",
						"Percentage of rows with on bigram:\t9%\n",
						"Percentage of rows with nd bigram:\t3%\n",
						"Percentage of rows with nt bigram:\t6%\n"
					]
				}
			],
			"source": [
				"# Calculate the percentage of words with a listed n-gram in the entire dataset\n",
				"\n",
				"ngrams = [\"er\", \"re\", \"th\", \"in\",\"an\", \"at\", \"he\", \"on\", \"nd\",  \"nt\"]\n",
				"for x in ngrams:\n",
				"    print(\n",
				"        f\"Percentage of rows with {x} bigram:\\t{round(len(df[df.activeWord.str.contains(x)]) * 100 / len(df))}%\"\n",
				"    )\n"
			]
		},
		{
			"cell_type": "markdown",
			"metadata": {},
			"source": [
				"### Languages\n"
			]
		},
		{
			"attachments": {},
			"cell_type": "markdown",
			"metadata": {},
			"source": [
				"Monkey Type can generate typing tests in many different languages, so, in order to emulate the words that I use from day to day, about $\\frac{2}{3}$ of the tests that I took were comprised of English words, but since I write a lot of Python, JavaScript, C++, Swift and Kotlin, to a lesser degree, French, those languages were added to the test mix."
			]
		},
		{
			"attachments": {},
			"cell_type": "markdown",
			"metadata": {},
			"source": [
				"Since all of the programming languages included use English-based syntax, they share many of the n-grams with English.  Regular English, however, does not train your fingers for coding paradigms, like camel or snake case or using parentheses, equal signs, or comparators frequently. "
			]
		},
		{
			"cell_type": "code",
			"execution_count": 7,
			"metadata": {},
			"outputs": [
				{
					"data": {
						"text/plain": [
							"<AxesSubplot: >"
						]
					},
					"execution_count": 7,
					"metadata": {},
					"output_type": "execute_result"
				},
				{
					"data": {
						"image/png": "[encoded data removed]",
						"text/plain": [
							"<Figure size 640x480 with 1 Axes>"
						]
					},
					"metadata": {},
					"output_type": "display_data"
				}
			],
			"source": [
				"# Get value counts\n",
				"v = df.language.value_counts().sort_index()\n",
				"\n",
				"# Generate color gradients\n",
				"colors = [0] * 3\n",
				"\n",
				"def pickColor(x):\n",
				"    if \"code\" in x or 'git' in x:\n",
				"        colors[0] += 1\n",
				"        return \"#\" + \"\".join(\n",
				"            [hex(c - (12 * colors[0]))[2:] for c in [0x71, 0xff, 0x9f]]\n",
				"        )\n",
				"    if \"english\" in x or \"wordle\" in x:\n",
				"        colors[1] += 1\n",
				"        return \"#\" + \"\".join(\n",
				"            [hex(c - (10 * colors[1]))[2:] for c in [0xff, 0x61, 0x61]]\n",
				"        )\n",
				"    if \"french\" in x:\n",
				"        colors[2] += 1\n",
				"        return \"#\" + \"\".join(\n",
				"            [hex(c - (12 * colors[2]))[2:] for c in [0x61, 0xD7, 0xff]]\n",
				"        )\n",
				"\n",
				"langColors = {x: pickColor(x) for x in v.index}\n",
				"\n",
				"# Plot pie graph\n",
				"v.plot.pie(\n",
				"    radius=3.5,\n",
				"    ylabel=\"\",\n",
				"\tpctdistance=0.8,\n",
				"    colors=[langColors[x] for x in v.index],\n",
				"    labels=v.index,\n",
				"    autopct=lambda x: f\"{round(x, 1)}%\\n{int(x * v.sum() / 100)} characters\",\n",
				")\n"
			]
		},
		{
			"cell_type": "markdown",
			"metadata": {},
			"source": [
				"_English language sets are depicted in various degrees of red, code sets in green, and French in blue._"
			]
		},
		{
			"cell_type": "markdown",
			"metadata": {},
			"source": [
				"### Punctuation \n"
			]
		},
		{
			"attachments": {},
			"cell_type": "markdown",
			"metadata": {},
			"source": [
				"When spoken languages are transcribed, punctuation marks are added. Monkey Type does not add these marks by default, so the __Quote__ test __type__ was used to introduce them. "
			]
		},
		{
			"cell_type": "code",
			"execution_count": 8,
			"metadata": {},
			"outputs": [
				{
					"data": {
						"text/html": [
							"<div>\n",
							"<style scoped>\n",
							"    .dataframe tbody tr th:only-of-type {\n",
							"        vertical-align: middle;\n",
							"    }\n",
							"\n",
							"    .dataframe tbody tr th {\n",
							"        vertical-align: top;\n",
							"    }\n",
							"\n",
							"    .dataframe thead th {\n",
							"        text-align: right;\n",
							"    }\n",
							"</style>\n",
							"<table border=\"1\" class=\"dataframe\">\n",
							"  <thead>\n",
							"    <tr style=\"text-align: right;\">\n",
							"      <th></th>\n",
							"      <th>timestamp</th>\n",
							"      <th>activeWord</th>\n",
							"      <th>lastChar</th>\n",
							"      <th>correctChar</th>\n",
							"      <th>layout</th>\n",
							"      <th>testNum</th>\n",
							"      <th>type</th>\n",
							"      <th>length</th>\n",
							"      <th>language</th>\n",
							"      <th>funbox</th>\n",
							"    </tr>\n",
							"  </thead>\n",
							"  <tbody>\n",
							"    <tr>\n",
							"      <th>12295</th>\n",
							"      <td>2022-12-12T13:35:48.619Z</td>\n",
							"      <td>don't</td>\n",
							"      <td>d</td>\n",
							"      <td>d</td>\n",
							"      <td>semicolemakdh</td>\n",
							"      <td>1</td>\n",
							"      <td>quote</td>\n",
							"      <td>25</td>\n",
							"      <td>english</td>\n",
							"      <td>null</td>\n",
							"    </tr>\n",
							"    <tr>\n",
							"      <th>12296</th>\n",
							"      <td>2022-12-12T13:35:48.748Z</td>\n",
							"      <td>don't</td>\n",
							"      <td>o</td>\n",
							"      <td>o</td>\n",
							"      <td>semicolemakdh</td>\n",
							"      <td>1</td>\n",
							"      <td>quote</td>\n",
							"      <td>25</td>\n",
							"      <td>english</td>\n",
							"      <td>null</td>\n",
							"    </tr>\n",
							"    <tr>\n",
							"      <th>12297</th>\n",
							"      <td>2022-12-12T13:35:48.982Z</td>\n",
							"      <td>don't</td>\n",
							"      <td>n</td>\n",
							"      <td>n</td>\n",
							"      <td>semicolemakdh</td>\n",
							"      <td>1</td>\n",
							"      <td>quote</td>\n",
							"      <td>25</td>\n",
							"      <td>english</td>\n",
							"      <td>null</td>\n",
							"    </tr>\n",
							"    <tr>\n",
							"      <th>12298</th>\n",
							"      <td>2022-12-12T13:35:49.428Z</td>\n",
							"      <td>don't</td>\n",
							"      <td>'</td>\n",
							"      <td>'</td>\n",
							"      <td>semicolemakdh</td>\n",
							"      <td>1</td>\n",
							"      <td>quote</td>\n",
							"      <td>25</td>\n",
							"      <td>english</td>\n",
							"      <td>null</td>\n",
							"    </tr>\n",
							"    <tr>\n",
							"      <th>12299</th>\n",
							"      <td>2022-12-12T13:35:49.746Z</td>\n",
							"      <td>don't</td>\n",
							"      <td>t</td>\n",
							"      <td>t</td>\n",
							"      <td>semicolemakdh</td>\n",
							"      <td>1</td>\n",
							"      <td>quote</td>\n",
							"      <td>25</td>\n",
							"      <td>english</td>\n",
							"      <td>null</td>\n",
							"    </tr>\n",
							"  </tbody>\n",
							"</table>\n",
							"</div>"
						],
						"text/plain": [
							"                      timestamp activeWord lastChar correctChar  \\\n",
							"12295  2022-12-12T13:35:48.619Z     don't         d           d   \n",
							"12296  2022-12-12T13:35:48.748Z     don't         o           o   \n",
							"12297  2022-12-12T13:35:48.982Z     don't         n           n   \n",
							"12298  2022-12-12T13:35:49.428Z     don't         '           '   \n",
							"12299  2022-12-12T13:35:49.746Z     don't         t           t   \n",
							"\n",
							"              layout  testNum   type  length language funbox  \n",
							"12295  semicolemakdh        1  quote      25  english   null  \n",
							"12296  semicolemakdh        1  quote      25  english   null  \n",
							"12297  semicolemakdh        1  quote      25  english   null  \n",
							"12298  semicolemakdh        1  quote      25  english   null  \n",
							"12299  semicolemakdh        1  quote      25  english   null  "
						]
					},
					"execution_count": 8,
					"metadata": {},
					"output_type": "execute_result"
				}
			],
			"source": [
				"# Words with punctuation\n",
				"df[df[\"activeWord\"].str.contains(\"'\")].head()"
			]
		},
		{
			"cell_type": "markdown",
			"metadata": {},
			"source": [
				"## Feature Engineering\n"
			]
		},
		{
			"attachments": {},
			"cell_type": "markdown",
			"metadata": {},
			"source": [
				"The first step in identifying the points of error in my keyboard usage is to define a set of error metrics. Once defined and computed, these metrics will be added as columns in the Pandas DataFrame. "
			]
		},
		{
			"cell_type": "markdown",
			"metadata": {},
			"source": [
				"### Required Imports \n"
			]
		},
		{
			"cell_type": "code",
			"execution_count": 9,
			"metadata": {},
			"outputs": [],
			"source": [
				"from datetime import datetime as dt, timedelta\n",
				"from pandas import set_option\n",
				"from numpy import NaN, nan"
			]
		},
		{
			"attachments": {},
			"cell_type": "markdown",
			"metadata": {},
			"source": [
				"### Speed and Test Number"
			]
		},
		{
			"attachments": {},
			"cell_type": "markdown",
			"metadata": {},
			"source": [
				"Typing speed is calculated in characters per second (cps) rather than the customary unit of measurement, words per minute (wpm). Since there is a high variance in the length of words, using wpm would require some sort of averaging, which would invite information loss. Measuring characters per second does not necessitate averaging because it relies on the smallest non-temporal piece of data, the character. "
			]
		},
		{
			"attachments": {},
			"cell_type": "markdown",
			"metadata": {},
			"source": [
				"Characters per second is calculated by subtracting timestamps between two adjacent characters. This strategy works well when every letter typed is correct. However, since I am still learning, correctly typed characters inevitably precede mistypes. Instead of returning an accurate measurement of the useful characters typed per unit of time, the interval between characters simply returns raw typing speed. To remedy this, the speed of incorrectly typed characters is replaced with the mean of over the active word. "
			]
		},
		{
			"cell_type": "code",
			"execution_count": 10,
			"metadata": {},
			"outputs": [
				{
					"data": {
						"text/html": [
							"<div>\n",
							"<style scoped>\n",
							"    .dataframe tbody tr th:only-of-type {\n",
							"        vertical-align: middle;\n",
							"    }\n",
							"\n",
							"    .dataframe tbody tr th {\n",
							"        vertical-align: top;\n",
							"    }\n",
							"\n",
							"    .dataframe thead th {\n",
							"        text-align: right;\n",
							"    }\n",
							"</style>\n",
							"<table border=\"1\" class=\"dataframe\">\n",
							"  <thead>\n",
							"    <tr style=\"text-align: right;\">\n",
							"      <th></th>\n",
							"      <th>timestamp</th>\n",
							"      <th>activeWord</th>\n",
							"      <th>lastChar</th>\n",
							"      <th>correctChar</th>\n",
							"      <th>layout</th>\n",
							"      <th>testNum</th>\n",
							"      <th>type</th>\n",
							"      <th>length</th>\n",
							"      <th>language</th>\n",
							"      <th>funbox</th>\n",
							"    </tr>\n",
							"  </thead>\n",
							"  <tbody>\n",
							"    <tr>\n",
							"      <th>0</th>\n",
							"      <td>2022-12-12 07:45:16.438</td>\n",
							"      <td>ninth</td>\n",
							"      <td>n</td>\n",
							"      <td>n</td>\n",
							"      <td>semicolemakdh</td>\n",
							"      <td>1</td>\n",
							"      <td>words</td>\n",
							"      <td>10</td>\n",
							"      <td>english wordle</td>\n",
							"      <td>null</td>\n",
							"    </tr>\n",
							"    <tr>\n",
							"      <th>1</th>\n",
							"      <td>2022-12-12 07:45:16.527</td>\n",
							"      <td>ninth</td>\n",
							"      <td>i</td>\n",
							"      <td>i</td>\n",
							"      <td>semicolemakdh</td>\n",
							"      <td>1</td>\n",
							"      <td>words</td>\n",
							"      <td>10</td>\n",
							"      <td>english wordle</td>\n",
							"      <td>null</td>\n",
							"    </tr>\n",
							"    <tr>\n",
							"      <th>2</th>\n",
							"      <td>2022-12-12 07:45:16.650</td>\n",
							"      <td>ninth</td>\n",
							"      <td>n</td>\n",
							"      <td>n</td>\n",
							"      <td>semicolemakdh</td>\n",
							"      <td>1</td>\n",
							"      <td>words</td>\n",
							"      <td>10</td>\n",
							"      <td>english wordle</td>\n",
							"      <td>null</td>\n",
							"    </tr>\n",
							"    <tr>\n",
							"      <th>3</th>\n",
							"      <td>2022-12-12 07:45:16.881</td>\n",
							"      <td>ninth</td>\n",
							"      <td>t</td>\n",
							"      <td>t</td>\n",
							"      <td>semicolemakdh</td>\n",
							"      <td>1</td>\n",
							"      <td>words</td>\n",
							"      <td>10</td>\n",
							"      <td>english wordle</td>\n",
							"      <td>null</td>\n",
							"    </tr>\n",
							"    <tr>\n",
							"      <th>4</th>\n",
							"      <td>2022-12-12 07:45:17.005</td>\n",
							"      <td>ninth</td>\n",
							"      <td>h</td>\n",
							"      <td>h</td>\n",
							"      <td>semicolemakdh</td>\n",
							"      <td>1</td>\n",
							"      <td>words</td>\n",
							"      <td>10</td>\n",
							"      <td>english wordle</td>\n",
							"      <td>null</td>\n",
							"    </tr>\n",
							"  </tbody>\n",
							"</table>\n",
							"</div>"
						],
						"text/plain": [
							"                timestamp activeWord lastChar correctChar         layout  \\\n",
							"0 2022-12-12 07:45:16.438     ninth         n           n  semicolemakdh   \n",
							"1 2022-12-12 07:45:16.527     ninth         i           i  semicolemakdh   \n",
							"2 2022-12-12 07:45:16.650     ninth         n           n  semicolemakdh   \n",
							"3 2022-12-12 07:45:16.881     ninth         t           t  semicolemakdh   \n",
							"4 2022-12-12 07:45:17.005     ninth         h           h  semicolemakdh   \n",
							"\n",
							"   testNum   type  length        language funbox  \n",
							"0        1  words      10  english wordle   null  \n",
							"1        1  words      10  english wordle   null  \n",
							"2        1  words      10  english wordle   null  \n",
							"3        1  words      10  english wordle   null  \n",
							"4        1  words      10  english wordle   null  "
						]
					},
					"execution_count": 10,
					"metadata": {},
					"output_type": "execute_result"
				}
			],
			"source": [
				"# Converting timestamps to python's date object\n",
				"\n",
				"df.timestamp = df.timestamp.apply(lambda x: dt.fromisoformat(x[:-1]))\n",
				"df.head()"
			]
		},
		{
			"cell_type": "code",
			"execution_count": 11,
			"metadata": {},
			"outputs": [
				{
					"data": {
						"text/html": [
							"<div>\n",
							"<style scoped>\n",
							"    .dataframe tbody tr th:only-of-type {\n",
							"        vertical-align: middle;\n",
							"    }\n",
							"\n",
							"    .dataframe tbody tr th {\n",
							"        vertical-align: top;\n",
							"    }\n",
							"\n",
							"    .dataframe thead th {\n",
							"        text-align: right;\n",
							"    }\n",
							"</style>\n",
							"<table border=\"1\" class=\"dataframe\">\n",
							"  <thead>\n",
							"    <tr style=\"text-align: right;\">\n",
							"      <th></th>\n",
							"      <th>timestamp</th>\n",
							"      <th>lastChar</th>\n",
							"      <th>cps</th>\n",
							"    </tr>\n",
							"  </thead>\n",
							"  <tbody>\n",
							"    <tr>\n",
							"      <th>0</th>\n",
							"      <td>2022-12-12 07:45:16.438</td>\n",
							"      <td>n</td>\n",
							"      <td>NaN</td>\n",
							"    </tr>\n",
							"    <tr>\n",
							"      <th>1</th>\n",
							"      <td>2022-12-12 07:45:16.527</td>\n",
							"      <td>i</td>\n",
							"      <td>0.089</td>\n",
							"    </tr>\n",
							"    <tr>\n",
							"      <th>2</th>\n",
							"      <td>2022-12-12 07:45:16.650</td>\n",
							"      <td>n</td>\n",
							"      <td>0.123</td>\n",
							"    </tr>\n",
							"    <tr>\n",
							"      <th>3</th>\n",
							"      <td>2022-12-12 07:45:16.881</td>\n",
							"      <td>t</td>\n",
							"      <td>0.231</td>\n",
							"    </tr>\n",
							"    <tr>\n",
							"      <th>4</th>\n",
							"      <td>2022-12-12 07:45:17.005</td>\n",
							"      <td>h</td>\n",
							"      <td>0.124</td>\n",
							"    </tr>\n",
							"  </tbody>\n",
							"</table>\n",
							"</div>"
						],
						"text/plain": [
							"                timestamp lastChar    cps\n",
							"0 2022-12-12 07:45:16.438        n    NaN\n",
							"1 2022-12-12 07:45:16.527        i  0.089\n",
							"2 2022-12-12 07:45:16.650        n  0.123\n",
							"3 2022-12-12 07:45:16.881        t  0.231\n",
							"4 2022-12-12 07:45:17.005        h  0.124"
						]
					},
					"execution_count": 11,
					"metadata": {},
					"output_type": "execute_result"
				}
			],
			"source": [
				"# Subtract the intervals\n",
				"\n",
				"df[\"cps\"] = df.timestamp\n",
				"df.cps = df.cps.sub(df.timestamp.shift()).apply(lambda x: x.total_seconds())\n",
				"\n",
				"# Show results\n",
				"df[[\"timestamp\", \"lastChar\", \"cps\"]].head()"
			]
		},
		{
			"attachments": {},
			"cell_type": "markdown",
			"metadata": {},
			"source": [
				"The intervals between letters in the same word and in the same test are correct, but since tests were not taken consecutively, some intervals are much too large."
			]
		},
		{
			"cell_type": "code",
			"execution_count": 12,
			"metadata": {},
			"outputs": [
				{
					"data": {
						"text/html": [
							"<div>\n",
							"<style scoped>\n",
							"    .dataframe tbody tr th:only-of-type {\n",
							"        vertical-align: middle;\n",
							"    }\n",
							"\n",
							"    .dataframe tbody tr th {\n",
							"        vertical-align: top;\n",
							"    }\n",
							"\n",
							"    .dataframe thead th {\n",
							"        text-align: right;\n",
							"    }\n",
							"</style>\n",
							"<table border=\"1\" class=\"dataframe\">\n",
							"  <thead>\n",
							"    <tr style=\"text-align: right;\">\n",
							"      <th></th>\n",
							"      <th>timestamp</th>\n",
							"      <th>activeWord</th>\n",
							"      <th>lastChar</th>\n",
							"      <th>correctChar</th>\n",
							"      <th>layout</th>\n",
							"      <th>testNum</th>\n",
							"      <th>type</th>\n",
							"      <th>length</th>\n",
							"      <th>language</th>\n",
							"      <th>funbox</th>\n",
							"      <th>cps</th>\n",
							"    </tr>\n",
							"  </thead>\n",
							"  <tbody>\n",
							"    <tr>\n",
							"      <th>10407</th>\n",
							"      <td>2022-12-12 09:31:38.781</td>\n",
							"      <td>faut</td>\n",
							"      <td>t</td>\n",
							"      <td>t</td>\n",
							"      <td>semicolemakdh</td>\n",
							"      <td>79</td>\n",
							"      <td>words</td>\n",
							"      <td>10</td>\n",
							"      <td>french</td>\n",
							"      <td>null</td>\n",
							"      <td>0.556</td>\n",
							"    </tr>\n",
							"    <tr>\n",
							"      <th>10408</th>\n",
							"      <td>2022-12-12 13:14:29.763</td>\n",
							"      <td>mark</td>\n",
							"      <td>m</td>\n",
							"      <td>m</td>\n",
							"      <td>semicolemakdh</td>\n",
							"      <td>1</td>\n",
							"      <td>words</td>\n",
							"      <td>10</td>\n",
							"      <td>english 5k</td>\n",
							"      <td>null</td>\n",
							"      <td>13370.982</td>\n",
							"    </tr>\n",
							"  </tbody>\n",
							"</table>\n",
							"</div>"
						],
						"text/plain": [
							"                    timestamp activeWord lastChar correctChar         layout  \\\n",
							"10407 2022-12-12 09:31:38.781       faut        t           t  semicolemakdh   \n",
							"10408 2022-12-12 13:14:29.763      mark         m           m  semicolemakdh   \n",
							"\n",
							"       testNum   type  length    language funbox        cps  \n",
							"10407       79  words      10      french   null      0.556  \n",
							"10408        1  words      10  english 5k   null  13370.982  "
						]
					},
					"execution_count": 12,
					"metadata": {},
					"output_type": "execute_result"
				}
			],
			"source": [
				"df.iloc[[10407, 10408]]\n",
				"# df[df.cps > 3*60]"
			]
		},
		{
			"attachments": {},
			"cell_type": "markdown",
			"metadata": {},
			"source": [
				"Although these letters were recorded successively, moving my fingers from the _t_ to _m_ key to begin the word _mark_ did not take nearly 4 hours. To ensure accuracy of the data, the beginning of the interval must align with the start of each test. "
			]
		},
		{
			"attachments": {},
			"cell_type": "markdown",
			"metadata": {},
			"source": [
				"Tests taken in the same browser session are labeled in chronological order, but if the tab running the logger was closed or refreshed, the order was reset to test number 1. Fixing the values in the __testNum__ column is necessary to get the correct cps. "
			]
		},
		{
			"cell_type": "code",
			"execution_count": 13,
			"metadata": {},
			"outputs": [],
			"source": [
				"# Loop over each row\n",
				"for i, _ in df.iterrows():\n",
				"\tif i + 1 == len(df):\n",
				"\t\tbreak\n",
				"\n",
				"\ttn = int(df.at[i, 'testNum'])\n",
				"\tntn = int(df.at[i + 1, 'testNum'])\n",
				"\n",
				"\t# if i == 5721:\n",
				"\t# \tprint('stop')\n",
				"\t\n",
				"\t# If the next row's num is less than the current row's (the rows are misordered)\n",
				"\tif tn > ntn:\n",
				"\n",
				"\t\t# Change all of the words in the next row's test to the correct number\n",
				"\t\tj = i + 1\n",
				"\t\tnln = df.at[j, 'length']\n",
				"\t\tlastWord = df.at[j, 'activeWord']\n",
				"\t\twhile nln > 0 and j < len(df):\n",
				"\t\t\tdf.at[j, 'testNum'] = tn + 1\n",
				"\n",
				"\t\t\t# If lastWord is different from this word\n",
				"\t\t\tif lastWord != df.at[j, 'activeWord']:\n",
				"\t\t\t\tlastWord = df.at[j, 'activeWord']\n",
				"\t\t\t\tnln -= 1\n",
				"\n",
				"\t\t\t# If row is the last of its word\n",
				"\t\t\tif lastWord[-1] != ' ' and j + 1 < len(df) and df.at[j + 1, 'activeWord'] != lastWord:\n",
				"\t\t\t\tbreak\n",
				"\t\t\tj += 1"
			]
		},
		{
			"cell_type": "markdown",
			"metadata": {},
			"source": [
				"Now that the tests are correctly indexed, we set the initial letter in each test to a null value."
			]
		},
		{
			"cell_type": "code",
			"execution_count": 14,
			"metadata": {},
			"outputs": [
				{
					"data": {
						"text/html": [
							"<div>\n",
							"<style scoped>\n",
							"    .dataframe tbody tr th:only-of-type {\n",
							"        vertical-align: middle;\n",
							"    }\n",
							"\n",
							"    .dataframe tbody tr th {\n",
							"        vertical-align: top;\n",
							"    }\n",
							"\n",
							"    .dataframe thead th {\n",
							"        text-align: right;\n",
							"    }\n",
							"</style>\n",
							"<table border=\"1\" class=\"dataframe\">\n",
							"  <thead>\n",
							"    <tr style=\"text-align: right;\">\n",
							"      <th></th>\n",
							"      <th>timestamp</th>\n",
							"      <th>activeWord</th>\n",
							"      <th>lastChar</th>\n",
							"      <th>correctChar</th>\n",
							"      <th>layout</th>\n",
							"      <th>testNum</th>\n",
							"      <th>type</th>\n",
							"      <th>length</th>\n",
							"      <th>language</th>\n",
							"      <th>funbox</th>\n",
							"      <th>cps</th>\n",
							"    </tr>\n",
							"  </thead>\n",
							"  <tbody>\n",
							"    <tr>\n",
							"      <th>24452</th>\n",
							"      <td>2022-12-15 04:27:10.099</td>\n",
							"      <td>since</td>\n",
							"      <td>s</td>\n",
							"      <td>s</td>\n",
							"      <td>semicolemakdh</td>\n",
							"      <td>300</td>\n",
							"      <td>words</td>\n",
							"      <td>25</td>\n",
							"      <td>english</td>\n",
							"      <td>null</td>\n",
							"      <td>NaN</td>\n",
							"    </tr>\n",
							"    <tr>\n",
							"      <th>24453</th>\n",
							"      <td>2022-12-15 04:27:10.149</td>\n",
							"      <td>since</td>\n",
							"      <td>i</td>\n",
							"      <td>i</td>\n",
							"      <td>semicolemakdh</td>\n",
							"      <td>300</td>\n",
							"      <td>words</td>\n",
							"      <td>25</td>\n",
							"      <td>english</td>\n",
							"      <td>null</td>\n",
							"      <td>0.050</td>\n",
							"    </tr>\n",
							"    <tr>\n",
							"      <th>24454</th>\n",
							"      <td>2022-12-15 04:27:10.321</td>\n",
							"      <td>since</td>\n",
							"      <td>n</td>\n",
							"      <td>n</td>\n",
							"      <td>semicolemakdh</td>\n",
							"      <td>300</td>\n",
							"      <td>words</td>\n",
							"      <td>25</td>\n",
							"      <td>english</td>\n",
							"      <td>null</td>\n",
							"      <td>0.172</td>\n",
							"    </tr>\n",
							"    <tr>\n",
							"      <th>24455</th>\n",
							"      <td>2022-12-15 04:27:10.656</td>\n",
							"      <td>since</td>\n",
							"      <td>c</td>\n",
							"      <td>c</td>\n",
							"      <td>semicolemakdh</td>\n",
							"      <td>300</td>\n",
							"      <td>words</td>\n",
							"      <td>25</td>\n",
							"      <td>english</td>\n",
							"      <td>null</td>\n",
							"      <td>0.335</td>\n",
							"    </tr>\n",
							"    <tr>\n",
							"      <th>24456</th>\n",
							"      <td>2022-12-15 04:27:10.808</td>\n",
							"      <td>since</td>\n",
							"      <td>e</td>\n",
							"      <td>e</td>\n",
							"      <td>semicolemakdh</td>\n",
							"      <td>300</td>\n",
							"      <td>words</td>\n",
							"      <td>25</td>\n",
							"      <td>english</td>\n",
							"      <td>null</td>\n",
							"      <td>0.152</td>\n",
							"    </tr>\n",
							"  </tbody>\n",
							"</table>\n",
							"</div>"
						],
						"text/plain": [
							"                    timestamp activeWord lastChar correctChar         layout  \\\n",
							"24452 2022-12-15 04:27:10.099     since         s           s  semicolemakdh   \n",
							"24453 2022-12-15 04:27:10.149     since         i           i  semicolemakdh   \n",
							"24454 2022-12-15 04:27:10.321     since         n           n  semicolemakdh   \n",
							"24455 2022-12-15 04:27:10.656     since         c           c  semicolemakdh   \n",
							"24456 2022-12-15 04:27:10.808     since         e           e  semicolemakdh   \n",
							"\n",
							"       testNum   type  length language funbox    cps  \n",
							"24452      300  words      25  english   null    NaN  \n",
							"24453      300  words      25  english   null  0.050  \n",
							"24454      300  words      25  english   null  0.172  \n",
							"24455      300  words      25  english   null  0.335  \n",
							"24456      300  words      25  english   null  0.152  "
						]
					},
					"execution_count": 14,
					"metadata": {},
					"output_type": "execute_result"
				}
			],
			"source": [
				"# get the first characters in each list\n",
				"firstChars = df.groupby('testNum').cps.head(1)\n",
				"\n",
				"# set each start's cps to null value\n",
				"for i in firstChars.index:\n",
				"\tdf.loc[i, 'cps'] = NaN\n",
				"\n",
				"df[df.testNum == 300].head()"
			]
		},
		{
			"cell_type": "markdown",
			"metadata": {},
			"source": [
				"### Consistency"
			]
		},
		{
			"attachments": {},
			"cell_type": "markdown",
			"metadata": {},
			"source": [
				"Consistency is the measure of the difference in cps across the letters of a word. Analyzing the consistency between keypresses will determine the bigrams and trigrams that require the most practice. "
			]
		},
		{
			"attachments": {},
			"cell_type": "markdown",
			"metadata": {},
			"source": [
				"$$\\text{consistency score} = \\text{cps}_i - \\text{cps}_{i - 1}$$\n",
				"\n",
				"_Lower is better_"
			]
		},
		{
			"cell_type": "code",
			"execution_count": 15,
			"metadata": {},
			"outputs": [
				{
					"data": {
						"text/html": [
							"<div>\n",
							"<style scoped>\n",
							"    .dataframe tbody tr th:only-of-type {\n",
							"        vertical-align: middle;\n",
							"    }\n",
							"\n",
							"    .dataframe tbody tr th {\n",
							"        vertical-align: top;\n",
							"    }\n",
							"\n",
							"    .dataframe thead th {\n",
							"        text-align: right;\n",
							"    }\n",
							"</style>\n",
							"<table border=\"1\" class=\"dataframe\">\n",
							"  <thead>\n",
							"    <tr style=\"text-align: right;\">\n",
							"      <th></th>\n",
							"      <th>lastChar</th>\n",
							"      <th>cps</th>\n",
							"      <th>consistency</th>\n",
							"    </tr>\n",
							"  </thead>\n",
							"  <tbody>\n",
							"    <tr>\n",
							"      <th>0</th>\n",
							"      <td>n</td>\n",
							"      <td>NaN</td>\n",
							"      <td>NaN</td>\n",
							"    </tr>\n",
							"    <tr>\n",
							"      <th>1</th>\n",
							"      <td>i</td>\n",
							"      <td>0.089</td>\n",
							"      <td>0.089</td>\n",
							"    </tr>\n",
							"    <tr>\n",
							"      <th>2</th>\n",
							"      <td>n</td>\n",
							"      <td>0.123</td>\n",
							"      <td>0.034</td>\n",
							"    </tr>\n",
							"    <tr>\n",
							"      <th>3</th>\n",
							"      <td>t</td>\n",
							"      <td>0.231</td>\n",
							"      <td>0.108</td>\n",
							"    </tr>\n",
							"    <tr>\n",
							"      <th>4</th>\n",
							"      <td>h</td>\n",
							"      <td>0.124</td>\n",
							"      <td>-0.107</td>\n",
							"    </tr>\n",
							"  </tbody>\n",
							"</table>\n",
							"</div>"
						],
						"text/plain": [
							"  lastChar    cps  consistency\n",
							"0        n    NaN          NaN\n",
							"1        i  0.089        0.089\n",
							"2        n  0.123        0.034\n",
							"3        t  0.231        0.108\n",
							"4        h  0.124       -0.107"
						]
					},
					"execution_count": 15,
					"metadata": {},
					"output_type": "execute_result"
				}
			],
			"source": [
				"# Subtract the time to press character_i from time to press character_i-1\n",
				"df['consistency'] = df.cps\n",
				"df.consistency = df.consistency.sub(df.cps.shift())\n",
				"\n",
				"# Replace NaN value of the second words with the cps\n",
				"df.consistency = df.consistency.fillna(df.cps)\n",
				"\n",
				"# Show results\n",
				"df[['lastChar', 'cps', 'consistency']].head()"
			]
		},
		{
			"cell_type": "markdown",
			"metadata": {},
			"source": [
				"### Accuracy"
			]
		},
		{
			"attachments": {},
			"cell_type": "markdown",
			"metadata": {},
			"source": [
				"Another important metric for identifying the points of typing errors is accuracy. It will be calculated by dividing the number of keypresses taken to correctly type a word by the number of characters in that word, then subtracting that number from 1. "
			]
		},
		{
			"attachments": {},
			"cell_type": "markdown",
			"metadata": {},
			"source": [
				"$$\\text{accuracy score} = \\frac{\\text{keypresses to type correctly}}{\\text{length of word}}$$ \n",
				"\n",
				"_One is perfect, Less than one is a partially completed word, More than one has more keypresses than necessary_"
			]
		},
		{
			"cell_type": "code",
			"execution_count": 16,
			"metadata": {},
			"outputs": [
				{
					"data": {
						"text/html": [
							"<div>\n",
							"<style scoped>\n",
							"    .dataframe tbody tr th:only-of-type {\n",
							"        vertical-align: middle;\n",
							"    }\n",
							"\n",
							"    .dataframe tbody tr th {\n",
							"        vertical-align: top;\n",
							"    }\n",
							"\n",
							"    .dataframe thead th {\n",
							"        text-align: right;\n",
							"    }\n",
							"</style>\n",
							"<table border=\"1\" class=\"dataframe\">\n",
							"  <thead>\n",
							"    <tr style=\"text-align: right;\">\n",
							"      <th></th>\n",
							"      <th>activeWord</th>\n",
							"      <th>lastChar</th>\n",
							"      <th>acc</th>\n",
							"    </tr>\n",
							"  </thead>\n",
							"  <tbody>\n",
							"    <tr>\n",
							"      <th>0</th>\n",
							"      <td>ninth</td>\n",
							"      <td>n</td>\n",
							"      <td>1.000000</td>\n",
							"    </tr>\n",
							"    <tr>\n",
							"      <th>1</th>\n",
							"      <td>ninth</td>\n",
							"      <td>i</td>\n",
							"      <td>1.000000</td>\n",
							"    </tr>\n",
							"    <tr>\n",
							"      <th>2</th>\n",
							"      <td>ninth</td>\n",
							"      <td>n</td>\n",
							"      <td>1.000000</td>\n",
							"    </tr>\n",
							"    <tr>\n",
							"      <th>3</th>\n",
							"      <td>ninth</td>\n",
							"      <td>t</td>\n",
							"      <td>1.000000</td>\n",
							"    </tr>\n",
							"    <tr>\n",
							"      <th>4</th>\n",
							"      <td>ninth</td>\n",
							"      <td>h</td>\n",
							"      <td>1.000000</td>\n",
							"    </tr>\n",
							"    <tr>\n",
							"      <th>5</th>\n",
							"      <td>ninth</td>\n",
							"      <td></td>\n",
							"      <td>1.000000</td>\n",
							"    </tr>\n",
							"    <tr>\n",
							"      <th>6</th>\n",
							"      <td>droop</td>\n",
							"      <td>c</td>\n",
							"      <td>1.166667</td>\n",
							"    </tr>\n",
							"    <tr>\n",
							"      <th>7</th>\n",
							"      <td>droop</td>\n",
							"      <td>d</td>\n",
							"      <td>1.166667</td>\n",
							"    </tr>\n",
							"    <tr>\n",
							"      <th>8</th>\n",
							"      <td>droop</td>\n",
							"      <td>r</td>\n",
							"      <td>1.166667</td>\n",
							"    </tr>\n",
							"    <tr>\n",
							"      <th>9</th>\n",
							"      <td>droop</td>\n",
							"      <td>o</td>\n",
							"      <td>1.166667</td>\n",
							"    </tr>\n",
							"    <tr>\n",
							"      <th>10</th>\n",
							"      <td>droop</td>\n",
							"      <td>o</td>\n",
							"      <td>1.166667</td>\n",
							"    </tr>\n",
							"    <tr>\n",
							"      <th>11</th>\n",
							"      <td>droop</td>\n",
							"      <td>p</td>\n",
							"      <td>1.166667</td>\n",
							"    </tr>\n",
							"    <tr>\n",
							"      <th>12</th>\n",
							"      <td>droop</td>\n",
							"      <td></td>\n",
							"      <td>1.166667</td>\n",
							"    </tr>\n",
							"  </tbody>\n",
							"</table>\n",
							"</div>"
						],
						"text/plain": [
							"   activeWord lastChar       acc\n",
							"0      ninth         n  1.000000\n",
							"1      ninth         i  1.000000\n",
							"2      ninth         n  1.000000\n",
							"3      ninth         t  1.000000\n",
							"4      ninth         h  1.000000\n",
							"5      ninth            1.000000\n",
							"6      droop         c  1.166667\n",
							"7      droop         d  1.166667\n",
							"8      droop         r  1.166667\n",
							"9      droop         o  1.166667\n",
							"10     droop         o  1.166667\n",
							"11     droop         p  1.166667\n",
							"12     droop            1.166667"
						]
					},
					"execution_count": 16,
					"metadata": {},
					"output_type": "execute_result"
				}
			],
			"source": [
				"# Add column\n",
				"df['acc'] = NaN\n",
				"\n",
				"# Loop over the beginning of every word\n",
				"i = 0\n",
				"while i < len(df) - 1:\n",
				"\taw = df.activeWord.iloc[i]\n",
				"\n",
				"\tj = i + 1\n",
				"\tnaw = df.activeWord.iloc[j]\n",
				"\n",
				"\t# Find the end of the word\n",
				"\twhile j < len(df) - 1 and aw == naw:\n",
				"\t\tj += 1\n",
				"\t\tnaw = df.activeWord.iloc[j]\n",
				"\n",
				"\t# Set the column values in the word to the accuracy score\n",
				"\tfor k in range(i, j + 1): \n",
				"\t\tdf.at[k, 'acc'] = (j - i) / len(aw)\n",
				"\n",
				"\ti = j\n",
				"\n",
				"# Show results\n",
				"df[['activeWord', 'lastChar', 'acc']].head(13)"
			]
		},
		{
			"cell_type": "markdown",
			"metadata": {},
			"source": [
				"### Reach Length"
			]
		},
		{
			"attachments": {},
			"cell_type": "markdown",
			"metadata": {},
			"source": [
				"Like most keyboards, on my custom build, some of the keys are spaced further from the home row than others. While on the left hand, the keys for Q, W, F, and P are just one row up, keys like B and its corresponding key on the right hand, J, require the index finger to move up and to the left in order to press it.   "
			]
		},
		{
			"attachments": {},
			"cell_type": "markdown",
			"metadata": {},
			"source": [
				"Values in the __reachLength__ column represent the distance of the key to the nearest key on the home row plus 1. These values must be augmented by 1 because they will eventually be the divisor in the __aggregate score__. Since they are diagonal to the home row, keys like B, J, V, and K, require an index finger to move $\\sqrt{2}$ times the vertical distance between keys, so they would have a __reachLength__ score of 2.4. Likewise for keys that require either of the shift keys to be pressed, an extra 2.4 must be added to their __reachLength__ because the shift keys are 1.4 units away from the pinkies.  "
			]
		},
		{
			"attachments": {},
			"cell_type": "markdown",
			"metadata": {},
			"source": [
				"Symbol keys, like _, -, +, and =, require a combination of the left shift and the first row of the right board, which are 2 units from the home row, so their total is 5.4. Commas are typed with left shift and period key which is 1 unit from the home row, so it gets a value of 4.4. Question marks and exclamation points are both mapped to the combination of the 1 key and the left and right shift keys, respectively. This means that ! costs the same movement as +, -, or =, but ? costs 7, because it requires the left pinky to move to the left shift, 1.4 units, and the left ring finger to move to the 1 key or 3.6 units. "
			]
		},
		{
			"attachments": {},
			"cell_type": "markdown",
			"metadata": {},
			"source": [
				"Other keys, like <, >, or |, are triggered by a thumb key and either a home row key, or a key beneath the home row. Thumb keys are placed in a natural resting position, like home row keys, so < and > have the same __reachLengths__ as z, x, c, or d. Being triggered by the thumb key and the right pinky's home row key, means that the | has the same value as a home row key. "
			]
		},
		{
			"attachments": {},
			"cell_type": "markdown",
			"metadata": {},
			"source": [
				"$$\\text{reach length} = \\text{distance from home row} + 1$$"
			]
		},
		{
			"cell_type": "code",
			"execution_count": 17,
			"metadata": {},
			"outputs": [
				{
					"data": {
						"text/html": [
							"<div>\n",
							"<style scoped>\n",
							"    .dataframe tbody tr th:only-of-type {\n",
							"        vertical-align: middle;\n",
							"    }\n",
							"\n",
							"    .dataframe tbody tr th {\n",
							"        vertical-align: top;\n",
							"    }\n",
							"\n",
							"    .dataframe thead th {\n",
							"        text-align: right;\n",
							"    }\n",
							"</style>\n",
							"<table border=\"1\" class=\"dataframe\">\n",
							"  <thead>\n",
							"    <tr style=\"text-align: right;\">\n",
							"      <th></th>\n",
							"      <th>correctChar</th>\n",
							"      <th>reachLength</th>\n",
							"    </tr>\n",
							"  </thead>\n",
							"  <tbody>\n",
							"    <tr>\n",
							"      <th>0</th>\n",
							"      <td>n</td>\n",
							"      <td>1.0</td>\n",
							"    </tr>\n",
							"    <tr>\n",
							"      <th>1</th>\n",
							"      <td>i</td>\n",
							"      <td>1.0</td>\n",
							"    </tr>\n",
							"    <tr>\n",
							"      <th>2</th>\n",
							"      <td>n</td>\n",
							"      <td>1.0</td>\n",
							"    </tr>\n",
							"    <tr>\n",
							"      <th>3</th>\n",
							"      <td>t</td>\n",
							"      <td>1.0</td>\n",
							"    </tr>\n",
							"    <tr>\n",
							"      <th>4</th>\n",
							"      <td>h</td>\n",
							"      <td>2.0</td>\n",
							"    </tr>\n",
							"  </tbody>\n",
							"</table>\n",
							"</div>"
						],
						"text/plain": [
							"  correctChar  reachLength\n",
							"0           n          1.0\n",
							"1           i          1.0\n",
							"2           n          1.0\n",
							"3           t          1.0\n",
							"4           h          2.0"
						]
					},
					"execution_count": 17,
					"metadata": {},
					"output_type": "execute_result"
				}
			],
			"source": [
				"def reachLength(x):\n",
				"\t# Is the key more than 1 unit away\n",
				"\tchar = 'shiftReq' if x.lower() != x or x in [',', '-', '_', '+', '=', '!', '?'] else x\n",
				"\n",
				"\t# Is the key in the middle column\n",
				"\tif char in 'bvjk':\n",
				"\t\treturn 2.4\n",
				"\t# Does the key need a shift key\n",
				"\telif char == 'shiftReq':\n",
				"\t\tif x in ['_', '-', '+', '=', '!']:\n",
				"\t\t\treturn 5.4\n",
				"\t\telif x == '?':\n",
				"\t\t\treturn 7\n",
				"\t\telif x == ',':\n",
				"\t\t\treturn 4.4\n",
				"\t\t# Is the key a capital letter\n",
				"\t\treturn 2.4 + reachLength(x.lower())\n",
				"\t# Is the key on the home row\n",
				"\telif char in 'asrtnei;|':\n",
				"\t\treturn 1\n",
				"\t# Every other key\n",
				"\telse:\n",
				"\t\treturn 2\n",
				"\n",
				"# Apply the above function to the dataset\n",
				"df['reachLength'] = df.correctChar.apply(reachLength)\n",
				"\n",
				"# Show results\n",
				"df[['correctChar', 'reachLength']].head()"
			]
		},
		{
			"cell_type": "markdown",
			"metadata": {},
			"source": [
				"### Aggregate Typing Score"
			]
		},
		{
			"attachments": {},
			"cell_type": "markdown",
			"metadata": {},
			"source": [
				"Three of these datapoints will be aggregated into a single score that balances the difficulty of pressing the key and my accuracy and speed when I press it. If the speed or accuracy were to be analyzed independently, the fact that farther keys taking more time to press would be overlooked. Consistency will not be added to the aggregate score because it is a derivative of the speed, however it will be observed along with the aggregate in the Analysis section."
			]
		},
		{
			"attachments": {},
			"cell_type": "markdown",
			"metadata": {},
			"source": [
				"The formula to derive the aggregate typing score will be the product of the accuracy and speed divided by the reach length. It is then multiplied by 100 to make the number more readable."
			]
		},
		{
			"attachments": {},
			"cell_type": "markdown",
			"metadata": {},
			"source": [
				"$$\\text{aggregate} = 100 \\times \\frac{\\text{accuracy} \\times \\text{speed}}{\\text{reach length}}"
			]
		},
		{
			"cell_type": "code",
			"execution_count": 18,
			"metadata": {},
			"outputs": [
				{
					"data": {
						"text/html": [
							"<div>\n",
							"<style scoped>\n",
							"    .dataframe tbody tr th:only-of-type {\n",
							"        vertical-align: middle;\n",
							"    }\n",
							"\n",
							"    .dataframe tbody tr th {\n",
							"        vertical-align: top;\n",
							"    }\n",
							"\n",
							"    .dataframe thead th {\n",
							"        text-align: right;\n",
							"    }\n",
							"</style>\n",
							"<table border=\"1\" class=\"dataframe\">\n",
							"  <thead>\n",
							"    <tr style=\"text-align: right;\">\n",
							"      <th></th>\n",
							"      <th>timestamp</th>\n",
							"      <th>activeWord</th>\n",
							"      <th>correctChar</th>\n",
							"      <th>ats</th>\n",
							"    </tr>\n",
							"  </thead>\n",
							"  <tbody>\n",
							"    <tr>\n",
							"      <th>0</th>\n",
							"      <td>2022-12-12 07:45:16.438</td>\n",
							"      <td>ninth</td>\n",
							"      <td>n</td>\n",
							"      <td>NaN</td>\n",
							"    </tr>\n",
							"    <tr>\n",
							"      <th>1</th>\n",
							"      <td>2022-12-12 07:45:16.527</td>\n",
							"      <td>ninth</td>\n",
							"      <td>i</td>\n",
							"      <td>8.9</td>\n",
							"    </tr>\n",
							"    <tr>\n",
							"      <th>2</th>\n",
							"      <td>2022-12-12 07:45:16.650</td>\n",
							"      <td>ninth</td>\n",
							"      <td>n</td>\n",
							"      <td>12.3</td>\n",
							"    </tr>\n",
							"    <tr>\n",
							"      <th>3</th>\n",
							"      <td>2022-12-12 07:45:16.881</td>\n",
							"      <td>ninth</td>\n",
							"      <td>t</td>\n",
							"      <td>23.1</td>\n",
							"    </tr>\n",
							"    <tr>\n",
							"      <th>4</th>\n",
							"      <td>2022-12-12 07:45:17.005</td>\n",
							"      <td>ninth</td>\n",
							"      <td>h</td>\n",
							"      <td>6.2</td>\n",
							"    </tr>\n",
							"  </tbody>\n",
							"</table>\n",
							"</div>"
						],
						"text/plain": [
							"                timestamp activeWord correctChar   ats\n",
							"0 2022-12-12 07:45:16.438     ninth            n   NaN\n",
							"1 2022-12-12 07:45:16.527     ninth            i   8.9\n",
							"2 2022-12-12 07:45:16.650     ninth            n  12.3\n",
							"3 2022-12-12 07:45:16.881     ninth            t  23.1\n",
							"4 2022-12-12 07:45:17.005     ninth            h   6.2"
						]
					},
					"execution_count": 18,
					"metadata": {},
					"output_type": "execute_result"
				}
			],
			"source": [
				"# Following the formula to generate the column\n",
				"df['ats'] = df.acc.mul(df.cps).div(df.reachLength) * 100\n",
				"\n",
				"# Showing results\n",
				"df[['timestamp', 'activeWord', 'correctChar', 'ats']].head()"
			]
		},
		{
			"attachments": {},
			"cell_type": "markdown",
			"metadata": {},
			"source": [
				"## Performance Analysis"
			]
		},
		{
			"attachments": {},
			"cell_type": "markdown",
			"metadata": {},
			"source": [
				"The most pertinent features have now been extracted from the raw dataset now, so we can begin to analyze them. First, we'll take a look at the distribution of values in the speed column."
			]
		},
		{
			"attachments": {},
			"cell_type": "markdown",
			"metadata": {},
			"source": [
				"### Required Imports"
			]
		},
		{
			"cell_type": "code",
			"execution_count": 19,
			"metadata": {},
			"outputs": [],
			"source": [
				"from statsmodels.stats.weightstats import ztest\n",
				"from seaborn import regplot"
			]
		},
		{
			"attachments": {},
			"cell_type": "markdown",
			"metadata": {},
			"source": [
				"### Typing Score and Character Count"
			]
		},
		{
			"attachments": {},
			"cell_type": "markdown",
			"metadata": {},
			"source": [
				"My initial assumption was that, on average, speed would be inversely proportional to the character count of the test. After all, more characters to type means that more mistakes can occur, causing a movement from the home row to the delete key, which is slower than if the character was typed correctly. As a product, typing score would also be inversely proportional to the number of letters in the test. However, the graph below shows that the mean typing score of each of the tests taken has a weak correlation to the number of characters in the test."
			]
		},
		{
			"cell_type": "code",
			"execution_count": 20,
			"metadata": {},
			"outputs": [
				{
					"name": "stdout",
					"output_type": "stream",
					"text": [
						"Mean ATS vs Count Correlation: 0.06551472962575113\n"
					]
				},
				{
					"data": {
						"image/png": "[encoded data removed]",
						"text/plain": [
							"<Figure size 640x480 with 1 Axes>"
						]
					},
					"metadata": {},
					"output_type": "display_data"
				}
			],
			"source": [
				"# Group data by testNum\n",
				"groupTn = df.groupby('testNum')\n",
				"\n",
				"# Plot a scatter plot with a regression line\n",
				"reg = regplot(x='count', y='mean', data=groupTn.ats.describe(), scatter_kws={\n",
				"\t# Generate the colors for the graph\n",
				"\t'color': [langColors[df.language.iloc[ groupTn.indices[k][1] ]] + '80' for k in groupTn.indices]\n",
				"})\n",
				"reg.set_title('Mean ATS vs Character Count Per Typing Test')\n",
				"reg.set_xlabel('Character Count')\n",
				"reg.set_ylabel('Mean ATS')\n",
				"\n",
				"# Show the correlation\n",
				"print('Mean ATS vs Count Correlation:', groupTn.ats.describe().corr()['count'][1])"
			]
		},
		{
			"attachments": {},
			"cell_type": "markdown",
			"metadata": {},
			"source": [
				"_Scatter plot of mean ATS vs character count in each test, Red for English tests, Green for Code tests, Blue for French tests_"
			]
		},
		{
			"attachments": {},
			"cell_type": "markdown",
			"metadata": {},
			"source": [
				"There does not seem to be a strong correlation between typing score and character count, but the above graph does show that code tests generally had a higher typing score than other test language groups. This suggests that accuracy was lower or that speed was slower in these tests."
			]
		},
		{
			"cell_type": "code",
			"execution_count": 21,
			"metadata": {},
			"outputs": [
				{
					"data": {
						"text/plain": [
							"Text(0, 0.5, 'Mean ATS')"
						]
					},
					"execution_count": 21,
					"metadata": {},
					"output_type": "execute_result"
				},
				{
					"data": {
						"image/png": "[encoded data removed]",
						"text/plain": [
							"<Figure size 1000x500 with 2 Axes>"
						]
					},
					"metadata": {},
					"output_type": "display_data"
				}
			],
			"source": [
				"descGroupLang = df.groupby('language').ats.describe()\n",
				"\n",
				"fig, (ax1, ax) = subplots(1, 2, figsize=(10, 5))\n",
				"std = descGroupLang['std'].sort_values()\n",
				"mean = descGroupLang['mean'].sort_values()\n",
				"std.plot.bar(color=[langColors[x] for x in std.index], ax=ax)\n",
				"mean.plot.bar(color=[langColors[x] for x in mean.index], ax=ax1)\n",
				"\n",
				"ax.set_title('Standard Deviation of ATS vs Language')\n",
				"ax.set_xlabel('Language')\n",
				"ax.set_ylabel('Standard Deviation of ATS')\n",
				"\n",
				"ax1.set_title('Mean ATS vs Language')\n",
				"ax1.set_xlabel('Language')\n",
				"ax1.set_ylabel('Mean ATS')"
			]
		},
		{
			"attachments": {},
			"cell_type": "markdown",
			"metadata": {},
			"source": [
				"The preceding graph shows that coding language tests displayed a higher standard deviation when compared with other languages. C++, the language with the highest mean typing score and one of the highest amounts of variance, has a standard deviation that is more than 17% higher than the average standard deviation across all languages."
			]
		},
		{
			"cell_type": "code",
			"execution_count": 22,
			"metadata": {},
			"outputs": [
				{
					"name": "stdout",
					"output_type": "stream",
					"text": [
						"C++'s standard deviation for typing score: 17.02%\n"
					]
				}
			],
			"source": [
				"# C++'s standard deviation is more than 17% higher than the average\n",
				"print(f\"C++'s standard deviation for typing score: {round((std['code c++'] / std.mean() - 1) * 100, 3)}%\")"
			]
		},
		{
			"attachments": {},
			"cell_type": "markdown",
			"metadata": {},
			"source": [
				"### Speed, Accuracy, and Reach Length"
			]
		},
		{
			"attachments": {},
			"cell_type": "markdown",
			"metadata": {},
			"source": [
				"Since typing score is dependent on speed and accuracy, we will explore them now."
			]
		},
		{
			"attachments": {},
			"cell_type": "markdown",
			"metadata": {},
			"source": [
				"The higher than average variance and mean typing score attributed to coding language tests is likely because of the symbols used in those kinds of tests exclusively. Among the words that took the most time to complete relative to their length are those with symbols. For example, the word \"co_await\", which is found in the __code c++__ language test, took 4.76 seconds to type. That is about 56% longer than the average time for a word of its length."
			]
		},
		{
			"cell_type": "code",
			"execution_count": 33,
			"metadata": {},
			"outputs": [
				{
					"name": "stdout",
					"output_type": "stream",
					"text": [
						"Typed 1.22 times more letters than necessary in \"co_await\"\n",
						"Typed 1.14 times more letters than necessary on average\n",
						"Percent difference from mean: 7.3%\n",
						"\n",
						"Time to type \"co_await\": 4.757 sec\n",
						"Time to type average 8 letter word: 3.0401 sec\n",
						"Percent difference from mean: 56.48%\n"
					]
				}
			],
			"source": [
				"# Capture rows v - x to v + x\n",
				"def surrounding(x, v):\n",
				"\treturn [ x - v + i for i in range(v * 2 + 1)]\n",
				"\n",
				"# Collect and sum the accuracy of the word co_await\n",
				"co_await = df.iloc[surrounding(16648, 5)]\n",
				"print(f'Typed {round(co_await.acc.mean(), 2)} times more letters than necessary in \"co_await\"') \n",
				"\n",
				"# Generate the average accuracy of a 8 letter word + a space\n",
				"words = df[df.activeWord.str.len() == 9]\n",
				"print(f'Typed {round(words.acc.mean(), 2)} times more letters than necessary on average')\n",
				"print(f'Percent difference from mean: {round((co_await.acc.mean() - words.acc.mean()) * 100 / words.acc.mean(), 2)}%\\n')\n",
				"mean = round(words.cps.mean() * 9, 4)\n",
				"co_await = co_await.cps.sum()\n",
				"\n",
				"\n",
				"# Print findings\n",
				"print('Time to type \"co_await\":', co_await, 'sec')\n",
				"print('Time to type average 8 letter word:', mean, 'sec')\n",
				"print(f'Percent difference from mean: {round((co_await - mean) * 100 / mean, 2)}%')"
			]
		},
		{
			"attachments": {},
			"cell_type": "markdown",
			"metadata": {},
			"source": [
				"\"co_await\"'s high typing score is likely due to the speed because its accuracy was within one standard deviation of the accuracy distribution."
			]
		},
		{
			"cell_type": "code",
			"execution_count": 34,
			"metadata": {},
			"outputs": [
				{
					"name": "stdout",
					"output_type": "stream",
					"text": [
						"-sigma < \"co_await\" accuracy mean < +sigma\n",
						"0.95 < 1.22 < 1.33\n"
					]
				}
			],
			"source": [
				"d = words.acc.describe()\n",
				"print('-sigma < \"co_await\" accuracy mean < +sigma')\n",
				"print(round(d['mean'] - d['std'], 2), '<', round(df.iloc[surrounding(16648, 5)].acc.mean(), 2), '<', round(d['mean'] + d['std'], 2))"
			]
		},
		{
			"attachments": {},
			"cell_type": "markdown",
			"metadata": {},
			"source": [
				"\"co_await\" took a longer than the average 8 letter word with symbols, but the average word in its class still takes more than 40% longer to type than the mean."
			]
		},
		{
			"cell_type": "code",
			"execution_count": 40,
			"metadata": {},
			"outputs": [
				{
					"name": "stdout",
					"output_type": "stream",
					"text": [
						"Time to type average 8 letter word with symbols: 4.28 sec\n",
						"Percent difference from mean: 40.785%\n"
					]
				}
			],
			"source": [
				"# Collect the words with special characters\n",
				"wordsWithSpecials = []\n",
				"for x in df[df.activeWord.str.len() == 9].groupby('activeWord').indices.keys():\n",
				"\tfor y in ['_', '-', '+', '=', '(', ')', '|', '<', '>', '.', ',']:\n",
				"\t\tif y in x:\n",
				"\t\t\twordsWithSpecials += [x]\n",
				"\t\t\tbreak\n",
				"wordsWithSpecials = df[df.activeWord.isin(wordsWithSpecials)]\n",
				"\n",
				"# Generate the average time to type an 8 letter word with symbols + a space\n",
				"symbols = round(wordsWithSpecials.cps.mean() * 9, 2)\n",
				"print('Time to type average 8 letter word with symbols:', symbols, 'sec')\n",
				"print(f'Percent difference from mean: {round((symbols - mean) * 100/ mean, 3)}%')\n"
			]
		},
		{
			"attachments": {},
			"cell_type": "markdown",
			"metadata": {},
			"source": [
				"This discrepancy is likely due to the greater than average __reachLength__ words with symbols have. 8 letter words with symbols have an average __reachLength__ of 3.2 units, versus normal words' 1.6 units."
			]
		},
		{
			"cell_type": "code",
			"execution_count": 24,
			"metadata": {},
			"outputs": [
				{
					"name": "stdout",
					"output_type": "stream",
					"text": [
						"Mean reach length with symbols: 3.190825688073394 units\n",
						"Mean reach length: 1.5677419354838709 units\n"
					]
				}
			],
			"source": [
				"# Compare mean reachLengths\n",
				"print(f'Mean reach length with symbols: {wordsWithSpecials.reachLength.mean()} units')\n",
				"print(f'Mean reach length: {words.reachLength.mean()} units')"
			]
		},
		{
			"attachments": {},
			"cell_type": "markdown",
			"metadata": {},
			"source": [
				"Some words in the code language sets are in camel case which require movements on and off the shift keys, in rapid succession. JavaScript has contains most of these words, which is likely why it has the highest mean cps."
			]
		},
		{
			"attachments": {},
			"cell_type": "markdown",
			"metadata": {},
			"source": [
				"## Classification"
			]
		},
		{
			"attachments": {},
			"cell_type": "markdown",
			"metadata": {},
			"source": [
				"The ultimate object of this effort is to identify features that will yield the greatest gain in typing score when practiced. Although we have established that language features have a substantial effect on the "
			]
		},
		{
			"cell_type": "markdown",
			"metadata": {},
			"source": [
				"## Remove later\n"
			]
		},
		{
			"cell_type": "code",
			"execution_count": 41,
			"metadata": {},
			"outputs": [
				{
					"name": "stdout",
					"output_type": "stream",
					"text": [
						"[NbConvertApp] Converting notebook main.ipynb to html\n",
						"[NbConvertApp] Writing 1083560 bytes to docs/index.html\n"
					]
				}
			],
			"source": [
				"!jupyter nbconvert --to html main.ipynb --output-dir='docs' --output='index.html'"
			]
		}
	],
	"metadata": {
		"kernelspec": {
			"display_name": "Python 3",
			"language": "python",
			"name": "python3"
		},
		"language_info": {
			"codemirror_mode": {
				"name": "ipython",
				"version": 3
			},
			"file_extension": ".py",
			"mimetype": "text/x-python",
			"name": "python",
			"nbconvert_exporter": "python",
			"pygments_lexer": "ipython3",
			"version": "3.10.7"
		},
		"orig_nbformat": 4,
		"vscode": {
			"interpreter": {
				"hash": "aee8b7b246df8f9039afb4144a1f6fd8d2ca17a180786b69acc140d282b71a49"
			}
		}
	},
	"nbformat": 4,
	"nbformat_minor": 2
}
