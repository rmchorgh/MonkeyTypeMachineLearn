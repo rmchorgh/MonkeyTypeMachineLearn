{
	"cells": [
		{
			"cell_type": "markdown",
			"metadata": {},
			"source": [
				"<style type=\"text/css\">\n",
				"\t.myimg {\n",
				"\t\tmax-width: 500px !important;\n",
				"\t}\n",
				"</style>\n"
			]
		},
		{
			"cell_type": "markdown",
			"metadata": {},
			"source": [
				"# Monkey Type Machine Learn\n",
				"\n",
				"**A Project by Richard McHorgh**\n"
			]
		},
		{
			"cell_type": "markdown",
			"metadata": {},
			"source": [
				"## Introduction\n"
			]
		},
		{
			"cell_type": "markdown",
			"metadata": {},
			"source": [
				"In the middle of October, inspired by YouTube creators, namely [Ben Vallack](https://www.youtube.com/benvallack), I began designing the printed circuit boards (PCBs), keycaps, and case plates that would eventually become the ortholinear, split, and thumb-maximizing keyboard I’m using to type this report. I thought it would be the perfect present for my birthday, but the main reason for starting this project was to protect my hands and wrists from the threat of carpal tunnel syndrome and other diseases like it.\n"
			]
		},
		{
			"cell_type": "markdown",
			"metadata": {},
			"source": [
				"Unlike the traditional row-staggered layout one would find on the majority of laptop and store-bought keyboards, ortholinear keyboards arrange the keys in a strict grid matrix. This allows for a more ergonomic and efficient typing experience, as each key is positioned directly under the finger that would normally press it, rather than back and shifted to the left or right by an arbitrary amount, thereby reducing strain on the fingers and wrists, and the risk of injuries such as carpal tunnel syndrome.\n"
			]
		},
		{
			"cell_type": "markdown",
			"metadata": {},
			"source": [
				"<img class='myimg' alt='A picture of the completed keyboard' src='/Users/richard/Documents/umd/cmsc320/final/img/kb_hat.jpg'/>\n",
				"\n",
				"*A picture of the completed keyboard*"
			]
		},
		{
			"cell_type": "markdown",
			"metadata": {},
			"source": [
				"Furthermore, strain on the fingers, wrists, and back is reduced by the keyboard being split into halves between the positions of the 5 and 6 keys. Traditional keyboards require their users’ hands to be unnaturally close together, forcing their wrists to be at an angle, whereas, with a split keyboard, one’s hands can be straight and as far apart as the cable joining the two halves allows. Arms being in their natural position translates to hands being straight and in as comfortable of a position as possible, especially during long typing sessions.\n"
			]
		},
		{
			"cell_type": "markdown",
			"metadata": {},
			"source": [
				"<img class='myimg' src='/Users/richard/Documents/umd/cmsc320/final/img/strain.jpg'/>\n",
				"\n",
				"_Hand angles while using a row staggered keyboard and a split keyboard_"
			]
		},
		{
			"cell_type": "markdown",
			"metadata": {},
			"source": [
				"The third ergonomic feature of the design are the programmable thumb clusters found on the last row of each half of the keyboard. Row staggered keyboards only use the operator’s thumbs for the spacebar, so to perform shortcuts with the Control, Command, Alt, or any other non-alphanumeric keys, hands must be moved off the keyboard. Each time the user’s fingers move off the home row introduces more strain. This strain is compounded when the entire hand must be moved to type a key. With a programmable thumb cluster, all movement (Up, Left, Home, etc.), page management (Alt-Tab), and text manipulation (Undo, Cut, Paste, etc.) shortcuts can be performed without lifting the hands from either half of the keyboard.\n"
			]
		},
		{
			"cell_type": "markdown",
			"metadata": {},
			"source": [
				"All the ergonomic design features of the keyboard would be less effective without a layout that can magnify them, so instead of the traditional QWERTY keyboard layout, my keyboard was programmed to use a slightly modified version of the Colemak-DHM layout that I named SemiColemak. Standard Colemak-DHM places letters on the keyboard by their frequency in English words and the relative strength of the finger that is meant to press them. The more common the letter, the stronger the finger above it. Contrarily, QWERTY is organized to minimize the jams of a typewriter, which is nonsensical in an era of electrically controlled keyboards.\n"
			]
		},
		{
			"cell_type": "markdown",
			"metadata": {},
			"source": [
				"However, due to QWERTY’s ubiquity, it was the keyboard layout I learned to type on in elementary school. Text manipulation shortcuts are based on the QWERTY layout as well, so SemiColemak’s proximity to QWERTY, with 11 keys in the same position, including z, x, c, and v, make it easier to learn compared to other ergonomic layouts such as Dvorak or Workman.\n"
			]
		},
		{
			"cell_type": "markdown",
			"metadata": {},
			"source": [
				"Although SemiColemak is among the easiest layouts for a transition from QWERTY, the relearning process has been as strenuous for my muscle memory as QWERTY was for my hands and wrists. Even now, in my third week of solely using the keyboard, my typing speed in SemiColemak is barely approaching half of my average on QWERTY.\n"
			]
		},
		{
			"cell_type": "markdown",
			"metadata": {},
			"source": [
				"The object of this tutorial is to identify the points of error in typing the words that I use most frequently and use that data to classify words featuring my weaknesses. Practicing this set of words, and other words that will help to increase my speed and accuracy typing on my keyboard.\n"
			]
		},
		{
			"cell_type": "markdown",
			"metadata": {},
			"source": [
				"## Collecting the raw data\n"
			]
		},
		{
			"cell_type": "markdown",
			"metadata": {},
			"source": [
				"As well as being the inspiration for this project's name, the competitive type racing website, Monkey See Monkey Type, which is generally abbreviated to Monkey Type, is the source of the data used in this project. By inserting the JavaScript keylogger written below into the Developer Mode Console in a browser, I was able to record the letter I pressed, the letter I should have pressed, and the source of the text, among other datapoints.\n"
			]
		},
		{
			"cell_type": "code",
			"execution_count": null,
			"metadata": {},
			"outputs": [],
			"source": [
				"%pycat data/scrape.js"
			]
		},
		{
			"cell_type": "markdown",
			"metadata": {},
			"source": [
				"The data scraped from the above function is then sent to the Deno localhost webserver transcribed below. Once the POST request is received, the webserver appends it to a comma separated table. If you would like to use this code to analyze your own typing, make sure to start the Deno server before sending any data from the keylogger script.\n"
			]
		},
		{
			"cell_type": "code",
			"execution_count": null,
			"metadata": {},
			"outputs": [],
			"source": [
				"%pycat data/save.ts"
			]
		},
		{
			"cell_type": "markdown",
			"metadata": {},
			"source": [
				"## Understanding the data\n"
			]
		},
		{
			"cell_type": "markdown",
			"metadata": {},
			"source": [
				"### Required Imports \n"
			]
		},
		{
			"cell_type": "code",
			"execution_count": 28,
			"metadata": {},
			"outputs": [],
			"source": [
				"from pandas import read_csv\n",
				"from matplotlib.pyplot import subplots"
			]
		},
		{
			"cell_type": "code",
			"execution_count": 6,
			"metadata": {},
			"outputs": [
				{
					"data": {
						"text/plain": [
							"english            9815\n",
							"english 1k         2030\n",
							"english 5k         1717\n",
							"wordle             1486\n",
							"code python        1261\n",
							"english 10k         864\n",
							"french              846\n",
							"code javascript     670\n",
							"code c++            574\n",
							"code swift          474\n",
							"code kotlin         269\n",
							"english 450k        231\n",
							"wordle 1k           190\n",
							"Name: language, dtype: int64"
						]
					},
					"execution_count": 6,
					"metadata": {},
					"output_type": "execute_result"
				}
			],
			"source": [
				"df = read_csv(\"data/data.csv\", keep_default_na=False)"
			]
		},
		{
			"cell_type": "markdown",
			"metadata": {},
			"source": [
				"### N-Grams\n"
			]
		},
		{
			"cell_type": "markdown",
			"metadata": {},
			"source": [
				"Although it rarely outputs actual words, the __Pseudolang__ funbox option generates words by algorithmically combining the common n-grams of the selected language. An n-gram is a sequence of two adjacent elements from a collection of tokens, and in this context, they are the likeliest letter sets. In English, some of the most common bigrams, or 2-grams, include:\n",
				"\n",
				"-   th\n",
				"-   he\n",
				"-   in\n",
				"-   er\n",
				"-   an\n",
				"-   re\n",
				"-   nd\n",
				"-   at\n",
				"-   on\n",
				"-   nt\n"
			]
		},
		{
			"cell_type": "markdown",
			"metadata": {},
			"source": [
				"Ingraining frequent n-grams into muscle memory is crucial to improving typing accuracy and speed. SemiColemak positions a few of these bigrams near each other, specifically in, he, at, and on, but underneath different fingers of the same hand. By avoiding the use of the same finger to type the n-gram, one can prime the finger assigned to the next letter in the sequence before the key is actually pressed, and as a product, decrease the time needed to type the whole word.\n"
			]
		},
		{
			"cell_type": "markdown",
			"metadata": {},
			"source": [
				"<img class='myimg' src='/Users/richard/Documents/umd/cmsc320/final/img/kb_legend.jpg'/>\n",
				"\n",
				"_An image of the legend of the keyboard_"
			]
		},
		{
			"cell_type": "code",
			"execution_count": null,
			"metadata": {},
			"outputs": [],
			"source": [
				"# Calculate the percentage of words with a listed n-gram in the entire dataset\n",
				"\n",
				"ngrams = [\"er\", \"re\", \"th\", \"in\",\"an\", \"at\", \"he\", \"on\", \"nd\",  \"nt\"]\n",
				"for x in ngrams:\n",
				"    print(\n",
				"        f\"Percentage of rows with {x} bigram:\\t{round(len(df[df.activeWord.str.contains(x)]) * 100 / len(df))}%\"\n",
				"    )\n"
			]
		},
		{
			"cell_type": "markdown",
			"metadata": {},
			"source": [
				"### Languages\n"
			]
		},
		{
			"cell_type": "markdown",
			"metadata": {},
			"source": [
				"Monkey Type can generate typing tests in many different languages, so, in order to emulate the words that I use from day to day, [PERCENTAGE] of the tests that I took were comprised of English words, but since I write a lot of Python, JavaScript, and Swift, as well as French and Rust, to a lesser degree, those languages were added to the test mix."
			]
		},
		{
			"cell_type": "markdown",
			"metadata": {},
			"source": [
				"Since all of the programming languages included use English-based syntax, they share many of the n-grams with English, however regular English does not train your fingers for coding paradigms like camel or snake case or using parentheses, equal signs, or comparators frequently."
			]
		},
		{
			"cell_type": "code",
			"execution_count": null,
			"metadata": {},
			"outputs": [],
			"source": [
				"# Words generated in all of the languages included in the dataset\n",
				"\n",
				"df.iloc[[300, 1770, 19386, 9141, 3307, 8967]]"
			]
		},
		{
			"cell_type": "code",
			"execution_count": 49,
			"metadata": {},
			"outputs": [
				{
					"data": {
						"text/plain": [
							"<AxesSubplot:ylabel='language'>"
						]
					},
					"execution_count": 49,
					"metadata": {},
					"output_type": "execute_result"
				},
				{
					"data": {
						"image/png": "[encoded data removed]",
						"text/plain": [
							"<Figure size 1300x800 with 1 Axes>"
						]
					},
					"metadata": {},
					"output_type": "display_data"
				}
			],
			"source": [
				"v = df.language.value_counts()\n",
				"\n",
				"colors = [0] * 3\n",
				"def pickColor(x):\n",
				"\tif 'code' in x:\n",
				"\t\tcolors[0] += 1\n",
				"\t\treturn '#' + ''.join([ hex(c - (12 * colors[0]))[2:] for c in [0x40, 0xd7, 0x43] ])\n",
				"\tif 'english' in x or 'wordle' in x:\n",
				"\t\tcolors[1] += 1\n",
				"\t\treturn '#' + ''.join([ hex(c - (12 * colors[1]))[2:] for c in [0xea, 0x5b, 0x5b] ])\n",
				"\tif 'french' in x:\n",
				"\t\tcolors[2] += 1\n",
				"\t\treturn '#' + ''.join([ hex(c - (12 * colors[2]))[2:] for c in [0x43, 0xa1, 0xd7] ])\n",
				"\n",
				"v.plot.pie(figsize=(13, 8), colors=[pickColor(x) for x in v.index], labels=v.index, autopct=lambda x: f'{round(x, 1)}% {int(x * v.sum() / 100)} values')\n",
				"\n"
			]
		},
		{
			"cell_type": "markdown",
			"metadata": {},
			"source": [
				"### Punctuation \n"
			]
		},
		{
			"cell_type": "markdown",
			"metadata": {},
			"source": [
				"When spoken languages are transcribed, punctuation marks are added. Monkey Type does not add these marks by default, so the **Quote** test mode, in addition to the **Wikipedia** and **Poetry** funbox options, were used to introduce them.\n"
			]
		},
		{
			"cell_type": "code",
			"execution_count": null,
			"metadata": {},
			"outputs": [],
			"source": [
				"# Words with punctuation\n",
				"\n",
				"df[df[\"activeWord\"].str.contains(\"'\")].head()"
			]
		},
		{
			"cell_type": "markdown",
			"metadata": {},
			"source": [
				"## Feature Engineering\n"
			]
		},
		{
			"cell_type": "markdown",
			"metadata": {},
			"source": [
				"### Required Imports \n"
			]
		},
		{
			"cell_type": "code",
			"execution_count": null,
			"metadata": {},
			"outputs": [],
			"source": [
				"from datetime import datetime as dt, timedelta\n",
				"from pandas import set_option"
			]
		},
		{
			"cell_type": "markdown",
			"metadata": {},
			"source": [
				"### Speed"
			]
		},
		{
			"cell_type": "markdown",
			"metadata": {},
			"source": [
				"Typing speed is calculated in characters per minute rather than the customary unit of measurement, words per minute. Since there is a high variance in the length of words, using wpm would require some sort averaging, which would invite loss of data. Measuring character per minute does not necessitate averaging because it relies on the smallest non-temporal piece of data, the character. "
			]
		},
		{
			"cell_type": "markdown",
			"metadata": {},
			"source": [
				"Character per minute is calculated by subtracting timestamps between two adjacent characters. This strategy works well when every letter typed is correct, however, since I am still learning, correctly typed characters inevitably precede mistypes. Instead of returning an accurate measurement of the useful characters typed per unit of time, it returns raw typing speed. To remedy this, the speed of incorrectly typed characters is replaced with the mean of over the active word."
			]
		},
		{
			"cell_type": "code",
			"execution_count": null,
			"metadata": {},
			"outputs": [],
			"source": [
				"# Converting timestamps to python's date object\n",
				"\n",
				"df.timestamp = df.timestamp.apply(lambda x: dt.fromisoformat(x[:-1]))\n",
				"df.head()"
			]
		},
		{
			"cell_type": "code",
			"execution_count": null,
			"metadata": {},
			"outputs": [],
			"source": [
				"# Subtract the intervals\n",
				"\n",
				"df[\"cpm\"] = df.timestamp\n",
				"df.cpm = df.cpm.sub(df.timestamp.shift())\n",
				"\n",
				"df[[\"timestamp\", \"lastChar\", \"cpm\"]].head()\n"
			]
		},
		{
			"cell_type": "markdown",
			"metadata": {},
			"source": [
				"The intervals between letters in the same word and in the same test are correct, but since tests were not taken consecutively, some intervals are much too large.\n",
				"\n"
			]
		},
		{
			"cell_type": "code",
			"execution_count": null,
			"metadata": {},
			"outputs": [],
			"source": [
				"df.iloc[[6829, 6830]] #[['timestamp', 'activeWord', 'cpm']]"
			]
		},
		{
			"cell_type": "markdown",
			"metadata": {},
			"source": [
				"Although these letters were recorded successively, moving my fingers from the _e_ to _o_ key to begin the word _old_ did not take 7 hours. To ensure accuracy of the data, the beginning of the interval must align with the start of each test."
			]
		},
		{
			"cell_type": "markdown",
			"metadata": {},
			"source": [
				"Word count tests are separated after the number of completed words reaches the value in the length column. Separating on complete words is important because Monkey Type allows the user to regenerate a new set of words if they decide that they have made too many mistakes with the current set."
			]
		},
		{
			"cell_type": "code",
			"execution_count": null,
			"metadata": {},
			"outputs": [],
			"source": [
				"df['testNum'] = 0\n",
				"df['incompleteWord'] = False\n",
				"\n",
				"# starting from the first row of words tests count the completed words\n",
				"wordCount = df[df.type == 'words']\n",
				"testLen = wordCount.at[0, 'length']\n",
				"\n",
				"word = wordCount.at[0, 'activeWord']\n",
				"queuedWord = word\n",
				"count = 0\n",
				"\n",
				"totalTests = 1\n",
				"\n",
				"rec = ''\n",
				"\n",
				"for i, (aw, lc, cc, l) in wordCount[['activeWord', 'lastChar', 'correctChar', 'length']].iterrows():\n",
				"\t# print(f'index {i} {aw} {lc}')\n",
				"\tdf.at[i, 'testNum'] = totalTests\n",
				"\n",
				"\tif word == '':\n",
				"\t\tword = aw\n",
				"\t\tqueuedWord = aw\n",
				"\t\n",
				"\tif queuedWord != aw:\n",
				"\t\trec += '\\{skip\\} '\n",
				"\t\t# print('queuedWord', queuedWord, 'aw', aw, 'word', word)\n",
				"\t\tdf.at[i-1, 'incompleteWord'] = True\n",
				"\t\tword = aw\n",
				"\t\tqueuedWord = aw\n",
				"\n",
				"\tif testLen == -1:\n",
				"\t\ttotalTests += 1\n",
				"\t\tif False and '\\{skip\\}' in rec:\n",
				"\t\t\tprint(f'{totalTests} -> {rec}')\n",
				"\n",
				"\t\trec = ''\n",
				"\t\ttestLen = l\n",
				"\n",
				"\tif lc == word[0].lower():\n",
				"\t\tword = word[1:]\n",
				"\n",
				"\tif word == '':\n",
				"\t\trec += f'{queuedWord} '\n",
				"\t\tcount += 1\n",
				"\n",
				"\tif count == testLen:\n",
				"\t\ttestLen = -1\n",
				"\t\tcount = 0\n",
				"\n",
				"totalTests"
			]
		},
		{
			"cell_type": "code",
			"execution_count": null,
			"metadata": {},
			"outputs": [],
			"source": [
				"for i, (cc, lc) in df[df.incompleteWord & (df.testNum > 77)][['correctChar', 'lastChar']].iterrows():\n",
				"\tlaw = df.at[i-1, 'activeWord']\n",
				"\tif law[-1] == cc:\n",
				"\t\tprint('li', i-1, 'law', law, 'cc', cc)"
			]
		},
		{
			"cell_type": "code",
			"execution_count": null,
			"metadata": {},
			"outputs": [],
			"source": [
				"set_option('display.max_rows', None)\n",
				"df[df.incompleteWord & (df.testNum > 77)][['testNum', 'correctChar', 'lastChar', 'activeWord']]"
			]
		},
		{
			"cell_type": "markdown",
			"metadata": {},
			"source": [
				"Timed tests are separated after the alotted time in the length column is reached. Splitting on complete words is not neccessary here as it is with word count tests because the timer may cut the user off from typing all the letters in a word."
			]
		},
		{
			"cell_type": "code",
			"execution_count": null,
			"metadata": {},
			"outputs": [],
			"source": []
		},
		{
			"cell_type": "markdown",
			"metadata": {},
			"source": [
				"### Consistency"
			]
		},
		{
			"cell_type": "markdown",
			"metadata": {},
			"source": [
				"### Accuracy"
			]
		},
		{
			"cell_type": "markdown",
			"metadata": {},
			"source": [
				"### Reach Length"
			]
		},
		{
			"cell_type": "markdown",
			"metadata": {},
			"source": [
				"### Aggregate Typing Score"
			]
		},
		{
			"cell_type": "markdown",
			"metadata": {},
			"source": [
				"## Analysis"
			]
		},
		{
			"cell_type": "markdown",
			"metadata": {},
			"source": [
				"## Remove later\n"
			]
		},
		{
			"cell_type": "code",
			"execution_count": null,
			"metadata": {},
			"outputs": [],
			"source": [
				"!jupyter nbconvert --to html main.ipynb --output-dir='docs' --output='index.html'"
			]
		}
	],
	"metadata": {
		"kernelspec": {
			"display_name": "Python 3.9.10 64-bit",
			"language": "python",
			"name": "python3"
		},
		"language_info": {
			"codemirror_mode": {
				"name": "ipython",
				"version": 3
			},
			"file_extension": ".py",
			"mimetype": "text/x-python",
			"name": "python",
			"nbconvert_exporter": "python",
			"pygments_lexer": "ipython3",
			"version": "3.9.10"
		},
		"orig_nbformat": 4,
		"vscode": {
			"interpreter": {
				"hash": "397704579725e15f5c7cb49fe5f0341eb7531c82d19f2c29d197e8b64ab5776b"
			}
		}
	},
	"nbformat": 4,
	"nbformat_minor": 2
}
